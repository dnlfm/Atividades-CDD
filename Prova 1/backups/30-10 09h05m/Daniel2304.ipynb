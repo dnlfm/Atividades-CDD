{
 "cells": [
  {
   "cell_type": "markdown",
   "metadata": {},
   "source": [
    "<h1>Prova 1 - Introdução à Ciência dos Dados</h1>\n",
    "<h3>Daniel Freitas Martins - 2304</h3>"
   ]
  },
  {
   "cell_type": "code",
   "execution_count": 642,
   "metadata": {},
   "outputs": [],
   "source": [
    "import pandas as pd\n",
    "import numpy as np\n",
    "from scipy import stats\n",
    "from scipy.stats import percentileofscore\n",
    "#from scipy.stats import shapiro # tem limitacao pra 5000 dados\n",
    "from scipy.stats import normaltest\n",
    "import matplotlib.pyplot as plt\n",
    "import seaborn as sns\n",
    "import operator\n",
    "import random\n",
    "from mlxtend.preprocessing import TransactionEncoder\n",
    "from mlxtend.frequent_patterns import apriori\n",
    "from mlxtend.frequent_patterns import association_rules"
   ]
  },
  {
   "cell_type": "code",
   "execution_count": 643,
   "metadata": {},
   "outputs": [],
   "source": [
    "def lerCSV(caminho_arquivo, header):\n",
    "    return pd.read_csv(caminho_arquivo, index_col=False, header=header, squeeze=True)"
   ]
  },
  {
   "cell_type": "markdown",
   "metadata": {},
   "source": [
    "<h2>Lendo dados de \"Filmes-Prova01.csv\", correspondentes a lista de filmes de quatro plataformas de <i>Streaming</i> (Netflix, Amazon Prime, Disney+ e Hulu)</h2>"
   ]
  },
  {
   "cell_type": "code",
   "execution_count": 644,
   "metadata": {},
   "outputs": [
    {
     "data": {
      "text/html": [
       "<div>\n",
       "<style scoped>\n",
       "    .dataframe tbody tr th:only-of-type {\n",
       "        vertical-align: middle;\n",
       "    }\n",
       "\n",
       "    .dataframe tbody tr th {\n",
       "        vertical-align: top;\n",
       "    }\n",
       "\n",
       "    .dataframe thead th {\n",
       "        text-align: right;\n",
       "    }\n",
       "</style>\n",
       "<table border=\"1\" class=\"dataframe\">\n",
       "  <thead>\n",
       "    <tr style=\"text-align: right;\">\n",
       "      <th></th>\n",
       "      <th>ID</th>\n",
       "      <th>Titulo</th>\n",
       "      <th>Ano</th>\n",
       "      <th>Classificacao_etaria</th>\n",
       "      <th>IMDb</th>\n",
       "      <th>Netflix</th>\n",
       "      <th>Hulu</th>\n",
       "      <th>Amazon_prime</th>\n",
       "      <th>Disney+</th>\n",
       "      <th>Diretores</th>\n",
       "      <th>Generos</th>\n",
       "      <th>Pais</th>\n",
       "      <th>Idioma</th>\n",
       "      <th>Duracao_min</th>\n",
       "    </tr>\n",
       "  </thead>\n",
       "  <tbody>\n",
       "    <tr>\n",
       "      <th>0</th>\n",
       "      <td>1</td>\n",
       "      <td>Inception</td>\n",
       "      <td>2010</td>\n",
       "      <td>13+</td>\n",
       "      <td>8.8</td>\n",
       "      <td>1</td>\n",
       "      <td>0</td>\n",
       "      <td>0</td>\n",
       "      <td>0</td>\n",
       "      <td>Christopher Nolan</td>\n",
       "      <td>Action,Adventure,Sci-Fi,Thriller</td>\n",
       "      <td>United States,United Kingdom</td>\n",
       "      <td>English,Japanese,French</td>\n",
       "      <td>148.0</td>\n",
       "    </tr>\n",
       "    <tr>\n",
       "      <th>1</th>\n",
       "      <td>2</td>\n",
       "      <td>The Matrix</td>\n",
       "      <td>1999</td>\n",
       "      <td>18+</td>\n",
       "      <td>8.7</td>\n",
       "      <td>1</td>\n",
       "      <td>0</td>\n",
       "      <td>0</td>\n",
       "      <td>0</td>\n",
       "      <td>Lana Wachowski,Lilly Wachowski</td>\n",
       "      <td>Action,Sci-Fi</td>\n",
       "      <td>United States</td>\n",
       "      <td>English</td>\n",
       "      <td>136.0</td>\n",
       "    </tr>\n",
       "    <tr>\n",
       "      <th>2</th>\n",
       "      <td>3</td>\n",
       "      <td>Avengers: Infinity War</td>\n",
       "      <td>2018</td>\n",
       "      <td>13+</td>\n",
       "      <td>8.5</td>\n",
       "      <td>1</td>\n",
       "      <td>0</td>\n",
       "      <td>0</td>\n",
       "      <td>0</td>\n",
       "      <td>Anthony Russo,Joe Russo</td>\n",
       "      <td>Action,Adventure,Sci-Fi</td>\n",
       "      <td>United States</td>\n",
       "      <td>English</td>\n",
       "      <td>149.0</td>\n",
       "    </tr>\n",
       "  </tbody>\n",
       "</table>\n",
       "</div>"
      ],
      "text/plain": [
       "   ID                  Titulo   Ano Classificacao_etaria  IMDb  Netflix  Hulu  \\\n",
       "0   1               Inception  2010                  13+   8.8        1     0   \n",
       "1   2              The Matrix  1999                  18+   8.7        1     0   \n",
       "2   3  Avengers: Infinity War  2018                  13+   8.5        1     0   \n",
       "\n",
       "   Amazon_prime  Disney+                       Diretores  \\\n",
       "0             0        0               Christopher Nolan   \n",
       "1             0        0  Lana Wachowski,Lilly Wachowski   \n",
       "2             0        0         Anthony Russo,Joe Russo   \n",
       "\n",
       "                            Generos                          Pais  \\\n",
       "0  Action,Adventure,Sci-Fi,Thriller  United States,United Kingdom   \n",
       "1                     Action,Sci-Fi                 United States   \n",
       "2           Action,Adventure,Sci-Fi                 United States   \n",
       "\n",
       "                    Idioma  Duracao_min  \n",
       "0  English,Japanese,French        148.0  \n",
       "1                  English        136.0  \n",
       "2                  English        149.0  "
      ]
     },
     "execution_count": 644,
     "metadata": {},
     "output_type": "execute_result"
    }
   ],
   "source": [
    "df = lerCSV(\"Filmes-Prova01.csv\", header=0)\n",
    "df.head(3)"
   ]
  },
  {
   "cell_type": "markdown",
   "metadata": {},
   "source": [
    "<h2>1) Quantos filmes cada uma das 4 plataformas possui? Faça um gráfico de barras para ilustrar esses valores</h2>"
   ]
  },
  {
   "cell_type": "code",
   "execution_count": 645,
   "metadata": {},
   "outputs": [
    {
     "name": "stdout",
     "output_type": "stream",
     "text": [
      "Quantidade de filmes em cada plataforma:\n",
      "\t- Netflix: 3560\n",
      "\t- Hulu: 903\n",
      "\t- Amazon Prime: 12354\n",
      "\t- Disney+: 564\n"
     ]
    },
    {
     "data": {
      "image/png": "[encoded data removed]",
      "text/plain": [
       "<Figure size 432x288 with 1 Axes>"
      ]
     },
     "metadata": {
      "needs_background": "light"
     },
     "output_type": "display_data"
    }
   ],
   "source": [
    "qtd_filmes_netflix = df['Netflix'].sum()\n",
    "qtd_filmes_hulu = df['Hulu'].sum()\n",
    "qtd_filmes_amazon = df['Amazon_prime'].sum()\n",
    "qtd_filmes_disney = df['Disney+'].sum()\n",
    "print(\"Quantidade de filmes em cada plataforma:\")\n",
    "print(\"\\t- Netflix:\", qtd_filmes_netflix)\n",
    "print(\"\\t- Hulu:\", qtd_filmes_hulu)\n",
    "print(\"\\t- Amazon Prime:\", qtd_filmes_amazon)\n",
    "print(\"\\t- Disney+:\", qtd_filmes_disney)\n",
    "fig = plt.figure()\n",
    "ax = fig.add_axes([0, 0, 1, 1])\n",
    "plataformas = ['Netflix', 'Hulu', 'Amazon Prime', 'Disney+']\n",
    "qtd_filmes_plataformas = [qtd_filmes_netflix, qtd_filmes_hulu,\n",
    "                         qtd_filmes_amazon, qtd_filmes_disney]\n",
    "ax.barh(plataformas, qtd_filmes_plataformas)\n",
    "for p in ax.patches:\n",
    "    ax.annotate(p.get_width(), (p.get_width()+5,p.get_y()))\n",
    "ax.set_ylabel('Plataforma')\n",
    "ax.set_xlabel('Número de filmes')\n",
    "plt.title('Plataforma X Número de filmes')\n",
    "plt.show()"
   ]
  },
  {
   "cell_type": "markdown",
   "metadata": {},
   "source": [
    "<h2>2) Quantos filmes estão em mais de uma plataforma?</h2>"
   ]
  },
  {
   "cell_type": "code",
   "execution_count": 646,
   "metadata": {},
   "outputs": [
    {
     "name": "stdout",
     "output_type": "stream",
     "text": [
      "Nº de filmes que estão em mais de uma plataforma: 627\n"
     ]
    }
   ],
   "source": [
    "qtd = 0\n",
    "for index, row in df.iterrows(): # iterando sobre todas as linhas\n",
    "    if(row['Netflix'] == 1): # se tiver em Netflix, avaliar se tem para algum outro\n",
    "        if(row['Hulu'] == 1 or row['Amazon_prime'] == 1 or row['Disney+'] == 1):\n",
    "            qtd+=1 # se tiver para Netflix e algum outro, soma 1\n",
    "            continue # vá para a próxima linha\n",
    "    if(row['Hulu'] == 1): # se tiver em Hulu, já sabemos que não tem em Netflix\n",
    "        if(row['Amazon_prime'] == 1 or row['Disney+'] == 1): # avaliando para os restantes\n",
    "            qtd+=1 # Analogamente, soma-se 1 se tiver para Hulu e outra plataforma\n",
    "            continue\n",
    "    if(row['Amazon_prime'] == 1):\n",
    "        if(row['Disney+'] == 1):\n",
    "            qtd+=1\n",
    "            continue\n",
    "print(\"Nº de filmes que estão em mais de uma plataforma:\", qtd)"
   ]
  },
  {
   "cell_type": "markdown",
   "metadata": {},
   "source": [
    "<h2>3) Qual a plataforma que possui a maior média de nota IMDb?</h2>"
   ]
  },
  {
   "cell_type": "code",
   "execution_count": 647,
   "metadata": {},
   "outputs": [],
   "source": [
    "df_filmes_netflix = df[df['Netflix'] == 1]\n",
    "df_filmes_hulu = df[df['Hulu'] == 1]\n",
    "df_filmes_amazon = df[df['Amazon_prime'] == 1]\n",
    "df_filmes_disney = df[df['Disney+'] == 1]"
   ]
  },
  {
   "cell_type": "code",
   "execution_count": 648,
   "metadata": {},
   "outputs": [],
   "source": [
    "def calcularMediaIMDb(df, nome_plataforma):\n",
    "    media = df['IMDb'].sum() / len(df)\n",
    "    print('Média de nota IMDb da plataforma', nome_plataforma, \"=\", media)\n",
    "    return media"
   ]
  },
  {
   "cell_type": "code",
   "execution_count": 649,
   "metadata": {},
   "outputs": [
    {
     "name": "stdout",
     "output_type": "stream",
     "text": [
      "Média de nota IMDb da plataforma Netflix = 6.04570224719101\n",
      "Média de nota IMDb da plataforma Hulu = 6.063344407530454\n",
      "Média de nota IMDb da plataforma Amazon Prime = 5.562570827262425\n",
      "Média de nota IMDb da plataforma Disney+ = 6.429964539007092\n",
      "\n",
      "A plataforma que possui maior média de nota IMDb é a Disney+, com uma média de aproximadamente 6.43.\n"
     ]
    }
   ],
   "source": [
    "media_netflix = calcularMediaIMDb(df_filmes_netflix, 'Netflix')\n",
    "media_hulu = calcularMediaIMDb(df_filmes_hulu, 'Hulu')\n",
    "media_amazon = calcularMediaIMDb(df_filmes_amazon, 'Amazon Prime')\n",
    "media_disney = calcularMediaIMDb(df_filmes_disney, 'Disney+')\n",
    "\n",
    "v = {'Netflix': media_netflix, 'Hulu': media_hulu, 'Amazon Prime': media_amazon, 'Disney+': media_disney}\n",
    "nome_plat = max(v.items(), key=operator.itemgetter(1))[0]\n",
    "\n",
    "print(\"\\nA plataforma que possui maior média de nota IMDb é a %s, com uma média de aproximadamente %.2f.\"%(nome_plat, v[nome_plat]))"
   ]
  },
  {
   "cell_type": "markdown",
   "metadata": {},
   "source": [
    "<h2>4) Qual o percentual de filmes de cada plataforma com nota IMDb maior que 8?</h2>"
   ]
  },
  {
   "cell_type": "code",
   "execution_count": 650,
   "metadata": {},
   "outputs": [],
   "source": [
    "def calcularPercentualNotaIMDb(df, nome_plataforma, limiar=8):\n",
    "    qtd = 0\n",
    "    for index, row in df.iterrows():\n",
    "        if(row['IMDb'] > 8):\n",
    "            qtd+=1\n",
    "    percentual = qtd/len(df)*100\n",
    "    print('\\t-', nome_plataforma, \"= {:.2f}%\".format(percentual))\n",
    "    return percentual"
   ]
  },
  {
   "cell_type": "code",
   "execution_count": 651,
   "metadata": {},
   "outputs": [
    {
     "name": "stdout",
     "output_type": "stream",
     "text": [
      "Percentual de filmes de cada plataforma com nota IMDb maior que 8:\n",
      "\t- Netflix = 3.62%\n",
      "\t- Hulu = 2.55%\n",
      "\t- Amazon Prime = 2.62%\n",
      "\t- Disney+ = 3.72%\n",
      "\n",
      "\n",
      "Disney+ possui um maior percentual de filmes com nota IMDb maior que 8.\n"
     ]
    }
   ],
   "source": [
    "print('Percentual de filmes de cada plataforma com nota IMDb maior que 8:')\n",
    "pnet = calcularPercentualNotaIMDb(df_filmes_netflix, \"Netflix\")\n",
    "phul = calcularPercentualNotaIMDb(df_filmes_hulu, \"Hulu\")\n",
    "pama = calcularPercentualNotaIMDb(df_filmes_amazon, \"Amazon Prime\")\n",
    "pdis = calcularPercentualNotaIMDb(df_filmes_disney, \"Disney+\")\n",
    "\n",
    "v = {'Netflix': pnet, 'Hulu': phul, 'Amazon Prime': pama, 'Disney+': pdis}\n",
    "nome_plat = max(v.items(), key=operator.itemgetter(1))[0]\n",
    "\n",
    "print('\\n')\n",
    "print(nome_plat, 'possui um maior percentual de filmes com nota IMDb maior que 8.')"
   ]
  },
  {
   "cell_type": "markdown",
   "metadata": {},
   "source": [
    "<h2>5) Se uma pessoa é uma apreciadora de filmes clássicos antigos, qual plataforma você mais recomenda? Justifique.</h2>"
   ]
  },
  {
   "cell_type": "code",
   "execution_count": 652,
   "metadata": {},
   "outputs": [
    {
     "name": "stdout",
     "output_type": "stream",
     "text": [
      "Nº filmes antigos Netflix: 123\n",
      "Nº filmes antigos Hulu: 52\n",
      "Nº filmes antigos Amazon Prime: 2881\n",
      "Nº filmes antigos Disney+: 133\n",
      "\n",
      "\n",
      "Amazon Prime possui um maior número de filmes antigos.\n"
     ]
    }
   ],
   "source": [
    "df_antigos = df[df['Ano'] <= 1990]\n",
    "qtd_antigos_netflix = df_antigos['Netflix'].sum()\n",
    "qtd_antigos_hulu = df_antigos['Hulu'].sum()\n",
    "qtd_antigos_amazon = df_antigos['Amazon_prime'].sum()\n",
    "qtd_antigos_disney = df_antigos['Disney+'].sum()\n",
    "print(\"Nº filmes antigos Netflix:\", qtd_antigos_netflix)\n",
    "print(\"Nº filmes antigos Hulu:\", qtd_antigos_hulu)\n",
    "print(\"Nº filmes antigos Amazon Prime:\", qtd_antigos_amazon)\n",
    "print(\"Nº filmes antigos Disney+:\", qtd_antigos_disney)\n",
    "\n",
    "v = {'Netflix': qtd_antigos_netflix, 'Hulu': qtd_antigos_hulu, 'Amazon Prime': qtd_antigos_amazon, 'Disney+': qtd_antigos_disney}\n",
    "nome_plat = max(v.items(), key=operator.itemgetter(1))[0]\n",
    "\n",
    "print('\\n')\n",
    "print(nome_plat, 'possui um maior número de filmes antigos.')"
   ]
  },
  {
   "cell_type": "markdown",
   "metadata": {},
   "source": [
    "<p>Considerando-se que os filmes antigos clássicos estão abaixo do ano de 1990 (inclusive), eu recomendaria a plataforma <b>Amazon Prime</b> por possuir um maior número de filmes antigos. Em comparação com Disney+, a Amazon Prime possui 20 vezes mais filmes antigos disponíveis para escolha.</p>"
   ]
  },
  {
   "cell_type": "markdown",
   "metadata": {},
   "source": [
    "<h2>6) Quantas categorias de classificação etária existem? Faça um gráfico de barras com a quantidade de filmes por classificação etária.</h2>"
   ]
  },
  {
   "cell_type": "code",
   "execution_count": 653,
   "metadata": {},
   "outputs": [
    {
     "data": {
      "text/plain": [
       "<bound method Series.unique of 0        13+\n",
       "1        18+\n",
       "2        13+\n",
       "3         7+\n",
       "4        18+\n",
       "        ... \n",
       "16739    NaN\n",
       "16740     7+\n",
       "16741    NaN\n",
       "16742    NaN\n",
       "16743    NaN\n",
       "Name: Classificacao_etaria, Length: 16744, dtype: object>"
      ]
     },
     "execution_count": 653,
     "metadata": {},
     "output_type": "execute_result"
    }
   ],
   "source": [
    "df_classificacao_unique = df['Classificacao_etaria'].unique\n",
    "df_classificacao_unique"
   ]
  },
  {
   "cell_type": "markdown",
   "metadata": {},
   "source": [
    "<p>Note que existem valores <b>NaN</b>. No entanto, vou considerar para ver também a quantidade de filmes que não possuem a classificação etária informada...</p>"
   ]
  },
  {
   "cell_type": "code",
   "execution_count": 654,
   "metadata": {},
   "outputs": [
    {
     "data": {
      "text/plain": [
       "array(['13+', '18+', '7+', nan, 'all', '16+'], dtype=object)"
      ]
     },
     "execution_count": 654,
     "metadata": {},
     "output_type": "execute_result"
    }
   ],
   "source": [
    "#df_classificacao_unique = df['Classificacao_etaria'].dropna().unique()\n",
    "df_classificacao_unique = df['Classificacao_etaria'].unique()\n",
    "df_classificacao_unique"
   ]
  },
  {
   "cell_type": "code",
   "execution_count": 655,
   "metadata": {},
   "outputs": [
    {
     "name": "stdout",
     "output_type": "stream",
     "text": [
      "- Existem 5 categorias de classificação etária diferentes nesta base de dados.\n",
      "\n",
      "- Existem filmes em que a categoria de classificação etária está ausente, como visto acima.\n"
     ]
    }
   ],
   "source": [
    "qtd_categorias_classificacao_etaria = len(df_classificacao_unique)\n",
    "print('- Existem', (qtd_categorias_classificacao_etaria-(1 if pd.isnull(df_classificacao_unique).any() else 0)), \n",
    "      'categorias de classificação etária diferentes nesta base de dados.\\n')\n",
    "print('- Existem filmes em que a categoria de classificação etária está ausente, como visto acima.')"
   ]
  },
  {
   "cell_type": "code",
   "execution_count": 656,
   "metadata": {},
   "outputs": [
    {
     "data": {
      "text/plain": [
       "{'13+': 1255,\n",
       " '18+': 3474,\n",
       " '7+': 1462,\n",
       " 'Não informado': 9390,\n",
       " 'all': 843,\n",
       " '16+': 320}"
      ]
     },
     "execution_count": 656,
     "metadata": {},
     "output_type": "execute_result"
    }
   ],
   "source": [
    "dict_somas = dict((el if el is not np.nan else 'Não informado',0) for el in df_classificacao_unique)\n",
    "for k in dict_somas:\n",
    "    if(k == 'Não informado'):\n",
    "        dict_somas[k] = len(df[pd.isnull(df['Classificacao_etaria'])])\n",
    "    else:\n",
    "        dict_somas[k] = len(df[df['Classificacao_etaria'] == k])\n",
    "#for index, row in df.iterrows():\n",
    "#    dict_somas[row['Classificacao_etaria'] if row['Classificacao_etaria'] is not np.nan else 'Não informado'] += 1\n",
    "dict_somas"
   ]
  },
  {
   "cell_type": "code",
   "execution_count": 657,
   "metadata": {},
   "outputs": [
    {
     "data": {
      "image/png": "[encoded data removed]",
      "text/plain": [
       "<Figure size 432x288 with 1 Axes>"
      ]
     },
     "metadata": {
      "needs_background": "light"
     },
     "output_type": "display_data"
    }
   ],
   "source": [
    "fig = plt.figure()\n",
    "ax = fig.add_axes([0, 0, 1, 1])\n",
    "classificacoes_etarias = list(dict_somas)\n",
    "qtd_filmes = list(dict_somas.values())\n",
    "ax.barh(classificacoes_etarias, qtd_filmes)\n",
    "for p in ax.patches:\n",
    "    ax.annotate(p.get_width(), (p.get_width()+5,p.get_y()))\n",
    "ax.set_ylabel('Classificação etária')\n",
    "ax.set_xlabel('Número de filmes')\n",
    "plt.title('Classificação etária X Número de filmes')\n",
    "plt.show()"
   ]
  },
  {
   "cell_type": "markdown",
   "metadata": {},
   "source": [
    "<p>Note que existe um número muito grande de filmes em que a classificação indicativa não está disponível. Isso pode ser um empecilho na hora de escolher determinados filmes para assistir com toda a família, por exemplo. Das cinco categorias, existem mais filmes adultos (18+) do que os demais.</p>"
   ]
  },
  {
   "cell_type": "markdown",
   "metadata": {},
   "source": [
    "<h2>7) Qual plataforma você mais indicaria para uma criança? Justifique.</h2>"
   ]
  },
  {
   "cell_type": "markdown",
   "metadata": {},
   "source": [
    "<p>L8069 - Planalto: Art. 2º Considera-se criança, para os efeitos desta Lei, a pessoa até doze anos de idade incompletos, e adolescente aquela entre doze e dezoito anos de idade. (http://www.planalto.gov.br/ccivil_03/leis/l8069.htm)</p>"
   ]
  },
  {
   "cell_type": "code",
   "execution_count": 658,
   "metadata": {},
   "outputs": [
    {
     "data": {
      "text/html": [
       "<div>\n",
       "<style scoped>\n",
       "    .dataframe tbody tr th:only-of-type {\n",
       "        vertical-align: middle;\n",
       "    }\n",
       "\n",
       "    .dataframe tbody tr th {\n",
       "        vertical-align: top;\n",
       "    }\n",
       "\n",
       "    .dataframe thead th {\n",
       "        text-align: right;\n",
       "    }\n",
       "</style>\n",
       "<table border=\"1\" class=\"dataframe\">\n",
       "  <thead>\n",
       "    <tr style=\"text-align: right;\">\n",
       "      <th></th>\n",
       "      <th>ID</th>\n",
       "      <th>Ano</th>\n",
       "      <th>IMDb</th>\n",
       "      <th>Netflix</th>\n",
       "      <th>Hulu</th>\n",
       "      <th>Amazon_prime</th>\n",
       "      <th>Disney+</th>\n",
       "      <th>Duracao_min</th>\n",
       "    </tr>\n",
       "    <tr>\n",
       "      <th>Classificacao_etaria</th>\n",
       "      <th></th>\n",
       "      <th></th>\n",
       "      <th></th>\n",
       "      <th></th>\n",
       "      <th></th>\n",
       "      <th></th>\n",
       "      <th></th>\n",
       "      <th></th>\n",
       "    </tr>\n",
       "  </thead>\n",
       "  <tbody>\n",
       "    <tr>\n",
       "      <th>13+</th>\n",
       "      <td>7854671</td>\n",
       "      <td>2520581</td>\n",
       "      <td>7610.0</td>\n",
       "      <td>383</td>\n",
       "      <td>119</td>\n",
       "      <td>819</td>\n",
       "      <td>40</td>\n",
       "      <td>126263.0</td>\n",
       "    </tr>\n",
       "    <tr>\n",
       "      <th>16+</th>\n",
       "      <td>2369560</td>\n",
       "      <td>644328</td>\n",
       "      <td>1759.3</td>\n",
       "      <td>89</td>\n",
       "      <td>17</td>\n",
       "      <td>226</td>\n",
       "      <td>1</td>\n",
       "      <td>29599.0</td>\n",
       "    </tr>\n",
       "    <tr>\n",
       "      <th>18+</th>\n",
       "      <td>25150626</td>\n",
       "      <td>6965709</td>\n",
       "      <td>19455.0</td>\n",
       "      <td>752</td>\n",
       "      <td>290</td>\n",
       "      <td>2612</td>\n",
       "      <td>3</td>\n",
       "      <td>331409.0</td>\n",
       "    </tr>\n",
       "    <tr>\n",
       "      <th>7+</th>\n",
       "      <td>11777371</td>\n",
       "      <td>2926728</td>\n",
       "      <td>8837.5</td>\n",
       "      <td>323</td>\n",
       "      <td>109</td>\n",
       "      <td>916</td>\n",
       "      <td>179</td>\n",
       "      <td>141755.0</td>\n",
       "    </tr>\n",
       "    <tr>\n",
       "      <th>all</th>\n",
       "      <td>8901648</td>\n",
       "      <td>1682715</td>\n",
       "      <td>5135.4</td>\n",
       "      <td>130</td>\n",
       "      <td>55</td>\n",
       "      <td>406</td>\n",
       "      <td>277</td>\n",
       "      <td>74747.0</td>\n",
       "    </tr>\n",
       "  </tbody>\n",
       "</table>\n",
       "</div>"
      ],
      "text/plain": [
       "                            ID      Ano     IMDb  Netflix  Hulu  Amazon_prime  \\\n",
       "Classificacao_etaria                                                            \n",
       "13+                    7854671  2520581   7610.0      383   119           819   \n",
       "16+                    2369560   644328   1759.3       89    17           226   \n",
       "18+                   25150626  6965709  19455.0      752   290          2612   \n",
       "7+                    11777371  2926728   8837.5      323   109           916   \n",
       "all                    8901648  1682715   5135.4      130    55           406   \n",
       "\n",
       "                      Disney+  Duracao_min  \n",
       "Classificacao_etaria                        \n",
       "13+                        40     126263.0  \n",
       "16+                         1      29599.0  \n",
       "18+                         3     331409.0  \n",
       "7+                        179     141755.0  \n",
       "all                       277      74747.0  "
      ]
     },
     "execution_count": 658,
     "metadata": {},
     "output_type": "execute_result"
    }
   ],
   "source": [
    "df_classificacao = df.groupby('Classificacao_etaria')\n",
    "df_classificacao_sum = df_classificacao.sum()\n",
    "df_classificacao_sum"
   ]
  },
  {
   "cell_type": "code",
   "execution_count": 659,
   "metadata": {},
   "outputs": [
    {
     "name": "stdout",
     "output_type": "stream",
     "text": [
      "Nº filmes para crianças Netflix: 453.0\n",
      "Nº filmes para crianças Hulu: 164.0\n",
      "Nº filmes para crianças Amazon Prime: 1322.0\n",
      "Nº filmes para crianças Disney+: 456.0\n",
      "\n",
      "\n",
      "Amazon Prime possui um maior número de filmes próprios para crianças (menores de 12 anos).\n"
     ]
    }
   ],
   "source": [
    "df_menores = df_classificacao_sum[(df_classificacao_sum.index == '7+') | (df_classificacao_sum.index == 'all')].sum()\n",
    "qtd_menores_netflix = df_menores['Netflix']\n",
    "qtd_menores_hulu = df_menores['Hulu']\n",
    "qtd_menores_amazon = df_menores['Amazon_prime']\n",
    "qtd_menores_disney = df_menores['Disney+']\n",
    "print(\"Nº filmes para crianças Netflix:\", qtd_menores_netflix)\n",
    "print(\"Nº filmes para crianças Hulu:\", qtd_menores_hulu)\n",
    "print(\"Nº filmes para crianças Amazon Prime:\", qtd_menores_amazon)\n",
    "print(\"Nº filmes para crianças Disney+:\", qtd_menores_disney)\n",
    "v = {'Netflix': qtd_menores_netflix, 'Hulu': qtd_menores_hulu, 'Amazon Prime': qtd_menores_amazon, 'Disney+': qtd_menores_disney}\n",
    "nome_plat = max(v.items(), key=operator.itemgetter(1))[0]\n",
    "\n",
    "print('\\n')\n",
    "print(nome_plat, 'possui um maior número de filmes próprios para crianças (menores de 12 anos).')"
   ]
  },
  {
   "cell_type": "markdown",
   "metadata": {},
   "source": [
    "<p>A plataforma Amazon Prime tem um maior número de filmes com classificação indicativa destinada à crianças (menores de 12 anos). No entanto, ela possui um grande número de filmes adultos.</p>\n",
    "<p>- Caso haja um acompanhamento com os pais ou um controle facilitado pela plataforma, eu recomendaria a Amazon Prime.</p>\n",
    "<p>- Caso não haja esse acompanhamento com os pais, permitindo que a criança possa assistir e escolher os filmes livremente, eu recomendaria a Disney+, por conter um número razoável de filmes para crianças e poucos filmes destinados aos públicos adolescente e adulto.</p>"
   ]
  },
  {
   "cell_type": "markdown",
   "metadata": {},
   "source": [
    "<h2>8) Faça um gráfico de linhas com a quantidade de filmes disponíveis por ano de lançamento. Qual o ano que possui mais filmes, e quantos filmes foram lançados nesse ano? Qual a média de lançamento de filmes por ano? Trace uma linha reta no gráfico com a média, e responda em quais anos foram lançados mais filmes do que a média.</h2>"
   ]
  },
  {
   "cell_type": "code",
   "execution_count": 660,
   "metadata": {},
   "outputs": [
    {
     "name": "stdout",
     "output_type": "stream",
     "text": [
      "Média de lançamentos de filmes por ano: 153.61\n"
     ]
    },
    {
     "data": {
      "image/png": "[encoded data removed]",
      "text/plain": [
       "<Figure size 432x288 with 1 Axes>"
      ]
     },
     "metadata": {
      "needs_background": "light"
     },
     "output_type": "display_data"
    }
   ],
   "source": [
    "df_anos = df.copy()\n",
    "df_anos['qtd_filmes'] = 1\n",
    "df_anos = df_anos.groupby('Ano')\n",
    "df_anos_sum = df_anos['qtd_filmes'].sum()\n",
    "ax = df_anos_sum.plot(kind='line')\n",
    "\n",
    "media_lancamentos = df_anos_sum.agg('mean')\n",
    "print('Média de lançamentos de filmes por ano: %.2f'%media_lancamentos)\n",
    "\n",
    "plt.axhline(y=media_lancamentos, color='r', linestyle='-')\n",
    "plt.title('Número de filmes por ano')\n",
    "ax.set_ylabel('Número de filmes')\n",
    "plt.show()"
   ]
  },
  {
   "cell_type": "code",
   "execution_count": 661,
   "metadata": {},
   "outputs": [
    {
     "name": "stdout",
     "output_type": "stream",
     "text": [
      "Ano que possui mais filmes e o nº de filmes lançados neste ano:\n"
     ]
    },
    {
     "data": {
      "text/plain": [
       "Ano\n",
       "2017    1401\n",
       "Name: qtd_filmes, dtype: int64"
      ]
     },
     "execution_count": 661,
     "metadata": {},
     "output_type": "execute_result"
    }
   ],
   "source": [
    "print('Ano que possui mais filmes e o nº de filmes lançados neste ano:')\n",
    "df_anos_sum.sort_values(ascending=False).head(1)"
   ]
  },
  {
   "cell_type": "code",
   "execution_count": 662,
   "metadata": {},
   "outputs": [
    {
     "name": "stdout",
     "output_type": "stream",
     "text": [
      "Quantidade de anos cujos nº de lançamento foram maiores que a média:  20\n",
      "Anos com número de lançamentos maior do que a média:\n",
      "Ano  Nº lançamentos\n",
      "2000 172\n",
      "2001 156\n",
      "2002 193\n",
      "2003 214\n",
      "2004 217\n",
      "2005 285\n",
      "2006 338\n",
      "2007 375\n",
      "2008 442\n",
      "2009 548\n",
      "2010 533\n",
      "2011 645\n",
      "2012 843\n",
      "2013 964\n",
      "2014 986\n",
      "2015 1065\n",
      "2016 1206\n",
      "2017 1401\n",
      "2018 1285\n",
      "2019 689\n"
     ]
    }
   ],
   "source": [
    "df_anos_acima_media = df_anos_sum[df_anos_sum > media_lancamentos]\n",
    "print(\"Quantidade de anos cujos nº de lançamento foram maiores que a média: \", len(df_anos_acima_media))\n",
    "print('Anos com número de lançamentos maior do que a média:')\n",
    "print('Ano ','Nº lançamentos')\n",
    "for k in df_anos_acima_media.keys():\n",
    "    print(k, df_anos_acima_media[k])\n"
   ]
  },
  {
   "cell_type": "markdown",
   "metadata": {},
   "source": [
    "<p>Apenas para sintetizar a resposta:</p>\n",
    "<p>- O ano de 2017 teve o maior nº de lançamentos (1401) dentre todos os anos desta base de dados.</p>\n",
    "<p>- A média de lançamento de filmes por ano foi de aproximadamente 153 filmes por ano.</p>\n",
    "<p>- Dos anos de 2000 a 2019, 20 anos ao todo, tiveram o nº de lançamentos maiores do que a média.</p>"
   ]
  },
  {
   "cell_type": "markdown",
   "metadata": {},
   "source": [
    "<h2>9) Faça o Boxplot da duração dos filmes. Em seguida, remova os outliers que achar necessário, e faça o histograma da duração. Ajuste o parâmetro \"bins\" se necessário, para visualizar melhor. Em seguida,  responda se os valores de duração seguem a distribuição Normal. Justifique.</h2>"
   ]
  },
  {
   "cell_type": "code",
   "execution_count": 663,
   "metadata": {},
   "outputs": [
    {
     "data": {
      "image/png": "[encoded data removed]",
      "text/plain": [
       "<Figure size 432x288 with 1 Axes>"
      ]
     },
     "metadata": {
      "needs_background": "light"
     },
     "output_type": "display_data"
    }
   ],
   "source": [
    "ax = df['Duracao_min'].plot(kind='box')\n",
    "plt.title('Boxplot - Duração dos filmes')\n",
    "ax.set_ylabel('Duração (em minutos)')\n",
    "plt.show()"
   ]
  },
  {
   "cell_type": "code",
   "execution_count": 664,
   "metadata": {},
   "outputs": [
    {
     "name": "stdout",
     "output_type": "stream",
     "text": [
      "Nº elementos: 16145\n"
     ]
    },
    {
     "data": {
      "image/png": "[encoded data removed]",
      "text/plain": [
       "<Figure size 432x288 with 1 Axes>"
      ]
     },
     "metadata": {
      "needs_background": "light"
     },
     "output_type": "display_data"
    }
   ],
   "source": [
    "lim = 300\n",
    "df_duracao_limpo = df[df['Duracao_min'] < lim]['Duracao_min']\n",
    "ax = df_duracao_limpo.plot(kind='box')\n",
    "plt.title('Boxplot - Duração dos filmes (menor que %d)'%lim)\n",
    "ax.set_ylabel('Duração (em minutos)')\n",
    "print('Nº elementos:', len(df_duracao_limpo))\n",
    "plt.show()"
   ]
  },
  {
   "cell_type": "code",
   "execution_count": 665,
   "metadata": {},
   "outputs": [
    {
     "data": {
      "image/png": "[encoded data removed]",
      "text/plain": [
       "<Figure size 432x288 with 1 Axes>"
      ]
     },
     "metadata": {
      "needs_background": "light"
     },
     "output_type": "display_data"
    }
   ],
   "source": [
    "ax = df_duracao_limpo.hist(bins=75)\n",
    "plt.title('Histograma - Duração dos filmes')\n",
    "ax.set_ylabel('Frequência')\n",
    "ax.set_xlabel('Duração (em minutos)')\n",
    "plt.show()"
   ]
  },
  {
   "cell_type": "markdown",
   "metadata": {},
   "source": [
    "<p>Pelo histograma acima, é possível observar que os valores de duração <b>parecem seguir uma distribuição normal</b>. Para confirmar matematicamente, podemos usar a função <b>scipy.stats.normaltest</b>, baseada nos testes de D’Agostino e Pearson’s</p>\n",
    "\n",
    "<p><b>Hipótese nula</b>: Os valores de duração seguem uma distribuição normal.</p>\n",
    "<p><b>Hipótese alternativa</b>: Os valores de duração não seguem uma distribuição normal.</p>"
   ]
  },
  {
   "cell_type": "code",
   "execution_count": 666,
   "metadata": {},
   "outputs": [
    {
     "name": "stdout",
     "output_type": "stream",
     "text": [
      "Normal Test: (statistic, p-value) = NormaltestResult(statistic=1545.0770868254453, pvalue=0.0)\n",
      "A hipótese nula pode ser rejeitada.\n"
     ]
    }
   ],
   "source": [
    "nt = normaltest(df_duracao_limpo)\n",
    "print(\"Normal Test: (statistic, p-value) = {}\".format(nt))\n",
    "k2, p = nt\n",
    "alpha = 1e-3\n",
    "if p < alpha:  # null hypothesis: x comes from a normal distribution\n",
    "    print(\"A hipótese nula pode ser rejeitada.\")\n",
    "else:\n",
    "    print(\"A hipótese nula não pode ser rejeitada.\")"
   ]
  },
  {
   "cell_type": "markdown",
   "metadata": {},
   "source": [
    "<p>Note que o p-value obtido pela função normaltest é bem pequeno. De acordo com [1] e [2], se este valor é bem próximo de zero, então a hipótese nula pode ser rejeitada a 0,1% de grau de confiança, sendo <b>improvável que estes dados sigam uma distribuição normal</b>.</p>\n",
    "<p>Um resultado curioso. A olho nú parece seguir uma distribuição normal, mas matematicamente, não segue.</p>\n",
    "<p>[1] Scipy. Normaltest. Disponível em: https://docs.scipy.org/doc/scipy/reference/generated/scipy.stats.normaltest.html</p>\n",
    "<p>[2] Stackoverflow. Scipy Normaltest how is it used? Disponível em: https://stackoverflow.com/questions/12838993/scipy-normaltest-how-is-it-used</p>"
   ]
  },
  {
   "cell_type": "markdown",
   "metadata": {},
   "source": [
    "<h2>10) Quantos gêneros distintos existem? Quantos filmes de cada gênero existem?</h2>"
   ]
  },
  {
   "cell_type": "code",
   "execution_count": 667,
   "metadata": {},
   "outputs": [],
   "source": [
    "generos = {}\n",
    "for index, row in df.iterrows():\n",
    "    if(pd.isnull(row['Generos'])):\n",
    "        if('NaN' in generos):\n",
    "            generos['NaN'] += 1\n",
    "        else:\n",
    "            generos['NaN'] = 1\n",
    "        continue\n",
    "    v = row['Generos'].split(',')\n",
    "    for k in v:\n",
    "        if(k in generos):\n",
    "            generos[k] += 1\n",
    "        else:\n",
    "            generos[k] = 1"
   ]
  },
  {
   "cell_type": "markdown",
   "metadata": {},
   "source": [
    "<p>Considerei os valores ausentes também para contabilizar os filmes que não foram classificados em nenhum gênero. Essa informação pode ser útil para saber como normalizar isto, uma vez que a falta desse tipo de informação é prejudicial nas buscas por determinados filmes que não possuem seus gêneros informados.</p>"
   ]
  },
  {
   "cell_type": "code",
   "execution_count": 668,
   "metadata": {},
   "outputs": [
    {
     "name": "stdout",
     "output_type": "stream",
     "text": [
      "Existem 27 gêneros distintos (excluindo-se os com valores NaN). A quantidade de filmes que cada um possui pode ser visualizada logo abaixo.\n",
      "\n",
      "Existem 275 filmes sem nenhum gênero informado (valores NaN / ausentes).\n",
      "\n",
      "Gênero       Nº filmes           \n",
      "\n",
      "Action       2683                \n",
      "Adventure    1778                \n",
      "Sci-Fi       1228                \n",
      "Thriller     3354                \n",
      "Comedy       4637                \n",
      "Western      499                 \n",
      "Animation    711                 \n",
      "Family       1514                \n",
      "Biography    821                 \n",
      "Drama        7227                \n",
      "Music        667                 \n",
      "War          539                 \n",
      "Crime        1833                \n",
      "Fantasy      1089                \n",
      "Romance      2359                \n",
      "History      715                 \n",
      "Mystery      1274                \n",
      "Horror       2201                \n",
      "Sport        404                 \n",
      "Documentary  2546                \n",
      "Musical      401                 \n",
      "News         105                 \n",
      "Short        386                 \n",
      "NaN          275                 \n",
      "Reality-TV   22                  \n",
      "Talk-Show    19                  \n",
      "Game-Show    7                   \n",
      "Film-Noir    79                  \n"
     ]
    }
   ],
   "source": [
    "print('Existem %d gêneros distintos (excluindo-se os com valores NaN). A quantidade de filmes que cada'%(len(generos) - 1),\n",
    "      'um possui pode ser visualizada logo abaixo.\\n')\n",
    "print('Existem %d filmes sem nenhum gênero informado (valores NaN / ausentes).\\n'%(generos['NaN']))\n",
    "print(\"{:<12} {:<20}\\n\".format('Gênero','Nº filmes'))   \n",
    "for k in generos:\n",
    "    print(\"{:<12} {:<20}\".format(k, generos[k]))"
   ]
  },
  {
   "cell_type": "markdown",
   "metadata": {},
   "source": [
    "<p>Em resumo, existem 27 gêneros distintos nesta base. O número de filmes que cada gênero possui pode ser visualizado acima.</p>\n",
    "<p>Além do que foi pedido, foram contabilizados 275 filmes que não possuem nenhum gênero associado. Em sistemas de busca de informação, a falta desta informação pode tornar determinados filmes difíceis de serem encontrados. Saber este valor pode ser interessante para corrigir isso na base de dados.</p>"
   ]
  },
  {
   "cell_type": "markdown",
   "metadata": {},
   "source": [
    "<h2>11) Qual o diretor possui a melhor media de nota IMDb dos seus filmes?</h2>"
   ]
  },
  {
   "cell_type": "code",
   "execution_count": 669,
   "metadata": {},
   "outputs": [],
   "source": [
    "#Diretores\n",
    "diretores = {}\n",
    "diretores_cont = {}\n",
    "for index, row in df.iterrows():\n",
    "    if(pd.isnull(row['Diretores'])):\n",
    "        if('NaN' in diretores):\n",
    "            diretores['NaN'] += row['IMDb']\n",
    "            diretores_cont['NaN'] += 1\n",
    "        else:\n",
    "            diretores['NaN'] = row['IMDb']\n",
    "            diretores_cont['NaN'] = 1\n",
    "        continue\n",
    "    v = row['Diretores'].split(',')\n",
    "    for k in v:\n",
    "        if(k in diretores):\n",
    "            diretores[k] += row['IMDb']\n",
    "            diretores_cont[k] += 1\n",
    "        else:\n",
    "            diretores[k] = row['IMDb']\n",
    "            diretores_cont[k] = 1\n",
    "for k in diretores:\n",
    "    diretores[k] = diretores[k] / diretores_cont[k]"
   ]
  },
  {
   "cell_type": "code",
   "execution_count": 670,
   "metadata": {},
   "outputs": [
    {
     "name": "stdout",
     "output_type": "stream",
     "text": [
      "Imprimindo os 20 diretores com maiores médias de nota IMDb:\n",
      "Sergio Leone              8.65                \n",
      "Kevin Booth               8.5                 \n",
      "Bob Persichetti           8.4                 \n",
      "Peter Ramsey              8.4                 \n",
      "Rodney Rothman            8.4                 \n",
      "Aamir Khan                8.4                 \n",
      "Amole Gupte               8.4                 \n",
      "Christopher Nolan         8.3                 \n",
      "Guillermo del Toro        8.2                 \n",
      "Sergio Pablos             8.2                 \n",
      "Carlos Martínez López     8.2                 \n",
      "Gabriel Clarke            8.2                 \n",
      "Torquil Jones             8.2                 \n",
      "Rajkumar Hirani           8.1                 \n",
      "Josh Lowell               8.1                 \n",
      "Peter Mortimer            8.1                 \n",
      "Frank Miller              8.0                 \n",
      "Gabriele Muccino          8.0                 \n",
      "Spike Jonze               7.933333333333334   \n",
      "Nitesh Tiwari             7.9                 \n",
      "...\n"
     ]
    }
   ],
   "source": [
    "diretores_ordenados = {k: v for k, v in sorted(diretores.items(), reverse=True, key=lambda x: x[1])}\n",
    "print('Imprimindo os 20 diretores com maiores médias de nota IMDb:')\n",
    "cont = 0\n",
    "for k in diretores_ordenados:\n",
    "    cont+=1\n",
    "    print(\"{:<25} {:<20}\".format(k, diretores_ordenados[k]))\n",
    "    if(cont >= 20):\n",
    "        break\n",
    "print('...')"
   ]
  },
  {
   "cell_type": "markdown",
   "metadata": {},
   "source": [
    "<p>O diretor que possui a melhor média de notas de seus filmes é <b>Sergio Leone</b>, com 8.65 de média.</p>"
   ]
  },
  {
   "cell_type": "markdown",
   "metadata": {},
   "source": [
    "<h2>12) Utilize regras de associação para responder às seguintes questões:</h2>\n",
    "<h3>a) Qual o conjunto de itens de gêneros com mais de um gênero que aparece em mais filmes?</h3>"
   ]
  },
  {
   "cell_type": "code",
   "execution_count": 671,
   "metadata": {},
   "outputs": [
    {
     "data": {
      "text/plain": [
       "Generos\n",
       "Comedy,Drama            208\n",
       "Comedy,Drama,Romance    181\n",
       "Drama,Romance           155\n",
       "Name: qtd_filmes, dtype: int64"
      ]
     },
     "execution_count": 671,
     "metadata": {},
     "output_type": "execute_result"
    }
   ],
   "source": [
    "df4 = df.copy().dropna()\n",
    "df4['qtd_filmes'] = 1\n",
    "df4 = df4[df4['Generos'].str.contains(',')]\n",
    "df4 = df4.groupby('Generos')\n",
    "df4['qtd_filmes'].sum().sort_values(ascending=False).head(3)"
   ]
  },
  {
   "cell_type": "markdown",
   "metadata": {},
   "source": [
    "<p>O conjunto de itens de gêneros com mais de um gênero que aparece em mais filmes é: <b>{Comedy, Drama}</b></p>"
   ]
  },
  {
   "cell_type": "markdown",
   "metadata": {},
   "source": [
    "<h3>b) Qual o percentual de filmes em que esse conjunto de itens aparece?</h3>"
   ]
  },
  {
   "cell_type": "code",
   "execution_count": 672,
   "metadata": {},
   "outputs": [
    {
     "name": "stdout",
     "output_type": "stream",
     "text": [
      "Percentual de filmes em que o conjunto de itens {Comedy, Drama} aparece:\n"
     ]
    },
    {
     "data": {
      "text/plain": [
       "Generos\n",
       "Comedy,Drama    1.242236\n",
       "Name: qtd_filmes, dtype: float64"
      ]
     },
     "execution_count": 672,
     "metadata": {},
     "output_type": "execute_result"
    }
   ],
   "source": [
    "p = df4['qtd_filmes'].sum().sort_values(ascending=False).head(1)/len(df)*100 \n",
    "print('Percentual de filmes em que o conjunto de itens {Comedy, Drama} aparece:')\n",
    "p"
   ]
  },
  {
   "cell_type": "markdown",
   "metadata": {},
   "source": [
    "<p>O percentual de filmes que o conjunto {Comedy, Drama} aparece é de <b>1,24%</b>.</p>"
   ]
  },
  {
   "cell_type": "markdown",
   "metadata": {},
   "source": [
    "<h3>c) Considerando uma pessoa que gosta de filmes de \"Crime\", quais outros gêneros você recomendaria  a essa pessoa? Justifique sua resposta.</h3>"
   ]
  },
  {
   "cell_type": "code",
   "execution_count": 673,
   "metadata": {},
   "outputs": [],
   "source": [
    "df2 = df.dropna()\n",
    "df2 = df2[df2['Generos'].str.contains(',')]\n",
    "df2 = df2[['Generos']]\n",
    "for k in generos:\n",
    "    df2[k] = 0\n",
    "for i, row in df.iterrows():\n",
    "    if(pd.isnull(row['Generos'])):\n",
    "        continue\n",
    "    v = row['Generos'].split(',')\n",
    "    for k in v:\n",
    "        df2.at[i,k] = 1\n",
    "df2 = df2.drop('Generos', 1)"
   ]
  },
  {
   "cell_type": "code",
   "execution_count": 674,
   "metadata": {},
   "outputs": [
    {
     "data": {
      "text/html": [
       "<div>\n",
       "<style scoped>\n",
       "    .dataframe tbody tr th:only-of-type {\n",
       "        vertical-align: middle;\n",
       "    }\n",
       "\n",
       "    .dataframe tbody tr th {\n",
       "        vertical-align: top;\n",
       "    }\n",
       "\n",
       "    .dataframe thead th {\n",
       "        text-align: right;\n",
       "    }\n",
       "</style>\n",
       "<table border=\"1\" class=\"dataframe\">\n",
       "  <thead>\n",
       "    <tr style=\"text-align: right;\">\n",
       "      <th></th>\n",
       "      <th>Action</th>\n",
       "      <th>Adventure</th>\n",
       "      <th>Sci-Fi</th>\n",
       "      <th>Thriller</th>\n",
       "      <th>Comedy</th>\n",
       "      <th>Western</th>\n",
       "      <th>Animation</th>\n",
       "      <th>Family</th>\n",
       "      <th>Biography</th>\n",
       "      <th>Drama</th>\n",
       "      <th>...</th>\n",
       "      <th>Sport</th>\n",
       "      <th>Documentary</th>\n",
       "      <th>Musical</th>\n",
       "      <th>News</th>\n",
       "      <th>Short</th>\n",
       "      <th>NaN</th>\n",
       "      <th>Reality-TV</th>\n",
       "      <th>Talk-Show</th>\n",
       "      <th>Game-Show</th>\n",
       "      <th>Film-Noir</th>\n",
       "    </tr>\n",
       "  </thead>\n",
       "  <tbody>\n",
       "    <tr>\n",
       "      <th>0</th>\n",
       "      <td>1.0</td>\n",
       "      <td>1.0</td>\n",
       "      <td>1.0</td>\n",
       "      <td>1.0</td>\n",
       "      <td>0.0</td>\n",
       "      <td>0.0</td>\n",
       "      <td>0.0</td>\n",
       "      <td>0.0</td>\n",
       "      <td>0.0</td>\n",
       "      <td>0.0</td>\n",
       "      <td>...</td>\n",
       "      <td>0.0</td>\n",
       "      <td>0.0</td>\n",
       "      <td>0.0</td>\n",
       "      <td>0.0</td>\n",
       "      <td>0.0</td>\n",
       "      <td>0.0</td>\n",
       "      <td>0.0</td>\n",
       "      <td>0.0</td>\n",
       "      <td>0.0</td>\n",
       "      <td>0.0</td>\n",
       "    </tr>\n",
       "    <tr>\n",
       "      <th>1</th>\n",
       "      <td>1.0</td>\n",
       "      <td>0.0</td>\n",
       "      <td>1.0</td>\n",
       "      <td>0.0</td>\n",
       "      <td>0.0</td>\n",
       "      <td>0.0</td>\n",
       "      <td>0.0</td>\n",
       "      <td>0.0</td>\n",
       "      <td>0.0</td>\n",
       "      <td>0.0</td>\n",
       "      <td>...</td>\n",
       "      <td>0.0</td>\n",
       "      <td>0.0</td>\n",
       "      <td>0.0</td>\n",
       "      <td>0.0</td>\n",
       "      <td>0.0</td>\n",
       "      <td>0.0</td>\n",
       "      <td>0.0</td>\n",
       "      <td>0.0</td>\n",
       "      <td>0.0</td>\n",
       "      <td>0.0</td>\n",
       "    </tr>\n",
       "    <tr>\n",
       "      <th>2</th>\n",
       "      <td>1.0</td>\n",
       "      <td>1.0</td>\n",
       "      <td>1.0</td>\n",
       "      <td>0.0</td>\n",
       "      <td>0.0</td>\n",
       "      <td>0.0</td>\n",
       "      <td>0.0</td>\n",
       "      <td>0.0</td>\n",
       "      <td>0.0</td>\n",
       "      <td>0.0</td>\n",
       "      <td>...</td>\n",
       "      <td>0.0</td>\n",
       "      <td>0.0</td>\n",
       "      <td>0.0</td>\n",
       "      <td>0.0</td>\n",
       "      <td>0.0</td>\n",
       "      <td>0.0</td>\n",
       "      <td>0.0</td>\n",
       "      <td>0.0</td>\n",
       "      <td>0.0</td>\n",
       "      <td>0.0</td>\n",
       "    </tr>\n",
       "    <tr>\n",
       "      <th>3</th>\n",
       "      <td>0.0</td>\n",
       "      <td>1.0</td>\n",
       "      <td>1.0</td>\n",
       "      <td>0.0</td>\n",
       "      <td>1.0</td>\n",
       "      <td>0.0</td>\n",
       "      <td>0.0</td>\n",
       "      <td>0.0</td>\n",
       "      <td>0.0</td>\n",
       "      <td>0.0</td>\n",
       "      <td>...</td>\n",
       "      <td>0.0</td>\n",
       "      <td>0.0</td>\n",
       "      <td>0.0</td>\n",
       "      <td>0.0</td>\n",
       "      <td>0.0</td>\n",
       "      <td>0.0</td>\n",
       "      <td>0.0</td>\n",
       "      <td>0.0</td>\n",
       "      <td>0.0</td>\n",
       "      <td>0.0</td>\n",
       "    </tr>\n",
       "    <tr>\n",
       "      <th>5</th>\n",
       "      <td>1.0</td>\n",
       "      <td>1.0</td>\n",
       "      <td>1.0</td>\n",
       "      <td>0.0</td>\n",
       "      <td>0.0</td>\n",
       "      <td>0.0</td>\n",
       "      <td>1.0</td>\n",
       "      <td>1.0</td>\n",
       "      <td>0.0</td>\n",
       "      <td>0.0</td>\n",
       "      <td>...</td>\n",
       "      <td>0.0</td>\n",
       "      <td>0.0</td>\n",
       "      <td>0.0</td>\n",
       "      <td>0.0</td>\n",
       "      <td>0.0</td>\n",
       "      <td>0.0</td>\n",
       "      <td>0.0</td>\n",
       "      <td>0.0</td>\n",
       "      <td>0.0</td>\n",
       "      <td>0.0</td>\n",
       "    </tr>\n",
       "    <tr>\n",
       "      <th>6</th>\n",
       "      <td>0.0</td>\n",
       "      <td>0.0</td>\n",
       "      <td>0.0</td>\n",
       "      <td>0.0</td>\n",
       "      <td>0.0</td>\n",
       "      <td>0.0</td>\n",
       "      <td>0.0</td>\n",
       "      <td>0.0</td>\n",
       "      <td>1.0</td>\n",
       "      <td>1.0</td>\n",
       "      <td>...</td>\n",
       "      <td>0.0</td>\n",
       "      <td>0.0</td>\n",
       "      <td>0.0</td>\n",
       "      <td>0.0</td>\n",
       "      <td>0.0</td>\n",
       "      <td>0.0</td>\n",
       "      <td>0.0</td>\n",
       "      <td>0.0</td>\n",
       "      <td>0.0</td>\n",
       "      <td>0.0</td>\n",
       "    </tr>\n",
       "    <tr>\n",
       "      <th>7</th>\n",
       "      <td>0.0</td>\n",
       "      <td>0.0</td>\n",
       "      <td>0.0</td>\n",
       "      <td>0.0</td>\n",
       "      <td>0.0</td>\n",
       "      <td>1.0</td>\n",
       "      <td>0.0</td>\n",
       "      <td>0.0</td>\n",
       "      <td>0.0</td>\n",
       "      <td>1.0</td>\n",
       "      <td>...</td>\n",
       "      <td>0.0</td>\n",
       "      <td>0.0</td>\n",
       "      <td>0.0</td>\n",
       "      <td>0.0</td>\n",
       "      <td>0.0</td>\n",
       "      <td>0.0</td>\n",
       "      <td>0.0</td>\n",
       "      <td>0.0</td>\n",
       "      <td>0.0</td>\n",
       "      <td>0.0</td>\n",
       "    </tr>\n",
       "    <tr>\n",
       "      <th>8</th>\n",
       "      <td>1.0</td>\n",
       "      <td>1.0</td>\n",
       "      <td>0.0</td>\n",
       "      <td>0.0</td>\n",
       "      <td>0.0</td>\n",
       "      <td>0.0</td>\n",
       "      <td>0.0</td>\n",
       "      <td>0.0</td>\n",
       "      <td>0.0</td>\n",
       "      <td>0.0</td>\n",
       "      <td>...</td>\n",
       "      <td>0.0</td>\n",
       "      <td>0.0</td>\n",
       "      <td>0.0</td>\n",
       "      <td>0.0</td>\n",
       "      <td>0.0</td>\n",
       "      <td>0.0</td>\n",
       "      <td>0.0</td>\n",
       "      <td>0.0</td>\n",
       "      <td>0.0</td>\n",
       "      <td>0.0</td>\n",
       "    </tr>\n",
       "    <tr>\n",
       "      <th>9</th>\n",
       "      <td>0.0</td>\n",
       "      <td>1.0</td>\n",
       "      <td>0.0</td>\n",
       "      <td>0.0</td>\n",
       "      <td>0.0</td>\n",
       "      <td>0.0</td>\n",
       "      <td>0.0</td>\n",
       "      <td>0.0</td>\n",
       "      <td>0.0</td>\n",
       "      <td>1.0</td>\n",
       "      <td>...</td>\n",
       "      <td>0.0</td>\n",
       "      <td>0.0</td>\n",
       "      <td>0.0</td>\n",
       "      <td>0.0</td>\n",
       "      <td>0.0</td>\n",
       "      <td>0.0</td>\n",
       "      <td>0.0</td>\n",
       "      <td>0.0</td>\n",
       "      <td>0.0</td>\n",
       "      <td>0.0</td>\n",
       "    </tr>\n",
       "    <tr>\n",
       "      <th>10</th>\n",
       "      <td>0.0</td>\n",
       "      <td>0.0</td>\n",
       "      <td>0.0</td>\n",
       "      <td>0.0</td>\n",
       "      <td>0.0</td>\n",
       "      <td>0.0</td>\n",
       "      <td>0.0</td>\n",
       "      <td>0.0</td>\n",
       "      <td>0.0</td>\n",
       "      <td>1.0</td>\n",
       "      <td>...</td>\n",
       "      <td>0.0</td>\n",
       "      <td>0.0</td>\n",
       "      <td>0.0</td>\n",
       "      <td>0.0</td>\n",
       "      <td>0.0</td>\n",
       "      <td>0.0</td>\n",
       "      <td>0.0</td>\n",
       "      <td>0.0</td>\n",
       "      <td>0.0</td>\n",
       "      <td>0.0</td>\n",
       "    </tr>\n",
       "    <tr>\n",
       "      <th>11</th>\n",
       "      <td>0.0</td>\n",
       "      <td>0.0</td>\n",
       "      <td>0.0</td>\n",
       "      <td>0.0</td>\n",
       "      <td>1.0</td>\n",
       "      <td>0.0</td>\n",
       "      <td>0.0</td>\n",
       "      <td>0.0</td>\n",
       "      <td>0.0</td>\n",
       "      <td>1.0</td>\n",
       "      <td>...</td>\n",
       "      <td>0.0</td>\n",
       "      <td>0.0</td>\n",
       "      <td>0.0</td>\n",
       "      <td>0.0</td>\n",
       "      <td>0.0</td>\n",
       "      <td>0.0</td>\n",
       "      <td>0.0</td>\n",
       "      <td>0.0</td>\n",
       "      <td>0.0</td>\n",
       "      <td>0.0</td>\n",
       "    </tr>\n",
       "    <tr>\n",
       "      <th>12</th>\n",
       "      <td>0.0</td>\n",
       "      <td>0.0</td>\n",
       "      <td>0.0</td>\n",
       "      <td>0.0</td>\n",
       "      <td>0.0</td>\n",
       "      <td>0.0</td>\n",
       "      <td>0.0</td>\n",
       "      <td>0.0</td>\n",
       "      <td>0.0</td>\n",
       "      <td>1.0</td>\n",
       "      <td>...</td>\n",
       "      <td>0.0</td>\n",
       "      <td>0.0</td>\n",
       "      <td>0.0</td>\n",
       "      <td>0.0</td>\n",
       "      <td>0.0</td>\n",
       "      <td>0.0</td>\n",
       "      <td>0.0</td>\n",
       "      <td>0.0</td>\n",
       "      <td>0.0</td>\n",
       "      <td>0.0</td>\n",
       "    </tr>\n",
       "    <tr>\n",
       "      <th>13</th>\n",
       "      <td>0.0</td>\n",
       "      <td>0.0</td>\n",
       "      <td>0.0</td>\n",
       "      <td>1.0</td>\n",
       "      <td>0.0</td>\n",
       "      <td>0.0</td>\n",
       "      <td>0.0</td>\n",
       "      <td>0.0</td>\n",
       "      <td>0.0</td>\n",
       "      <td>1.0</td>\n",
       "      <td>...</td>\n",
       "      <td>0.0</td>\n",
       "      <td>0.0</td>\n",
       "      <td>0.0</td>\n",
       "      <td>0.0</td>\n",
       "      <td>0.0</td>\n",
       "      <td>0.0</td>\n",
       "      <td>0.0</td>\n",
       "      <td>0.0</td>\n",
       "      <td>0.0</td>\n",
       "      <td>0.0</td>\n",
       "    </tr>\n",
       "    <tr>\n",
       "      <th>14</th>\n",
       "      <td>0.0</td>\n",
       "      <td>1.0</td>\n",
       "      <td>0.0</td>\n",
       "      <td>0.0</td>\n",
       "      <td>1.0</td>\n",
       "      <td>0.0</td>\n",
       "      <td>0.0</td>\n",
       "      <td>0.0</td>\n",
       "      <td>0.0</td>\n",
       "      <td>0.0</td>\n",
       "      <td>...</td>\n",
       "      <td>0.0</td>\n",
       "      <td>0.0</td>\n",
       "      <td>0.0</td>\n",
       "      <td>0.0</td>\n",
       "      <td>0.0</td>\n",
       "      <td>0.0</td>\n",
       "      <td>0.0</td>\n",
       "      <td>0.0</td>\n",
       "      <td>0.0</td>\n",
       "      <td>0.0</td>\n",
       "    </tr>\n",
       "    <tr>\n",
       "      <th>16</th>\n",
       "      <td>1.0</td>\n",
       "      <td>1.0</td>\n",
       "      <td>0.0</td>\n",
       "      <td>0.0</td>\n",
       "      <td>0.0</td>\n",
       "      <td>0.0</td>\n",
       "      <td>0.0</td>\n",
       "      <td>0.0</td>\n",
       "      <td>0.0</td>\n",
       "      <td>0.0</td>\n",
       "      <td>...</td>\n",
       "      <td>0.0</td>\n",
       "      <td>0.0</td>\n",
       "      <td>0.0</td>\n",
       "      <td>0.0</td>\n",
       "      <td>0.0</td>\n",
       "      <td>0.0</td>\n",
       "      <td>0.0</td>\n",
       "      <td>0.0</td>\n",
       "      <td>0.0</td>\n",
       "      <td>0.0</td>\n",
       "    </tr>\n",
       "  </tbody>\n",
       "</table>\n",
       "<p>15 rows × 28 columns</p>\n",
       "</div>"
      ],
      "text/plain": [
       "    Action  Adventure  Sci-Fi  Thriller  Comedy  Western  Animation  Family  \\\n",
       "0      1.0        1.0     1.0       1.0     0.0      0.0        0.0     0.0   \n",
       "1      1.0        0.0     1.0       0.0     0.0      0.0        0.0     0.0   \n",
       "2      1.0        1.0     1.0       0.0     0.0      0.0        0.0     0.0   \n",
       "3      0.0        1.0     1.0       0.0     1.0      0.0        0.0     0.0   \n",
       "5      1.0        1.0     1.0       0.0     0.0      0.0        1.0     1.0   \n",
       "6      0.0        0.0     0.0       0.0     0.0      0.0        0.0     0.0   \n",
       "7      0.0        0.0     0.0       0.0     0.0      1.0        0.0     0.0   \n",
       "8      1.0        1.0     0.0       0.0     0.0      0.0        0.0     0.0   \n",
       "9      0.0        1.0     0.0       0.0     0.0      0.0        0.0     0.0   \n",
       "10     0.0        0.0     0.0       0.0     0.0      0.0        0.0     0.0   \n",
       "11     0.0        0.0     0.0       0.0     1.0      0.0        0.0     0.0   \n",
       "12     0.0        0.0     0.0       0.0     0.0      0.0        0.0     0.0   \n",
       "13     0.0        0.0     0.0       1.0     0.0      0.0        0.0     0.0   \n",
       "14     0.0        1.0     0.0       0.0     1.0      0.0        0.0     0.0   \n",
       "16     1.0        1.0     0.0       0.0     0.0      0.0        0.0     0.0   \n",
       "\n",
       "    Biography  Drama  ...  Sport  Documentary  Musical  News  Short  NaN  \\\n",
       "0         0.0    0.0  ...    0.0          0.0      0.0   0.0    0.0  0.0   \n",
       "1         0.0    0.0  ...    0.0          0.0      0.0   0.0    0.0  0.0   \n",
       "2         0.0    0.0  ...    0.0          0.0      0.0   0.0    0.0  0.0   \n",
       "3         0.0    0.0  ...    0.0          0.0      0.0   0.0    0.0  0.0   \n",
       "5         0.0    0.0  ...    0.0          0.0      0.0   0.0    0.0  0.0   \n",
       "6         1.0    1.0  ...    0.0          0.0      0.0   0.0    0.0  0.0   \n",
       "7         0.0    1.0  ...    0.0          0.0      0.0   0.0    0.0  0.0   \n",
       "8         0.0    0.0  ...    0.0          0.0      0.0   0.0    0.0  0.0   \n",
       "9         0.0    1.0  ...    0.0          0.0      0.0   0.0    0.0  0.0   \n",
       "10        0.0    1.0  ...    0.0          0.0      0.0   0.0    0.0  0.0   \n",
       "11        0.0    1.0  ...    0.0          0.0      0.0   0.0    0.0  0.0   \n",
       "12        0.0    1.0  ...    0.0          0.0      0.0   0.0    0.0  0.0   \n",
       "13        0.0    1.0  ...    0.0          0.0      0.0   0.0    0.0  0.0   \n",
       "14        0.0    0.0  ...    0.0          0.0      0.0   0.0    0.0  0.0   \n",
       "16        0.0    0.0  ...    0.0          0.0      0.0   0.0    0.0  0.0   \n",
       "\n",
       "    Reality-TV  Talk-Show  Game-Show  Film-Noir  \n",
       "0          0.0        0.0        0.0        0.0  \n",
       "1          0.0        0.0        0.0        0.0  \n",
       "2          0.0        0.0        0.0        0.0  \n",
       "3          0.0        0.0        0.0        0.0  \n",
       "5          0.0        0.0        0.0        0.0  \n",
       "6          0.0        0.0        0.0        0.0  \n",
       "7          0.0        0.0        0.0        0.0  \n",
       "8          0.0        0.0        0.0        0.0  \n",
       "9          0.0        0.0        0.0        0.0  \n",
       "10         0.0        0.0        0.0        0.0  \n",
       "11         0.0        0.0        0.0        0.0  \n",
       "12         0.0        0.0        0.0        0.0  \n",
       "13         0.0        0.0        0.0        0.0  \n",
       "14         0.0        0.0        0.0        0.0  \n",
       "16         0.0        0.0        0.0        0.0  \n",
       "\n",
       "[15 rows x 28 columns]"
      ]
     },
     "execution_count": 674,
     "metadata": {},
     "output_type": "execute_result"
    }
   ],
   "source": [
    "df3 = df2.copy()\n",
    "df3 = df3.dropna()\n",
    "df3.head(15)"
   ]
  },
  {
   "cell_type": "code",
   "execution_count": 675,
   "metadata": {},
   "outputs": [],
   "source": [
    "frequent_itemsets = apriori(df3, min_support=0.06, use_colnames=True)"
   ]
  },
  {
   "cell_type": "code",
   "execution_count": 676,
   "metadata": {},
   "outputs": [],
   "source": [
    "rules = association_rules(frequent_itemsets, metric='confidence', min_threshold=0.1)"
   ]
  },
  {
   "cell_type": "code",
   "execution_count": 677,
   "metadata": {},
   "outputs": [
    {
     "data": {
      "text/html": [
       "<div>\n",
       "<style scoped>\n",
       "    .dataframe tbody tr th:only-of-type {\n",
       "        vertical-align: middle;\n",
       "    }\n",
       "\n",
       "    .dataframe tbody tr th {\n",
       "        vertical-align: top;\n",
       "    }\n",
       "\n",
       "    .dataframe thead th {\n",
       "        text-align: right;\n",
       "    }\n",
       "</style>\n",
       "<table border=\"1\" class=\"dataframe\">\n",
       "  <thead>\n",
       "    <tr style=\"text-align: right;\">\n",
       "      <th></th>\n",
       "      <th>antecedents</th>\n",
       "      <th>consequents</th>\n",
       "      <th>antecedent support</th>\n",
       "      <th>consequent support</th>\n",
       "      <th>support</th>\n",
       "      <th>confidence</th>\n",
       "      <th>lift</th>\n",
       "      <th>leverage</th>\n",
       "      <th>conviction</th>\n",
       "    </tr>\n",
       "  </thead>\n",
       "  <tbody>\n",
       "    <tr>\n",
       "      <th>0</th>\n",
       "      <td>(Action)</td>\n",
       "      <td>(Adventure)</td>\n",
       "      <td>0.246003</td>\n",
       "      <td>0.182958</td>\n",
       "      <td>0.087936</td>\n",
       "      <td>0.357459</td>\n",
       "      <td>1.953780</td>\n",
       "      <td>0.042928</td>\n",
       "      <td>1.271581</td>\n",
       "    </tr>\n",
       "    <tr>\n",
       "      <th>1</th>\n",
       "      <td>(Adventure)</td>\n",
       "      <td>(Action)</td>\n",
       "      <td>0.182958</td>\n",
       "      <td>0.246003</td>\n",
       "      <td>0.087936</td>\n",
       "      <td>0.480636</td>\n",
       "      <td>1.953780</td>\n",
       "      <td>0.042928</td>\n",
       "      <td>1.451769</td>\n",
       "    </tr>\n",
       "    <tr>\n",
       "      <th>2</th>\n",
       "      <td>(Action)</td>\n",
       "      <td>(Sci-Fi)</td>\n",
       "      <td>0.246003</td>\n",
       "      <td>0.122275</td>\n",
       "      <td>0.061773</td>\n",
       "      <td>0.251108</td>\n",
       "      <td>2.053637</td>\n",
       "      <td>0.031693</td>\n",
       "      <td>1.172032</td>\n",
       "    </tr>\n",
       "    <tr>\n",
       "      <th>3</th>\n",
       "      <td>(Sci-Fi)</td>\n",
       "      <td>(Action)</td>\n",
       "      <td>0.122275</td>\n",
       "      <td>0.246003</td>\n",
       "      <td>0.061773</td>\n",
       "      <td>0.505201</td>\n",
       "      <td>2.053637</td>\n",
       "      <td>0.031693</td>\n",
       "      <td>1.523844</td>\n",
       "    </tr>\n",
       "    <tr>\n",
       "      <th>4</th>\n",
       "      <td>(Action)</td>\n",
       "      <td>(Thriller)</td>\n",
       "      <td>0.246003</td>\n",
       "      <td>0.300145</td>\n",
       "      <td>0.108285</td>\n",
       "      <td>0.440177</td>\n",
       "      <td>1.466547</td>\n",
       "      <td>0.034448</td>\n",
       "      <td>1.250136</td>\n",
       "    </tr>\n",
       "    <tr>\n",
       "      <th>5</th>\n",
       "      <td>(Thriller)</td>\n",
       "      <td>(Action)</td>\n",
       "      <td>0.300145</td>\n",
       "      <td>0.246003</td>\n",
       "      <td>0.108285</td>\n",
       "      <td>0.360775</td>\n",
       "      <td>1.466547</td>\n",
       "      <td>0.034448</td>\n",
       "      <td>1.179548</td>\n",
       "    </tr>\n",
       "    <tr>\n",
       "      <th>6</th>\n",
       "      <td>(Action)</td>\n",
       "      <td>(Drama)</td>\n",
       "      <td>0.246003</td>\n",
       "      <td>0.514535</td>\n",
       "      <td>0.103198</td>\n",
       "      <td>0.419498</td>\n",
       "      <td>0.815295</td>\n",
       "      <td>-0.023379</td>\n",
       "      <td>0.836285</td>\n",
       "    </tr>\n",
       "    <tr>\n",
       "      <th>7</th>\n",
       "      <td>(Drama)</td>\n",
       "      <td>(Action)</td>\n",
       "      <td>0.514535</td>\n",
       "      <td>0.246003</td>\n",
       "      <td>0.103198</td>\n",
       "      <td>0.200565</td>\n",
       "      <td>0.815295</td>\n",
       "      <td>-0.023379</td>\n",
       "      <td>0.943162</td>\n",
       "    </tr>\n",
       "    <tr>\n",
       "      <th>8</th>\n",
       "      <td>(Comedy)</td>\n",
       "      <td>(Adventure)</td>\n",
       "      <td>0.349564</td>\n",
       "      <td>0.182958</td>\n",
       "      <td>0.070858</td>\n",
       "      <td>0.202703</td>\n",
       "      <td>1.107920</td>\n",
       "      <td>0.006902</td>\n",
       "      <td>1.024765</td>\n",
       "    </tr>\n",
       "    <tr>\n",
       "      <th>9</th>\n",
       "      <td>(Adventure)</td>\n",
       "      <td>(Comedy)</td>\n",
       "      <td>0.182958</td>\n",
       "      <td>0.349564</td>\n",
       "      <td>0.070858</td>\n",
       "      <td>0.387289</td>\n",
       "      <td>1.107920</td>\n",
       "      <td>0.006902</td>\n",
       "      <td>1.061571</td>\n",
       "    </tr>\n",
       "    <tr>\n",
       "      <th>10</th>\n",
       "      <td>(Adventure)</td>\n",
       "      <td>(Family)</td>\n",
       "      <td>0.182958</td>\n",
       "      <td>0.168786</td>\n",
       "      <td>0.076490</td>\n",
       "      <td>0.418073</td>\n",
       "      <td>2.476939</td>\n",
       "      <td>0.045609</td>\n",
       "      <td>1.428383</td>\n",
       "    </tr>\n",
       "    <tr>\n",
       "      <th>11</th>\n",
       "      <td>(Family)</td>\n",
       "      <td>(Adventure)</td>\n",
       "      <td>0.168786</td>\n",
       "      <td>0.182958</td>\n",
       "      <td>0.076490</td>\n",
       "      <td>0.453175</td>\n",
       "      <td>2.476939</td>\n",
       "      <td>0.045609</td>\n",
       "      <td>1.494158</td>\n",
       "    </tr>\n",
       "    <tr>\n",
       "      <th>12</th>\n",
       "      <td>(Drama)</td>\n",
       "      <td>(Thriller)</td>\n",
       "      <td>0.514535</td>\n",
       "      <td>0.300145</td>\n",
       "      <td>0.152071</td>\n",
       "      <td>0.295551</td>\n",
       "      <td>0.984692</td>\n",
       "      <td>-0.002364</td>\n",
       "      <td>0.993478</td>\n",
       "    </tr>\n",
       "    <tr>\n",
       "      <th>13</th>\n",
       "      <td>(Thriller)</td>\n",
       "      <td>(Drama)</td>\n",
       "      <td>0.300145</td>\n",
       "      <td>0.514535</td>\n",
       "      <td>0.152071</td>\n",
       "      <td>0.506659</td>\n",
       "      <td>0.984692</td>\n",
       "      <td>-0.002364</td>\n",
       "      <td>0.984035</td>\n",
       "    </tr>\n",
       "    <tr>\n",
       "      <th>14</th>\n",
       "      <td>(Crime)</td>\n",
       "      <td>(Thriller)</td>\n",
       "      <td>0.163517</td>\n",
       "      <td>0.300145</td>\n",
       "      <td>0.094477</td>\n",
       "      <td>0.577778</td>\n",
       "      <td>1.924993</td>\n",
       "      <td>0.045398</td>\n",
       "      <td>1.657550</td>\n",
       "    </tr>\n",
       "    <tr>\n",
       "      <th>15</th>\n",
       "      <td>(Thriller)</td>\n",
       "      <td>(Crime)</td>\n",
       "      <td>0.300145</td>\n",
       "      <td>0.163517</td>\n",
       "      <td>0.094477</td>\n",
       "      <td>0.314770</td>\n",
       "      <td>1.924993</td>\n",
       "      <td>0.045398</td>\n",
       "      <td>1.220732</td>\n",
       "    </tr>\n",
       "    <tr>\n",
       "      <th>16</th>\n",
       "      <td>(Mystery)</td>\n",
       "      <td>(Thriller)</td>\n",
       "      <td>0.106831</td>\n",
       "      <td>0.300145</td>\n",
       "      <td>0.077762</td>\n",
       "      <td>0.727891</td>\n",
       "      <td>2.425129</td>\n",
       "      <td>0.045697</td>\n",
       "      <td>2.571966</td>\n",
       "    </tr>\n",
       "    <tr>\n",
       "      <th>17</th>\n",
       "      <td>(Thriller)</td>\n",
       "      <td>(Mystery)</td>\n",
       "      <td>0.300145</td>\n",
       "      <td>0.106831</td>\n",
       "      <td>0.077762</td>\n",
       "      <td>0.259080</td>\n",
       "      <td>2.425129</td>\n",
       "      <td>0.045697</td>\n",
       "      <td>1.205486</td>\n",
       "    </tr>\n",
       "    <tr>\n",
       "      <th>18</th>\n",
       "      <td>(Thriller)</td>\n",
       "      <td>(Horror)</td>\n",
       "      <td>0.300145</td>\n",
       "      <td>0.160429</td>\n",
       "      <td>0.105741</td>\n",
       "      <td>0.352300</td>\n",
       "      <td>2.195992</td>\n",
       "      <td>0.057589</td>\n",
       "      <td>1.296235</td>\n",
       "    </tr>\n",
       "    <tr>\n",
       "      <th>19</th>\n",
       "      <td>(Horror)</td>\n",
       "      <td>(Thriller)</td>\n",
       "      <td>0.160429</td>\n",
       "      <td>0.300145</td>\n",
       "      <td>0.105741</td>\n",
       "      <td>0.659117</td>\n",
       "      <td>2.195992</td>\n",
       "      <td>0.057589</td>\n",
       "      <td>2.053062</td>\n",
       "    </tr>\n",
       "    <tr>\n",
       "      <th>20</th>\n",
       "      <td>(Comedy)</td>\n",
       "      <td>(Family)</td>\n",
       "      <td>0.349564</td>\n",
       "      <td>0.168786</td>\n",
       "      <td>0.097202</td>\n",
       "      <td>0.278067</td>\n",
       "      <td>1.647447</td>\n",
       "      <td>0.038200</td>\n",
       "      <td>1.151372</td>\n",
       "    </tr>\n",
       "    <tr>\n",
       "      <th>21</th>\n",
       "      <td>(Family)</td>\n",
       "      <td>(Comedy)</td>\n",
       "      <td>0.168786</td>\n",
       "      <td>0.349564</td>\n",
       "      <td>0.097202</td>\n",
       "      <td>0.575888</td>\n",
       "      <td>1.647447</td>\n",
       "      <td>0.038200</td>\n",
       "      <td>1.533642</td>\n",
       "    </tr>\n",
       "    <tr>\n",
       "      <th>22</th>\n",
       "      <td>(Drama)</td>\n",
       "      <td>(Comedy)</td>\n",
       "      <td>0.514535</td>\n",
       "      <td>0.349564</td>\n",
       "      <td>0.141715</td>\n",
       "      <td>0.275424</td>\n",
       "      <td>0.787907</td>\n",
       "      <td>-0.038148</td>\n",
       "      <td>0.897678</td>\n",
       "    </tr>\n",
       "    <tr>\n",
       "      <th>23</th>\n",
       "      <td>(Comedy)</td>\n",
       "      <td>(Drama)</td>\n",
       "      <td>0.349564</td>\n",
       "      <td>0.514535</td>\n",
       "      <td>0.141715</td>\n",
       "      <td>0.405405</td>\n",
       "      <td>0.787907</td>\n",
       "      <td>-0.038148</td>\n",
       "      <td>0.816464</td>\n",
       "    </tr>\n",
       "    <tr>\n",
       "      <th>24</th>\n",
       "      <td>(Romance)</td>\n",
       "      <td>(Comedy)</td>\n",
       "      <td>0.189680</td>\n",
       "      <td>0.349564</td>\n",
       "      <td>0.099564</td>\n",
       "      <td>0.524904</td>\n",
       "      <td>1.501597</td>\n",
       "      <td>0.033259</td>\n",
       "      <td>1.369063</td>\n",
       "    </tr>\n",
       "    <tr>\n",
       "      <th>25</th>\n",
       "      <td>(Comedy)</td>\n",
       "      <td>(Romance)</td>\n",
       "      <td>0.349564</td>\n",
       "      <td>0.189680</td>\n",
       "      <td>0.099564</td>\n",
       "      <td>0.284823</td>\n",
       "      <td>1.501597</td>\n",
       "      <td>0.033259</td>\n",
       "      <td>1.133034</td>\n",
       "    </tr>\n",
       "    <tr>\n",
       "      <th>26</th>\n",
       "      <td>(Animation)</td>\n",
       "      <td>(Family)</td>\n",
       "      <td>0.076853</td>\n",
       "      <td>0.168786</td>\n",
       "      <td>0.061228</td>\n",
       "      <td>0.796690</td>\n",
       "      <td>4.720111</td>\n",
       "      <td>0.048256</td>\n",
       "      <td>4.088411</td>\n",
       "    </tr>\n",
       "    <tr>\n",
       "      <th>27</th>\n",
       "      <td>(Family)</td>\n",
       "      <td>(Animation)</td>\n",
       "      <td>0.168786</td>\n",
       "      <td>0.076853</td>\n",
       "      <td>0.061228</td>\n",
       "      <td>0.362756</td>\n",
       "      <td>4.720111</td>\n",
       "      <td>0.048256</td>\n",
       "      <td>1.448654</td>\n",
       "    </tr>\n",
       "    <tr>\n",
       "      <th>28</th>\n",
       "      <td>(Drama)</td>\n",
       "      <td>(Crime)</td>\n",
       "      <td>0.514535</td>\n",
       "      <td>0.163517</td>\n",
       "      <td>0.109012</td>\n",
       "      <td>0.211864</td>\n",
       "      <td>1.295669</td>\n",
       "      <td>0.024876</td>\n",
       "      <td>1.061343</td>\n",
       "    </tr>\n",
       "    <tr>\n",
       "      <th>29</th>\n",
       "      <td>(Crime)</td>\n",
       "      <td>(Drama)</td>\n",
       "      <td>0.163517</td>\n",
       "      <td>0.514535</td>\n",
       "      <td>0.109012</td>\n",
       "      <td>0.666667</td>\n",
       "      <td>1.295669</td>\n",
       "      <td>0.024876</td>\n",
       "      <td>1.456395</td>\n",
       "    </tr>\n",
       "    <tr>\n",
       "      <th>30</th>\n",
       "      <td>(Drama)</td>\n",
       "      <td>(Romance)</td>\n",
       "      <td>0.514535</td>\n",
       "      <td>0.189680</td>\n",
       "      <td>0.128815</td>\n",
       "      <td>0.250353</td>\n",
       "      <td>1.319869</td>\n",
       "      <td>0.031218</td>\n",
       "      <td>1.080935</td>\n",
       "    </tr>\n",
       "    <tr>\n",
       "      <th>31</th>\n",
       "      <td>(Romance)</td>\n",
       "      <td>(Drama)</td>\n",
       "      <td>0.189680</td>\n",
       "      <td>0.514535</td>\n",
       "      <td>0.128815</td>\n",
       "      <td>0.679119</td>\n",
       "      <td>1.319869</td>\n",
       "      <td>0.031218</td>\n",
       "      <td>1.512912</td>\n",
       "    </tr>\n",
       "    <tr>\n",
       "      <th>32</th>\n",
       "      <td>(Drama, Crime)</td>\n",
       "      <td>(Thriller)</td>\n",
       "      <td>0.109012</td>\n",
       "      <td>0.300145</td>\n",
       "      <td>0.063408</td>\n",
       "      <td>0.581667</td>\n",
       "      <td>1.937950</td>\n",
       "      <td>0.030689</td>\n",
       "      <td>1.672959</td>\n",
       "    </tr>\n",
       "    <tr>\n",
       "      <th>33</th>\n",
       "      <td>(Drama, Thriller)</td>\n",
       "      <td>(Crime)</td>\n",
       "      <td>0.152071</td>\n",
       "      <td>0.163517</td>\n",
       "      <td>0.063408</td>\n",
       "      <td>0.416965</td>\n",
       "      <td>2.549975</td>\n",
       "      <td>0.038542</td>\n",
       "      <td>1.434705</td>\n",
       "    </tr>\n",
       "    <tr>\n",
       "      <th>34</th>\n",
       "      <td>(Crime, Thriller)</td>\n",
       "      <td>(Drama)</td>\n",
       "      <td>0.094477</td>\n",
       "      <td>0.514535</td>\n",
       "      <td>0.063408</td>\n",
       "      <td>0.671154</td>\n",
       "      <td>1.304389</td>\n",
       "      <td>0.014797</td>\n",
       "      <td>1.476268</td>\n",
       "    </tr>\n",
       "    <tr>\n",
       "      <th>35</th>\n",
       "      <td>(Drama)</td>\n",
       "      <td>(Crime, Thriller)</td>\n",
       "      <td>0.514535</td>\n",
       "      <td>0.094477</td>\n",
       "      <td>0.063408</td>\n",
       "      <td>0.123234</td>\n",
       "      <td>1.304389</td>\n",
       "      <td>0.014797</td>\n",
       "      <td>1.032800</td>\n",
       "    </tr>\n",
       "    <tr>\n",
       "      <th>36</th>\n",
       "      <td>(Crime)</td>\n",
       "      <td>(Drama, Thriller)</td>\n",
       "      <td>0.163517</td>\n",
       "      <td>0.152071</td>\n",
       "      <td>0.063408</td>\n",
       "      <td>0.387778</td>\n",
       "      <td>2.549975</td>\n",
       "      <td>0.038542</td>\n",
       "      <td>1.385002</td>\n",
       "    </tr>\n",
       "    <tr>\n",
       "      <th>37</th>\n",
       "      <td>(Thriller)</td>\n",
       "      <td>(Drama, Crime)</td>\n",
       "      <td>0.300145</td>\n",
       "      <td>0.109012</td>\n",
       "      <td>0.063408</td>\n",
       "      <td>0.211259</td>\n",
       "      <td>1.937950</td>\n",
       "      <td>0.030689</td>\n",
       "      <td>1.129634</td>\n",
       "    </tr>\n",
       "  </tbody>\n",
       "</table>\n",
       "</div>"
      ],
      "text/plain": [
       "          antecedents        consequents  antecedent support  \\\n",
       "0            (Action)        (Adventure)            0.246003   \n",
       "1         (Adventure)           (Action)            0.182958   \n",
       "2            (Action)           (Sci-Fi)            0.246003   \n",
       "3            (Sci-Fi)           (Action)            0.122275   \n",
       "4            (Action)         (Thriller)            0.246003   \n",
       "5          (Thriller)           (Action)            0.300145   \n",
       "6            (Action)            (Drama)            0.246003   \n",
       "7             (Drama)           (Action)            0.514535   \n",
       "8            (Comedy)        (Adventure)            0.349564   \n",
       "9         (Adventure)           (Comedy)            0.182958   \n",
       "10        (Adventure)           (Family)            0.182958   \n",
       "11           (Family)        (Adventure)            0.168786   \n",
       "12            (Drama)         (Thriller)            0.514535   \n",
       "13         (Thriller)            (Drama)            0.300145   \n",
       "14            (Crime)         (Thriller)            0.163517   \n",
       "15         (Thriller)            (Crime)            0.300145   \n",
       "16          (Mystery)         (Thriller)            0.106831   \n",
       "17         (Thriller)          (Mystery)            0.300145   \n",
       "18         (Thriller)           (Horror)            0.300145   \n",
       "19           (Horror)         (Thriller)            0.160429   \n",
       "20           (Comedy)           (Family)            0.349564   \n",
       "21           (Family)           (Comedy)            0.168786   \n",
       "22            (Drama)           (Comedy)            0.514535   \n",
       "23           (Comedy)            (Drama)            0.349564   \n",
       "24          (Romance)           (Comedy)            0.189680   \n",
       "25           (Comedy)          (Romance)            0.349564   \n",
       "26        (Animation)           (Family)            0.076853   \n",
       "27           (Family)        (Animation)            0.168786   \n",
       "28            (Drama)            (Crime)            0.514535   \n",
       "29            (Crime)            (Drama)            0.163517   \n",
       "30            (Drama)          (Romance)            0.514535   \n",
       "31          (Romance)            (Drama)            0.189680   \n",
       "32     (Drama, Crime)         (Thriller)            0.109012   \n",
       "33  (Drama, Thriller)            (Crime)            0.152071   \n",
       "34  (Crime, Thriller)            (Drama)            0.094477   \n",
       "35            (Drama)  (Crime, Thriller)            0.514535   \n",
       "36            (Crime)  (Drama, Thriller)            0.163517   \n",
       "37         (Thriller)     (Drama, Crime)            0.300145   \n",
       "\n",
       "    consequent support   support  confidence      lift  leverage  conviction  \n",
       "0             0.182958  0.087936    0.357459  1.953780  0.042928    1.271581  \n",
       "1             0.246003  0.087936    0.480636  1.953780  0.042928    1.451769  \n",
       "2             0.122275  0.061773    0.251108  2.053637  0.031693    1.172032  \n",
       "3             0.246003  0.061773    0.505201  2.053637  0.031693    1.523844  \n",
       "4             0.300145  0.108285    0.440177  1.466547  0.034448    1.250136  \n",
       "5             0.246003  0.108285    0.360775  1.466547  0.034448    1.179548  \n",
       "6             0.514535  0.103198    0.419498  0.815295 -0.023379    0.836285  \n",
       "7             0.246003  0.103198    0.200565  0.815295 -0.023379    0.943162  \n",
       "8             0.182958  0.070858    0.202703  1.107920  0.006902    1.024765  \n",
       "9             0.349564  0.070858    0.387289  1.107920  0.006902    1.061571  \n",
       "10            0.168786  0.076490    0.418073  2.476939  0.045609    1.428383  \n",
       "11            0.182958  0.076490    0.453175  2.476939  0.045609    1.494158  \n",
       "12            0.300145  0.152071    0.295551  0.984692 -0.002364    0.993478  \n",
       "13            0.514535  0.152071    0.506659  0.984692 -0.002364    0.984035  \n",
       "14            0.300145  0.094477    0.577778  1.924993  0.045398    1.657550  \n",
       "15            0.163517  0.094477    0.314770  1.924993  0.045398    1.220732  \n",
       "16            0.300145  0.077762    0.727891  2.425129  0.045697    2.571966  \n",
       "17            0.106831  0.077762    0.259080  2.425129  0.045697    1.205486  \n",
       "18            0.160429  0.105741    0.352300  2.195992  0.057589    1.296235  \n",
       "19            0.300145  0.105741    0.659117  2.195992  0.057589    2.053062  \n",
       "20            0.168786  0.097202    0.278067  1.647447  0.038200    1.151372  \n",
       "21            0.349564  0.097202    0.575888  1.647447  0.038200    1.533642  \n",
       "22            0.349564  0.141715    0.275424  0.787907 -0.038148    0.897678  \n",
       "23            0.514535  0.141715    0.405405  0.787907 -0.038148    0.816464  \n",
       "24            0.349564  0.099564    0.524904  1.501597  0.033259    1.369063  \n",
       "25            0.189680  0.099564    0.284823  1.501597  0.033259    1.133034  \n",
       "26            0.168786  0.061228    0.796690  4.720111  0.048256    4.088411  \n",
       "27            0.076853  0.061228    0.362756  4.720111  0.048256    1.448654  \n",
       "28            0.163517  0.109012    0.211864  1.295669  0.024876    1.061343  \n",
       "29            0.514535  0.109012    0.666667  1.295669  0.024876    1.456395  \n",
       "30            0.189680  0.128815    0.250353  1.319869  0.031218    1.080935  \n",
       "31            0.514535  0.128815    0.679119  1.319869  0.031218    1.512912  \n",
       "32            0.300145  0.063408    0.581667  1.937950  0.030689    1.672959  \n",
       "33            0.163517  0.063408    0.416965  2.549975  0.038542    1.434705  \n",
       "34            0.514535  0.063408    0.671154  1.304389  0.014797    1.476268  \n",
       "35            0.094477  0.063408    0.123234  1.304389  0.014797    1.032800  \n",
       "36            0.152071  0.063408    0.387778  2.549975  0.038542    1.385002  \n",
       "37            0.109012  0.063408    0.211259  1.937950  0.030689    1.129634  "
      ]
     },
     "execution_count": 677,
     "metadata": {},
     "output_type": "execute_result"
    }
   ],
   "source": [
    "rules"
   ]
  },
  {
   "cell_type": "code",
   "execution_count": 678,
   "metadata": {},
   "outputs": [
    {
     "data": {
      "text/html": [
       "<div>\n",
       "<style scoped>\n",
       "    .dataframe tbody tr th:only-of-type {\n",
       "        vertical-align: middle;\n",
       "    }\n",
       "\n",
       "    .dataframe tbody tr th {\n",
       "        vertical-align: top;\n",
       "    }\n",
       "\n",
       "    .dataframe thead th {\n",
       "        text-align: right;\n",
       "    }\n",
       "</style>\n",
       "<table border=\"1\" class=\"dataframe\">\n",
       "  <thead>\n",
       "    <tr style=\"text-align: right;\">\n",
       "      <th></th>\n",
       "      <th>antecedents</th>\n",
       "      <th>consequents</th>\n",
       "      <th>antecedent support</th>\n",
       "      <th>consequent support</th>\n",
       "      <th>support</th>\n",
       "      <th>confidence</th>\n",
       "      <th>lift</th>\n",
       "      <th>leverage</th>\n",
       "      <th>conviction</th>\n",
       "    </tr>\n",
       "  </thead>\n",
       "  <tbody>\n",
       "    <tr>\n",
       "      <th>12</th>\n",
       "      <td>(Drama)</td>\n",
       "      <td>(Thriller)</td>\n",
       "      <td>0.514535</td>\n",
       "      <td>0.300145</td>\n",
       "      <td>0.152071</td>\n",
       "      <td>0.295551</td>\n",
       "      <td>0.984692</td>\n",
       "      <td>-0.002364</td>\n",
       "      <td>0.993478</td>\n",
       "    </tr>\n",
       "    <tr>\n",
       "      <th>13</th>\n",
       "      <td>(Thriller)</td>\n",
       "      <td>(Drama)</td>\n",
       "      <td>0.300145</td>\n",
       "      <td>0.514535</td>\n",
       "      <td>0.152071</td>\n",
       "      <td>0.506659</td>\n",
       "      <td>0.984692</td>\n",
       "      <td>-0.002364</td>\n",
       "      <td>0.984035</td>\n",
       "    </tr>\n",
       "  </tbody>\n",
       "</table>\n",
       "</div>"
      ],
      "text/plain": [
       "   antecedents consequents  antecedent support  consequent support   support  \\\n",
       "12     (Drama)  (Thriller)            0.514535            0.300145  0.152071   \n",
       "13  (Thriller)     (Drama)            0.300145            0.514535  0.152071   \n",
       "\n",
       "    confidence      lift  leverage  conviction  \n",
       "12    0.295551  0.984692 -0.002364    0.993478  \n",
       "13    0.506659  0.984692 -0.002364    0.984035  "
      ]
     },
     "execution_count": 678,
     "metadata": {},
     "output_type": "execute_result"
    }
   ],
   "source": [
    "rules[rules['support'] == rules.support.max()]"
   ]
  },
  {
   "cell_type": "code",
   "execution_count": 679,
   "metadata": {},
   "outputs": [
    {
     "data": {
      "text/html": [
       "<div>\n",
       "<style scoped>\n",
       "    .dataframe tbody tr th:only-of-type {\n",
       "        vertical-align: middle;\n",
       "    }\n",
       "\n",
       "    .dataframe tbody tr th {\n",
       "        vertical-align: top;\n",
       "    }\n",
       "\n",
       "    .dataframe thead th {\n",
       "        text-align: right;\n",
       "    }\n",
       "</style>\n",
       "<table border=\"1\" class=\"dataframe\">\n",
       "  <thead>\n",
       "    <tr style=\"text-align: right;\">\n",
       "      <th></th>\n",
       "      <th>antecedents</th>\n",
       "      <th>consequents</th>\n",
       "      <th>antecedent support</th>\n",
       "      <th>consequent support</th>\n",
       "      <th>support</th>\n",
       "      <th>confidence</th>\n",
       "      <th>lift</th>\n",
       "      <th>leverage</th>\n",
       "      <th>conviction</th>\n",
       "    </tr>\n",
       "  </thead>\n",
       "  <tbody>\n",
       "    <tr>\n",
       "      <th>26</th>\n",
       "      <td>(Animation)</td>\n",
       "      <td>(Family)</td>\n",
       "      <td>0.076853</td>\n",
       "      <td>0.168786</td>\n",
       "      <td>0.061228</td>\n",
       "      <td>0.79669</td>\n",
       "      <td>4.720111</td>\n",
       "      <td>0.048256</td>\n",
       "      <td>4.088411</td>\n",
       "    </tr>\n",
       "  </tbody>\n",
       "</table>\n",
       "</div>"
      ],
      "text/plain": [
       "    antecedents consequents  antecedent support  consequent support   support  \\\n",
       "26  (Animation)    (Family)            0.076853            0.168786  0.061228   \n",
       "\n",
       "    confidence      lift  leverage  conviction  \n",
       "26     0.79669  4.720111  0.048256    4.088411  "
      ]
     },
     "execution_count": 679,
     "metadata": {},
     "output_type": "execute_result"
    }
   ],
   "source": [
    "rules[rules['confidence'] == rules.confidence.max()]"
   ]
  },
  {
   "cell_type": "code",
   "execution_count": 680,
   "metadata": {},
   "outputs": [
    {
     "data": {
      "text/html": [
       "<div>\n",
       "<style scoped>\n",
       "    .dataframe tbody tr th:only-of-type {\n",
       "        vertical-align: middle;\n",
       "    }\n",
       "\n",
       "    .dataframe tbody tr th {\n",
       "        vertical-align: top;\n",
       "    }\n",
       "\n",
       "    .dataframe thead th {\n",
       "        text-align: right;\n",
       "    }\n",
       "</style>\n",
       "<table border=\"1\" class=\"dataframe\">\n",
       "  <thead>\n",
       "    <tr style=\"text-align: right;\">\n",
       "      <th></th>\n",
       "      <th>antecedents</th>\n",
       "      <th>consequents</th>\n",
       "      <th>antecedent support</th>\n",
       "      <th>consequent support</th>\n",
       "      <th>support</th>\n",
       "      <th>confidence</th>\n",
       "      <th>lift</th>\n",
       "      <th>leverage</th>\n",
       "      <th>conviction</th>\n",
       "    </tr>\n",
       "  </thead>\n",
       "  <tbody>\n",
       "    <tr>\n",
       "      <th>26</th>\n",
       "      <td>(Animation)</td>\n",
       "      <td>(Family)</td>\n",
       "      <td>0.076853</td>\n",
       "      <td>0.168786</td>\n",
       "      <td>0.061228</td>\n",
       "      <td>0.796690</td>\n",
       "      <td>4.720111</td>\n",
       "      <td>0.048256</td>\n",
       "      <td>4.088411</td>\n",
       "    </tr>\n",
       "    <tr>\n",
       "      <th>27</th>\n",
       "      <td>(Family)</td>\n",
       "      <td>(Animation)</td>\n",
       "      <td>0.168786</td>\n",
       "      <td>0.076853</td>\n",
       "      <td>0.061228</td>\n",
       "      <td>0.362756</td>\n",
       "      <td>4.720111</td>\n",
       "      <td>0.048256</td>\n",
       "      <td>1.448654</td>\n",
       "    </tr>\n",
       "  </tbody>\n",
       "</table>\n",
       "</div>"
      ],
      "text/plain": [
       "    antecedents  consequents  antecedent support  consequent support  \\\n",
       "26  (Animation)     (Family)            0.076853            0.168786   \n",
       "27     (Family)  (Animation)            0.168786            0.076853   \n",
       "\n",
       "     support  confidence      lift  leverage  conviction  \n",
       "26  0.061228    0.796690  4.720111  0.048256    4.088411  \n",
       "27  0.061228    0.362756  4.720111  0.048256    1.448654  "
      ]
     },
     "execution_count": 680,
     "metadata": {},
     "output_type": "execute_result"
    }
   ],
   "source": [
    "rules[rules['lift'] == rules.lift.max()]"
   ]
  },
  {
   "cell_type": "markdown",
   "metadata": {},
   "source": [
    "<p>Observando as regras acima, é possível perceber que pessoas que assistem filmes com o gênero \"Crime\", também assistem aos filmes de gênero <b>Drama e Thriller</b>. A confiança para com estes valores é de mais de 50% e o número de suporte pode se considerar aceitável para esta análise. Desta forma, eu recomendaria a essa pessoa a assistir filmes de Drama e Thriller.</p>"
   ]
  }
 ],
 "metadata": {
  "kernelspec": {
   "display_name": "Python 3",
   "language": "python",
   "name": "python3"
  },
  "language_info": {
   "codemirror_mode": {
    "name": "ipython",
    "version": 3
   },
   "file_extension": ".py",
   "mimetype": "text/x-python",
   "name": "python",
   "nbconvert_exporter": "python",
   "pygments_lexer": "ipython3",
   "version": "3.8.5"
  }
 },
 "nbformat": 4,
 "nbformat_minor": 4
}
