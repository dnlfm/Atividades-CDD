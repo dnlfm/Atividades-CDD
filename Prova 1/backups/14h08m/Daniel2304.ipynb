{
 "cells": [
  {
   "cell_type": "markdown",
   "metadata": {},
   "source": [
    "<h1>Prova 1 - Introdução à Ciência dos Dados</h1>\n",
    "<h3>Daniel Freitas Martins - 2304</h3>"
   ]
  },
  {
   "cell_type": "code",
   "execution_count": 1,
   "metadata": {},
   "outputs": [],
   "source": [
    "import pandas as pd\n",
    "import numpy as np\n",
    "from scipy import stats\n",
    "from scipy.stats import percentileofscore\n",
    "from scipy.stats import shapiro\n",
    "import matplotlib.pyplot as plt\n",
    "import seaborn as sns"
   ]
  },
  {
   "cell_type": "code",
   "execution_count": 2,
   "metadata": {},
   "outputs": [],
   "source": [
    "def analisarAmostraPopulacao(populacao, amostra, limiar=0.05):\n",
    "    print(\"\\t\\t\\t Amostra \"+str(i))\n",
    "    \n",
    "    media_populacao=populacao.mean()\n",
    "    media_amostra=np.mean(amostra)\n",
    "    erro_padrao=populacao.std() / np.sqrt(len(amostra))\n",
    "    z_score = abs(media_amostra - media_populacao) / erro_padrao\n",
    "    valor_p = 2*st.norm.sf(abs(z_score))\n",
    "    \n",
    "    print(\"Média População: %.3f\" % (media_populacao))\n",
    "    print(\"Média Amostra: \",(media_amostra))\n",
    "    print(\"Erro Padrão:\"+str(erro_padrao))\n",
    "    print(\"A diferença entre a média da amostra e da população é de %.3f erros padrões.\" % (z_score))\n",
    "    print(\"Valor-p: %.10f\" % (valor_p))\n",
    "    \n",
    "    if(valor_p < limiar):\n",
    "        print(\"Provavelmente a Amostra NÃO veio da População.\")\n",
    "    else:\n",
    "        print(\"Provavelmente a Amostra VEIO da População.\")\n",
    "        \n",
    "    print(\"\\n\\n\")\n"
   ]
  },
  {
   "cell_type": "code",
   "execution_count": 14,
   "metadata": {},
   "outputs": [],
   "source": [
    "def lerCSV(caminho_arquivo, header):\n",
    "    return pd.read_csv(caminho_arquivo, index_col=False, header=header, squeeze=True)"
   ]
  },
  {
   "cell_type": "code",
   "execution_count": 3,
   "metadata": {},
   "outputs": [],
   "source": [
    "def analisarDuasAmostras(amostra_1, amostra_2):\n",
    "    amostras = []\n",
    "    amostras.append(amostra_1)\n",
    "    amostras.append(amostra_2)\n",
    "    print('Média amostra 1:         %.2f' % (np.mean(amostra_1)))\n",
    "    print('Desvio padrão amostra 1: %.2f\\n' % (np.std(amostra_1)))\n",
    "    print('Média amostra 2:         %.2f' % (np.mean(amostra_2)))\n",
    "    print('Desvio padrão amostra 2: %.2f\\n' % (np.std(amostra_2)))\n",
    "    print('Média de ambas as amostras:         %.2f' % (np.mean(amostras)))\n",
    "    print('Desvio padrão de ambas as amostras: %.2f' % (np.std(amostras)))\n",
    "    plt.hist(amostras, 100, density=True, align='mid')\n",
    "    plt.show()"
   ]
  },
  {
   "cell_type": "code",
   "execution_count": 4,
   "metadata": {},
   "outputs": [],
   "source": [
    "def getIntervaloConfianca95(data):\n",
    "    # 95% intervalo confiança\n",
    "    mean=data.mean()\n",
    "    sd=data.std()\n",
    "    n=len(data)\n",
    "    std_error=sd/np.sqrt(n)\n",
    "    print(\"Erro padrao %.3f \" % std_error)\n",
    "    print(\"Intervalo de confiança: %.3f - %.3f \" % ((mean-(1.96*std_error)),(mean+(1.96*std_error))))    \n",
    "    return mean,1.96*std_error"
   ]
  },
  {
   "cell_type": "code",
   "execution_count": 6,
   "metadata": {},
   "outputs": [],
   "source": [
    "def getNumeroErrosPadroesDiferencaMedias(data1, data2): #str_error_diff_mean\n",
    "    mean1=data1.mean()\n",
    "    mean2=data2.mean()\n",
    "    std1=data1.std()\n",
    "    std2=data2.std()\n",
    "    n1=len(data1)\n",
    "    n2=len(data2)\n",
    "    std_error_diff=np.sqrt((np.power(std1,2)/n1) + (np.power(std2,2)/n2))\n",
    "    diff_mean=mean1-mean2\n",
    "    print(\"Diferencas das medias: %.3f \" % diff_mean)\n",
    "    print(\"Erro padrão: %.3f \" % std_error_diff)\n",
    "    return (diff_mean/std_error_diff)"
   ]
  },
  {
   "cell_type": "code",
   "execution_count": 7,
   "metadata": {},
   "outputs": [],
   "source": [
    "def gerarErrorBar(data_1, data_2, titulo_data_1 = 'data1', titulo_data_2 = 'data2'):\n",
    "    mean_data_1,std_error_data_1=confidence_interval(data1)\n",
    "    mean_data_2,std_error_data_2=confidence_interval(data2)\n",
    "    x = [mean_data_1, mean_data_2]\n",
    "    y = [1, 3]\n",
    "    errors = [std_error_data_1, std_error_data_2]\n",
    "    plt.figure()\n",
    "    plt.errorbar(x, y, xerr=errors, fmt = 'o', color = 'k')\n",
    "    plt.yticks((0, 1, 3, 4), ('', titulo_data_1, titulo_data_2,'')) \n",
    "    plt.show()"
   ]
  },
  {
   "cell_type": "code",
   "execution_count": 8,
   "metadata": {},
   "outputs": [],
   "source": [
    "def gerarHistogramaDuasAmostras(amostra_1, amostra_2):\n",
    "    amostras = []\n",
    "    amostras.append(amostra_1)\n",
    "    amostras.append(amostra_2)\n",
    "    plt.hist(amostras, 100, density=True, align='mid', color=['b', 'r'])\n",
    "    plt.show()"
   ]
  },
  {
   "cell_type": "markdown",
   "metadata": {},
   "source": [
    "<h2>Lendo dados de \"Filmes-Prova01.csv\", correspondentes a lista de filmes de quatro plataformas de <i>Streaming</i> (Netflix, Amazon Prime, Disney+ e Hulu)</h2>"
   ]
  },
  {
   "cell_type": "code",
   "execution_count": 15,
   "metadata": {},
   "outputs": [
    {
     "data": {
      "text/html": [
       "<div>\n",
       "<style scoped>\n",
       "    .dataframe tbody tr th:only-of-type {\n",
       "        vertical-align: middle;\n",
       "    }\n",
       "\n",
       "    .dataframe tbody tr th {\n",
       "        vertical-align: top;\n",
       "    }\n",
       "\n",
       "    .dataframe thead th {\n",
       "        text-align: right;\n",
       "    }\n",
       "</style>\n",
       "<table border=\"1\" class=\"dataframe\">\n",
       "  <thead>\n",
       "    <tr style=\"text-align: right;\">\n",
       "      <th></th>\n",
       "      <th>ID</th>\n",
       "      <th>Titulo</th>\n",
       "      <th>Ano</th>\n",
       "      <th>Classificacao_etaria</th>\n",
       "      <th>IMDb</th>\n",
       "      <th>Netflix</th>\n",
       "      <th>Hulu</th>\n",
       "      <th>Amazon_prime</th>\n",
       "      <th>Disney+</th>\n",
       "      <th>Diretores</th>\n",
       "      <th>Generos</th>\n",
       "      <th>Pais</th>\n",
       "      <th>Idioma</th>\n",
       "      <th>Duracao_min</th>\n",
       "    </tr>\n",
       "  </thead>\n",
       "  <tbody>\n",
       "    <tr>\n",
       "      <th>0</th>\n",
       "      <td>1</td>\n",
       "      <td>Inception</td>\n",
       "      <td>2010</td>\n",
       "      <td>13+</td>\n",
       "      <td>8.8</td>\n",
       "      <td>1</td>\n",
       "      <td>0</td>\n",
       "      <td>0</td>\n",
       "      <td>0</td>\n",
       "      <td>Christopher Nolan</td>\n",
       "      <td>Action,Adventure,Sci-Fi,Thriller</td>\n",
       "      <td>United States,United Kingdom</td>\n",
       "      <td>English,Japanese,French</td>\n",
       "      <td>148.0</td>\n",
       "    </tr>\n",
       "    <tr>\n",
       "      <th>1</th>\n",
       "      <td>2</td>\n",
       "      <td>The Matrix</td>\n",
       "      <td>1999</td>\n",
       "      <td>18+</td>\n",
       "      <td>8.7</td>\n",
       "      <td>1</td>\n",
       "      <td>0</td>\n",
       "      <td>0</td>\n",
       "      <td>0</td>\n",
       "      <td>Lana Wachowski,Lilly Wachowski</td>\n",
       "      <td>Action,Sci-Fi</td>\n",
       "      <td>United States</td>\n",
       "      <td>English</td>\n",
       "      <td>136.0</td>\n",
       "    </tr>\n",
       "    <tr>\n",
       "      <th>2</th>\n",
       "      <td>3</td>\n",
       "      <td>Avengers: Infinity War</td>\n",
       "      <td>2018</td>\n",
       "      <td>13+</td>\n",
       "      <td>8.5</td>\n",
       "      <td>1</td>\n",
       "      <td>0</td>\n",
       "      <td>0</td>\n",
       "      <td>0</td>\n",
       "      <td>Anthony Russo,Joe Russo</td>\n",
       "      <td>Action,Adventure,Sci-Fi</td>\n",
       "      <td>United States</td>\n",
       "      <td>English</td>\n",
       "      <td>149.0</td>\n",
       "    </tr>\n",
       "  </tbody>\n",
       "</table>\n",
       "</div>"
      ],
      "text/plain": [
       "   ID                  Titulo   Ano Classificacao_etaria  IMDb  Netflix  Hulu  \\\n",
       "0   1               Inception  2010                  13+   8.8        1     0   \n",
       "1   2              The Matrix  1999                  18+   8.7        1     0   \n",
       "2   3  Avengers: Infinity War  2018                  13+   8.5        1     0   \n",
       "\n",
       "   Amazon_prime  Disney+                       Diretores  \\\n",
       "0             0        0               Christopher Nolan   \n",
       "1             0        0  Lana Wachowski,Lilly Wachowski   \n",
       "2             0        0         Anthony Russo,Joe Russo   \n",
       "\n",
       "                            Generos                          Pais  \\\n",
       "0  Action,Adventure,Sci-Fi,Thriller  United States,United Kingdom   \n",
       "1                     Action,Sci-Fi                 United States   \n",
       "2           Action,Adventure,Sci-Fi                 United States   \n",
       "\n",
       "                    Idioma  Duracao_min  \n",
       "0  English,Japanese,French        148.0  \n",
       "1                  English        136.0  \n",
       "2                  English        149.0  "
      ]
     },
     "execution_count": 15,
     "metadata": {},
     "output_type": "execute_result"
    }
   ],
   "source": [
    "df = lerCSV(\"Filmes-Prova01.csv\", header=0)\n",
    "df.head(3)"
   ]
  },
  {
   "cell_type": "markdown",
   "metadata": {},
   "source": [
    "<h2>1) Quantos filmes cada uma das 4 plataformas possui? Faça um gráfico de barras para ilustrar esses valores</h2>"
   ]
  },
  {
   "cell_type": "code",
   "execution_count": 29,
   "metadata": {},
   "outputs": [
    {
     "name": "stdout",
     "output_type": "stream",
     "text": [
      "Quantidade de filmes em cada plataforma:\n",
      "\t- Netflix: 3560\n",
      "\t- Hulu: 903\n",
      "\t- Amazon Prime: 12354\n",
      "\t- Disney+: 564\n"
     ]
    },
    {
     "data": {
      "image/png": "[encoded data removed]",
      "text/plain": [
       "<Figure size 432x288 with 1 Axes>"
      ]
     },
     "metadata": {
      "needs_background": "light"
     },
     "output_type": "display_data"
    }
   ],
   "source": [
    "qtd_filmes_netflix = df['Netflix'].sum()\n",
    "qtd_filmes_hulu = df['Hulu'].sum()\n",
    "qtd_filmes_amazon = df['Amazon_prime'].sum()\n",
    "qtd_filmes_disney = df['Disney+'].sum()\n",
    "print(\"Quantidade de filmes em cada plataforma:\")\n",
    "print(\"\\t- Netflix:\", qtd_filmes_netflix)\n",
    "print(\"\\t- Hulu:\", qtd_filmes_hulu)\n",
    "print(\"\\t- Amazon Prime:\", qtd_filmes_amazon)\n",
    "print(\"\\t- Disney+:\", qtd_filmes_disney)\n",
    "fig = plt.figure()\n",
    "ax = fig.add_axes([0, 0, 1, 1])\n",
    "plataformas = ['Netflix', 'Hulu', 'Amazon Prime', 'Disney+']\n",
    "qtd_filmes_plataformas = [qtd_filmes_netflix, qtd_filmes_hulu,\n",
    "                         qtd_filmes_amazon, qtd_filmes_disney]\n",
    "ax.barh(plataformas, qtd_filmes_plataformas)\n",
    "for p in ax.patches:\n",
    "    ax.annotate(p.get_width(), (p.get_width()+5,p.get_y()))\n",
    "plt.show()"
   ]
  },
  {
   "cell_type": "markdown",
   "metadata": {},
   "source": [
    "<h2>2) Quantos filmes estão em mais de uma plataforma?</h2>"
   ]
  },
  {
   "cell_type": "code",
   "execution_count": 47,
   "metadata": {},
   "outputs": [
    {
     "name": "stdout",
     "output_type": "stream",
     "text": [
      "Nº de filmes que estão em mais de uma plataforma: 627\n"
     ]
    }
   ],
   "source": [
    "qtd = 0\n",
    "for index, row in df.iterrows(): # iterando sobre todas as linhas\n",
    "    if(row['Netflix'] == 1): # se tiver em Netflix, avaliar se tem para algum outro\n",
    "        if(row['Hulu'] == 1 or row['Amazon_prime'] == 1 or row['Disney+'] == 1):\n",
    "            qtd+=1 # se tiver para Netflix e algum outro, soma 1\n",
    "            continue # vá para a próxima linha\n",
    "    if(row['Hulu'] == 1): # se tiver em Hulu, já sabemos que não tem em Netflix\n",
    "        if(row['Amazon_prime'] == 1 or row['Disney+'] == 1): # avaliando para os restantes\n",
    "            qtd+=1 # Analogamente, soma-se 1 se tiver para Hulu e outra plataforma\n",
    "            continue\n",
    "    if(row['Amazon_prime'] == 1):\n",
    "        if(row['Disney+'] == 1):\n",
    "            qtd+=1\n",
    "            continue\n",
    "print(\"Nº de filmes que estão em mais de uma plataforma:\", qtd)"
   ]
  },
  {
   "cell_type": "markdown",
   "metadata": {},
   "source": [
    "<h2>3) Qual a plataforma que possui a maior média de nota IMDb?</h2>"
   ]
  },
  {
   "cell_type": "code",
   "execution_count": 37,
   "metadata": {},
   "outputs": [],
   "source": [
    "df_filmes_netflix = df[df['Netflix'] == 1]\n",
    "df_filmes_hulu = df[df['Hulu'] == 1]\n",
    "df_filmes_amazon = df[df['Amazon_prime'] == 1]\n",
    "df_filmes_disney = df[df['Disney+'] == 1]"
   ]
  },
  {
   "cell_type": "code",
   "execution_count": 56,
   "metadata": {},
   "outputs": [],
   "source": [
    "def calcularMediaIMDb(df, nome_plataforma, df2):\n",
    "    media = df['IMDb'].sum() / len(df2)\n",
    "    print('Média de nota IMDb da plataforma', nome_plataforma, \"=\", media)\n",
    "    return media"
   ]
  },
  {
   "cell_type": "markdown",
   "metadata": {},
   "source": [
    "<h4>Considerando no cálculo das médias apenas os filmes presentes em cada plataforma:</h4>"
   ]
  },
  {
   "cell_type": "code",
   "execution_count": null,
   "metadata": {},
   "outputs": [],
   "source": [
    "media_netflix = calcularMediaIMDb(df_filmes_netflix, 'Netflix', df_filmes_netflix)\n",
    "media_hulu = calcularMediaIMDb(df_filmes_hulu, 'Hulu', df_filmes_hulu)\n",
    "media_amazon = calcularMediaIMDb(df_filmes_amazon, 'Amazon Prime', df_filmes_amazon)\n",
    "media_disney = calcularMediaIMDb(df_filmes_disney, 'Disney+', df_filmes_disney)"
   ]
  },
  {
   "cell_type": "markdown",
   "metadata": {},
   "source": [
    "<p>A plataforma que possui maior média de nota IMDb é a <b>Disney+</b>, com uma média de aproximadamente 6.43.</p>"
   ]
  },
  {
   "cell_type": "markdown",
   "metadata": {},
   "source": [
    "<h4>Considerando no cálculo das médias toda a base de dados, inclusive os filmes não presentes em determinadas plataformas:</h4>"
   ]
  },
  {
   "cell_type": "code",
   "execution_count": 57,
   "metadata": {},
   "outputs": [
    {
     "name": "stdout",
     "output_type": "stream",
     "text": [
      "Média de nota IMDb da plataforma Netflix = 1.2853977544194934\n",
      "Média de nota IMDb da plataforma Hulu = 0.3269947443860487\n",
      "Média de nota IMDb da plataforma Amazon Prime = 4.104156712852365\n",
      "Média de nota IMDb da plataforma Disney+ = 0.21658504538939322\n"
     ]
    }
   ],
   "source": [
    "media_netflix = calcularMediaIMDb(df_filmes_netflix, 'Netflix', df)\n",
    "media_hulu = calcularMediaIMDb(df_filmes_hulu, 'Hulu', df)\n",
    "media_amazon = calcularMediaIMDb(df_filmes_amazon, 'Amazon Prime', df)\n",
    "media_disney = calcularMediaIMDb(df_filmes_disney, 'Disney+', df)"
   ]
  },
  {
   "cell_type": "markdown",
   "metadata": {},
   "source": [
    "<p>A plataforma que possui maior média de nota IMDb é a <b>Amazon Prime</b>, com uma média de aproximadamente 4.10.</p>"
   ]
  },
  {
   "cell_type": "markdown",
   "metadata": {},
   "source": [
    "<h2>4) Qual o percentual de filmes de cada plataforma com nota IMDb maior que 8?</h2>"
   ]
  },
  {
   "cell_type": "code",
   "execution_count": 58,
   "metadata": {},
   "outputs": [
    {
     "name": "stderr",
     "output_type": "stream",
     "text": [
      "c:\\users\\freitas\\appdata\\local\\programs\\python\\python38\\lib\\site-packages\\scipy\\stats\\stats.py:1949: RuntimeWarning: invalid value encountered in less_equal\n",
      "  return np.count_nonzero(a <= score) / n * 100\n"
     ]
    },
    {
     "data": {
      "text/plain": [
       "93.06179775280899"
      ]
     },
     "execution_count": 58,
     "metadata": {},
     "output_type": "execute_result"
    }
   ],
   "source": [
    "percentileofscore(df_filmes_netflix['IMDb'], 8, kind='weak')"
   ]
  },
  {
   "cell_type": "code",
   "execution_count": null,
   "metadata": {},
   "outputs": [],
   "source": []
  }
 ],
 "metadata": {
  "kernelspec": {
   "display_name": "Python 3",
   "language": "python",
   "name": "python3"
  },
  "language_info": {
   "codemirror_mode": {
    "name": "ipython",
    "version": 3
   },
   "file_extension": ".py",
   "mimetype": "text/x-python",
   "name": "python",
   "nbconvert_exporter": "python",
   "pygments_lexer": "ipython3",
   "version": "3.8.5"
  }
 },
 "nbformat": 4,
 "nbformat_minor": 4
}
