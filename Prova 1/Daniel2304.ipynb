{
 "cells": [
  {
   "cell_type": "markdown",
   "metadata": {},
   "source": [
    "<h1>Prova 1 - Introdução à Ciência dos Dados</h1>\n",
    "<h3>Daniel Freitas Martins - 2304</h3>"
   ]
  },
  {
   "cell_type": "code",
   "execution_count": 133,
   "metadata": {},
   "outputs": [],
   "source": [
    "import pandas as pd\n",
    "import numpy as np\n",
    "from scipy import stats\n",
    "from scipy.stats import percentileofscore\n",
    "from scipy.stats import shapiro\n",
    "import matplotlib.pyplot as plt\n",
    "import seaborn as sns\n",
    "import operator"
   ]
  },
  {
   "cell_type": "code",
   "execution_count": 2,
   "metadata": {},
   "outputs": [],
   "source": [
    "def analisarAmostraPopulacao(populacao, amostra, limiar=0.05):\n",
    "    print(\"\\t\\t\\t Amostra \"+str(i))\n",
    "    \n",
    "    media_populacao=populacao.mean()\n",
    "    media_amostra=np.mean(amostra)\n",
    "    erro_padrao=populacao.std() / np.sqrt(len(amostra))\n",
    "    z_score = abs(media_amostra - media_populacao) / erro_padrao\n",
    "    valor_p = 2*st.norm.sf(abs(z_score))\n",
    "    \n",
    "    print(\"Média População: %.3f\" % (media_populacao))\n",
    "    print(\"Média Amostra: \",(media_amostra))\n",
    "    print(\"Erro Padrão:\"+str(erro_padrao))\n",
    "    print(\"A diferença entre a média da amostra e da população é de %.3f erros padrões.\" % (z_score))\n",
    "    print(\"Valor-p: %.10f\" % (valor_p))\n",
    "    \n",
    "    if(valor_p < limiar):\n",
    "        print(\"Provavelmente a Amostra NÃO veio da População.\")\n",
    "    else:\n",
    "        print(\"Provavelmente a Amostra VEIO da População.\")\n",
    "        \n",
    "    print(\"\\n\\n\")\n"
   ]
  },
  {
   "cell_type": "code",
   "execution_count": 14,
   "metadata": {},
   "outputs": [],
   "source": [
    "def lerCSV(caminho_arquivo, header):\n",
    "    return pd.read_csv(caminho_arquivo, index_col=False, header=header, squeeze=True)"
   ]
  },
  {
   "cell_type": "code",
   "execution_count": 3,
   "metadata": {},
   "outputs": [],
   "source": [
    "def analisarDuasAmostras(amostra_1, amostra_2):\n",
    "    amostras = []\n",
    "    amostras.append(amostra_1)\n",
    "    amostras.append(amostra_2)\n",
    "    print('Média amostra 1:         %.2f' % (np.mean(amostra_1)))\n",
    "    print('Desvio padrão amostra 1: %.2f\\n' % (np.std(amostra_1)))\n",
    "    print('Média amostra 2:         %.2f' % (np.mean(amostra_2)))\n",
    "    print('Desvio padrão amostra 2: %.2f\\n' % (np.std(amostra_2)))\n",
    "    print('Média de ambas as amostras:         %.2f' % (np.mean(amostras)))\n",
    "    print('Desvio padrão de ambas as amostras: %.2f' % (np.std(amostras)))\n",
    "    plt.hist(amostras, 100, density=True, align='mid')\n",
    "    plt.show()"
   ]
  },
  {
   "cell_type": "code",
   "execution_count": 4,
   "metadata": {},
   "outputs": [],
   "source": [
    "def getIntervaloConfianca95(data):\n",
    "    # 95% intervalo confiança\n",
    "    mean=data.mean()\n",
    "    sd=data.std()\n",
    "    n=len(data)\n",
    "    std_error=sd/np.sqrt(n)\n",
    "    print(\"Erro padrao %.3f \" % std_error)\n",
    "    print(\"Intervalo de confiança: %.3f - %.3f \" % ((mean-(1.96*std_error)),(mean+(1.96*std_error))))    \n",
    "    return mean,1.96*std_error"
   ]
  },
  {
   "cell_type": "code",
   "execution_count": 6,
   "metadata": {},
   "outputs": [],
   "source": [
    "def getNumeroErrosPadroesDiferencaMedias(data1, data2): #str_error_diff_mean\n",
    "    mean1=data1.mean()\n",
    "    mean2=data2.mean()\n",
    "    std1=data1.std()\n",
    "    std2=data2.std()\n",
    "    n1=len(data1)\n",
    "    n2=len(data2)\n",
    "    std_error_diff=np.sqrt((np.power(std1,2)/n1) + (np.power(std2,2)/n2))\n",
    "    diff_mean=mean1-mean2\n",
    "    print(\"Diferencas das medias: %.3f \" % diff_mean)\n",
    "    print(\"Erro padrão: %.3f \" % std_error_diff)\n",
    "    return (diff_mean/std_error_diff)"
   ]
  },
  {
   "cell_type": "code",
   "execution_count": 7,
   "metadata": {},
   "outputs": [],
   "source": [
    "def gerarErrorBar(data_1, data_2, titulo_data_1 = 'data1', titulo_data_2 = 'data2'):\n",
    "    mean_data_1,std_error_data_1=confidence_interval(data1)\n",
    "    mean_data_2,std_error_data_2=confidence_interval(data2)\n",
    "    x = [mean_data_1, mean_data_2]\n",
    "    y = [1, 3]\n",
    "    errors = [std_error_data_1, std_error_data_2]\n",
    "    plt.figure()\n",
    "    plt.errorbar(x, y, xerr=errors, fmt = 'o', color = 'k')\n",
    "    plt.yticks((0, 1, 3, 4), ('', titulo_data_1, titulo_data_2,'')) \n",
    "    plt.show()"
   ]
  },
  {
   "cell_type": "code",
   "execution_count": 8,
   "metadata": {},
   "outputs": [],
   "source": [
    "def gerarHistogramaDuasAmostras(amostra_1, amostra_2):\n",
    "    amostras = []\n",
    "    amostras.append(amostra_1)\n",
    "    amostras.append(amostra_2)\n",
    "    plt.hist(amostras, 100, density=True, align='mid', color=['b', 'r'])\n",
    "    plt.show()"
   ]
  },
  {
   "cell_type": "markdown",
   "metadata": {},
   "source": [
    "<h2>Lendo dados de \"Filmes-Prova01.csv\", correspondentes a lista de filmes de quatro plataformas de <i>Streaming</i> (Netflix, Amazon Prime, Disney+ e Hulu)</h2>"
   ]
  },
  {
   "cell_type": "code",
   "execution_count": 15,
   "metadata": {},
   "outputs": [
    {
     "data": {
      "text/html": [
       "<div>\n",
       "<style scoped>\n",
       "    .dataframe tbody tr th:only-of-type {\n",
       "        vertical-align: middle;\n",
       "    }\n",
       "\n",
       "    .dataframe tbody tr th {\n",
       "        vertical-align: top;\n",
       "    }\n",
       "\n",
       "    .dataframe thead th {\n",
       "        text-align: right;\n",
       "    }\n",
       "</style>\n",
       "<table border=\"1\" class=\"dataframe\">\n",
       "  <thead>\n",
       "    <tr style=\"text-align: right;\">\n",
       "      <th></th>\n",
       "      <th>ID</th>\n",
       "      <th>Titulo</th>\n",
       "      <th>Ano</th>\n",
       "      <th>Classificacao_etaria</th>\n",
       "      <th>IMDb</th>\n",
       "      <th>Netflix</th>\n",
       "      <th>Hulu</th>\n",
       "      <th>Amazon_prime</th>\n",
       "      <th>Disney+</th>\n",
       "      <th>Diretores</th>\n",
       "      <th>Generos</th>\n",
       "      <th>Pais</th>\n",
       "      <th>Idioma</th>\n",
       "      <th>Duracao_min</th>\n",
       "    </tr>\n",
       "  </thead>\n",
       "  <tbody>\n",
       "    <tr>\n",
       "      <th>0</th>\n",
       "      <td>1</td>\n",
       "      <td>Inception</td>\n",
       "      <td>2010</td>\n",
       "      <td>13+</td>\n",
       "      <td>8.8</td>\n",
       "      <td>1</td>\n",
       "      <td>0</td>\n",
       "      <td>0</td>\n",
       "      <td>0</td>\n",
       "      <td>Christopher Nolan</td>\n",
       "      <td>Action,Adventure,Sci-Fi,Thriller</td>\n",
       "      <td>United States,United Kingdom</td>\n",
       "      <td>English,Japanese,French</td>\n",
       "      <td>148.0</td>\n",
       "    </tr>\n",
       "    <tr>\n",
       "      <th>1</th>\n",
       "      <td>2</td>\n",
       "      <td>The Matrix</td>\n",
       "      <td>1999</td>\n",
       "      <td>18+</td>\n",
       "      <td>8.7</td>\n",
       "      <td>1</td>\n",
       "      <td>0</td>\n",
       "      <td>0</td>\n",
       "      <td>0</td>\n",
       "      <td>Lana Wachowski,Lilly Wachowski</td>\n",
       "      <td>Action,Sci-Fi</td>\n",
       "      <td>United States</td>\n",
       "      <td>English</td>\n",
       "      <td>136.0</td>\n",
       "    </tr>\n",
       "    <tr>\n",
       "      <th>2</th>\n",
       "      <td>3</td>\n",
       "      <td>Avengers: Infinity War</td>\n",
       "      <td>2018</td>\n",
       "      <td>13+</td>\n",
       "      <td>8.5</td>\n",
       "      <td>1</td>\n",
       "      <td>0</td>\n",
       "      <td>0</td>\n",
       "      <td>0</td>\n",
       "      <td>Anthony Russo,Joe Russo</td>\n",
       "      <td>Action,Adventure,Sci-Fi</td>\n",
       "      <td>United States</td>\n",
       "      <td>English</td>\n",
       "      <td>149.0</td>\n",
       "    </tr>\n",
       "  </tbody>\n",
       "</table>\n",
       "</div>"
      ],
      "text/plain": [
       "   ID                  Titulo   Ano Classificacao_etaria  IMDb  Netflix  Hulu  \\\n",
       "0   1               Inception  2010                  13+   8.8        1     0   \n",
       "1   2              The Matrix  1999                  18+   8.7        1     0   \n",
       "2   3  Avengers: Infinity War  2018                  13+   8.5        1     0   \n",
       "\n",
       "   Amazon_prime  Disney+                       Diretores  \\\n",
       "0             0        0               Christopher Nolan   \n",
       "1             0        0  Lana Wachowski,Lilly Wachowski   \n",
       "2             0        0         Anthony Russo,Joe Russo   \n",
       "\n",
       "                            Generos                          Pais  \\\n",
       "0  Action,Adventure,Sci-Fi,Thriller  United States,United Kingdom   \n",
       "1                     Action,Sci-Fi                 United States   \n",
       "2           Action,Adventure,Sci-Fi                 United States   \n",
       "\n",
       "                    Idioma  Duracao_min  \n",
       "0  English,Japanese,French        148.0  \n",
       "1                  English        136.0  \n",
       "2                  English        149.0  "
      ]
     },
     "execution_count": 15,
     "metadata": {},
     "output_type": "execute_result"
    }
   ],
   "source": [
    "df = lerCSV(\"Filmes-Prova01.csv\", header=0)\n",
    "df.head(3)"
   ]
  },
  {
   "cell_type": "markdown",
   "metadata": {},
   "source": [
    "<h2>1) Quantos filmes cada uma das 4 plataformas possui? Faça um gráfico de barras para ilustrar esses valores</h2>"
   ]
  },
  {
   "cell_type": "code",
   "execution_count": 95,
   "metadata": {},
   "outputs": [
    {
     "name": "stdout",
     "output_type": "stream",
     "text": [
      "Quantidade de filmes em cada plataforma:\n",
      "\t- Netflix: 3560\n",
      "\t- Hulu: 903\n",
      "\t- Amazon Prime: 12354\n",
      "\t- Disney+: 564\n"
     ]
    },
    {
     "data": {
      "image/png": "[encoded data removed]",
      "text/plain": [
       "<Figure size 432x288 with 1 Axes>"
      ]
     },
     "metadata": {
      "needs_background": "light"
     },
     "output_type": "display_data"
    }
   ],
   "source": [
    "qtd_filmes_netflix = df['Netflix'].sum()\n",
    "qtd_filmes_hulu = df['Hulu'].sum()\n",
    "qtd_filmes_amazon = df['Amazon_prime'].sum()\n",
    "qtd_filmes_disney = df['Disney+'].sum()\n",
    "print(\"Quantidade de filmes em cada plataforma:\")\n",
    "print(\"\\t- Netflix:\", qtd_filmes_netflix)\n",
    "print(\"\\t- Hulu:\", qtd_filmes_hulu)\n",
    "print(\"\\t- Amazon Prime:\", qtd_filmes_amazon)\n",
    "print(\"\\t- Disney+:\", qtd_filmes_disney)\n",
    "fig = plt.figure()\n",
    "ax = fig.add_axes([0, 0, 1, 1])\n",
    "plataformas = ['Netflix', 'Hulu', 'Amazon Prime', 'Disney+']\n",
    "qtd_filmes_plataformas = [qtd_filmes_netflix, qtd_filmes_hulu,\n",
    "                         qtd_filmes_amazon, qtd_filmes_disney]\n",
    "ax.barh(plataformas, qtd_filmes_plataformas)\n",
    "for p in ax.patches:\n",
    "    ax.annotate(p.get_width(), (p.get_width()+5,p.get_y()))\n",
    "ax.set_ylabel('Plataforma')\n",
    "ax.set_xlabel('Número de filmes')\n",
    "plt.show()"
   ]
  },
  {
   "cell_type": "markdown",
   "metadata": {},
   "source": [
    "<h2>2) Quantos filmes estão em mais de uma plataforma?</h2>"
   ]
  },
  {
   "cell_type": "code",
   "execution_count": 47,
   "metadata": {},
   "outputs": [
    {
     "name": "stdout",
     "output_type": "stream",
     "text": [
      "Nº de filmes que estão em mais de uma plataforma: 627\n"
     ]
    }
   ],
   "source": [
    "qtd = 0\n",
    "for index, row in df.iterrows(): # iterando sobre todas as linhas\n",
    "    if(row['Netflix'] == 1): # se tiver em Netflix, avaliar se tem para algum outro\n",
    "        if(row['Hulu'] == 1 or row['Amazon_prime'] == 1 or row['Disney+'] == 1):\n",
    "            qtd+=1 # se tiver para Netflix e algum outro, soma 1\n",
    "            continue # vá para a próxima linha\n",
    "    if(row['Hulu'] == 1): # se tiver em Hulu, já sabemos que não tem em Netflix\n",
    "        if(row['Amazon_prime'] == 1 or row['Disney+'] == 1): # avaliando para os restantes\n",
    "            qtd+=1 # Analogamente, soma-se 1 se tiver para Hulu e outra plataforma\n",
    "            continue\n",
    "    if(row['Amazon_prime'] == 1):\n",
    "        if(row['Disney+'] == 1):\n",
    "            qtd+=1\n",
    "            continue\n",
    "print(\"Nº de filmes que estão em mais de uma plataforma:\", qtd)"
   ]
  },
  {
   "cell_type": "markdown",
   "metadata": {},
   "source": [
    "<h2>3) Qual a plataforma que possui a maior média de nota IMDb?</h2>"
   ]
  },
  {
   "cell_type": "code",
   "execution_count": 37,
   "metadata": {},
   "outputs": [],
   "source": [
    "df_filmes_netflix = df[df['Netflix'] == 1]\n",
    "df_filmes_hulu = df[df['Hulu'] == 1]\n",
    "df_filmes_amazon = df[df['Amazon_prime'] == 1]\n",
    "df_filmes_disney = df[df['Disney+'] == 1]"
   ]
  },
  {
   "cell_type": "code",
   "execution_count": 61,
   "metadata": {},
   "outputs": [],
   "source": [
    "def calcularMediaIMDb(df, nome_plataforma):\n",
    "    media = df['IMDb'].sum() / len(df)\n",
    "    print('Média de nota IMDb da plataforma', nome_plataforma, \"=\", media)\n",
    "    return media"
   ]
  },
  {
   "cell_type": "code",
   "execution_count": 142,
   "metadata": {},
   "outputs": [
    {
     "name": "stdout",
     "output_type": "stream",
     "text": [
      "Média de nota IMDb da plataforma Netflix = 6.04570224719101\n",
      "Média de nota IMDb da plataforma Hulu = 6.063344407530454\n",
      "Média de nota IMDb da plataforma Amazon Prime = 5.562570827262425\n",
      "Média de nota IMDb da plataforma Disney+ = 6.429964539007092\n",
      "\n",
      "A plataforma que possui maior média de nota IMDb é a Disney+, com uma média de aproximadamente 6.43.\n"
     ]
    }
   ],
   "source": [
    "media_netflix = calcularMediaIMDb(df_filmes_netflix, 'Netflix')\n",
    "media_hulu = calcularMediaIMDb(df_filmes_hulu, 'Hulu')\n",
    "media_amazon = calcularMediaIMDb(df_filmes_amazon, 'Amazon Prime')\n",
    "media_disney = calcularMediaIMDb(df_filmes_disney, 'Disney+')\n",
    "\n",
    "v = {'Netflix': media_netflix, 'Hulu': media_hulu, 'Amazon Prime': media_amazon, 'Disney+': media_disney}\n",
    "nome_plat = max(v.items(), key=operator.itemgetter(1))[0]\n",
    "\n",
    "print(\"\\nA plataforma que possui maior média de nota IMDb é a %s, com uma média de aproximadamente %.2f.\"%(nome_plat, v[nome_plat]))"
   ]
  },
  {
   "cell_type": "markdown",
   "metadata": {},
   "source": [
    "<h2>4) Qual o percentual de filmes de cada plataforma com nota IMDb maior que 8?</h2>"
   ]
  },
  {
   "cell_type": "code",
   "execution_count": 87,
   "metadata": {},
   "outputs": [],
   "source": [
    "def calcularPercentualNotaIMDb(df, nome_plataforma, limiar=8):\n",
    "    qtd = 0\n",
    "    for index, row in df.iterrows():\n",
    "        if(row['IMDb'] > 8):\n",
    "            qtd+=1\n",
    "    percentual = qtd/len(df)*100\n",
    "    print('\\t-', nome_plataforma, \"= {:.2f}%\".format(percentual))\n",
    "    return percentual"
   ]
  },
  {
   "cell_type": "code",
   "execution_count": 135,
   "metadata": {},
   "outputs": [
    {
     "name": "stdout",
     "output_type": "stream",
     "text": [
      "Percentual de filmes de cada plataforma com nota IMDb maior que 8:\n",
      "\t- Netflix = 3.62%\n",
      "\t- Hulu = 2.55%\n",
      "\t- Amazon Prime = 2.62%\n",
      "\t- Disney+ = 3.72%\n",
      "Disney+ possui um maior percentual de filmes com nota IMDb maior que 8\n"
     ]
    }
   ],
   "source": [
    "print('Percentual de filmes de cada plataforma com nota IMDb maior que 8:')\n",
    "pnet = calcularPercentualNotaIMDb(df_filmes_netflix, \"Netflix\")\n",
    "phul = calcularPercentualNotaIMDb(df_filmes_hulu, \"Hulu\")\n",
    "pama = calcularPercentualNotaIMDb(df_filmes_amazon, \"Amazon Prime\")\n",
    "pdis = calcularPercentualNotaIMDb(df_filmes_disney, \"Disney+\")\n",
    "\n",
    "v = {'Netflix': pnet, 'Hulu': phul, 'Amazon Prime': pama, 'Disney+': pdis}\n",
    "nome_plat = max(v.items(), key=operator.itemgetter(1))[0]\n",
    "\n",
    "print(nome_plat, 'possui um maior percentual de filmes com nota IMDb maior que 8')"
   ]
  },
  {
   "cell_type": "markdown",
   "metadata": {},
   "source": [
    "<h2>5) Se uma pessoa é uma apreciadora de filmes clássicos antigos, qual plataforma você mais recomenda? Justifique.</h2>"
   ]
  },
  {
   "cell_type": "code",
   "execution_count": 94,
   "metadata": {},
   "outputs": [
    {
     "name": "stdout",
     "output_type": "stream",
     "text": [
      "Nº filmes antigos Netflix: 123\n",
      "Nº filmes antigos Hulu: 52\n",
      "Nº filmes antigos Amazon Prime: 2881\n",
      "Nº filmes antigos Disney+: 133\n"
     ]
    }
   ],
   "source": [
    "df_antigos = df[df['Ano'] <= 1990]\n",
    "qtd_antigos_netflix = df_antigos['Netflix'].sum()\n",
    "qtd_antigos_hulu = df_antigos['Hulu'].sum()\n",
    "qtd_antigos_amazon = df_antigos['Amazon_prime'].sum()\n",
    "qtd_antigos_disney = df_antigos['Disney+'].sum()\n",
    "print(\"Nº filmes antigos Netflix:\", qtd_antigos_netflix)\n",
    "print(\"Nº filmes antigos Hulu:\", qtd_antigos_hulu)\n",
    "print(\"Nº filmes antigos Amazon Prime:\", qtd_antigos_amazon)\n",
    "print(\"Nº filmes antigos Disney+:\", qtd_antigos_disney)"
   ]
  },
  {
   "cell_type": "markdown",
   "metadata": {},
   "source": [
    "<p>Considerando-se que os filmes antigos clássicos estão abaixo do ano de 1990 (inclusive), eu recomendaria a plataforma <b>Amazon Prime</b> por possuir um maior número de filmes antigos. Em comparação com Disney+, a Amazon Prime possui 20 vezes mais filmes antigos disponíveis para escolha.</p>"
   ]
  },
  {
   "cell_type": "markdown",
   "metadata": {},
   "source": [
    "<h2>6) Quantas categorias de classificação etária existem? Faça um gráfico de barras com a quantidade de filmes por classificação etária.</h2>"
   ]
  },
  {
   "cell_type": "code",
   "execution_count": 121,
   "metadata": {},
   "outputs": [
    {
     "data": {
      "text/plain": [
       "<bound method Series.unique of 0        13+\n",
       "1        18+\n",
       "2        13+\n",
       "3         7+\n",
       "4        18+\n",
       "        ... \n",
       "16739    NaN\n",
       "16740     7+\n",
       "16741    NaN\n",
       "16742    NaN\n",
       "16743    NaN\n",
       "Name: Classificacao_etaria, Length: 16744, dtype: object>"
      ]
     },
     "execution_count": 121,
     "metadata": {},
     "output_type": "execute_result"
    }
   ],
   "source": [
    "df_classificacao_unique = df['Classificacao_etaria'].unique\n",
    "df_classificacao_unique"
   ]
  },
  {
   "cell_type": "markdown",
   "metadata": {},
   "source": [
    "<p>Note que existem valores <b>NaN</b>. No entanto, vou considerar para ver também a quantidade de filmes que não possuem a classificação etária informada...</p>"
   ]
  },
  {
   "cell_type": "code",
   "execution_count": 163,
   "metadata": {},
   "outputs": [
    {
     "data": {
      "text/plain": [
       "array(['13+', '18+', '7+', nan, 'all', '16+'], dtype=object)"
      ]
     },
     "execution_count": 163,
     "metadata": {},
     "output_type": "execute_result"
    }
   ],
   "source": [
    "#df_classificacao_unique = df['Classificacao_etaria'].dropna().unique()\n",
    "df_classificacao_unique = df['Classificacao_etaria'].unique()\n",
    "df_classificacao_unique"
   ]
  },
  {
   "cell_type": "code",
   "execution_count": 162,
   "metadata": {},
   "outputs": [
    {
     "name": "stdout",
     "output_type": "stream",
     "text": [
      "- Existem 5 categorias de classificação etária diferentes nesta base de dados.\n",
      "\n",
      "- Existem filmes em que a categoria de classificação etária está ausente, como visto acima.\n"
     ]
    }
   ],
   "source": [
    "qtd_categorias_classificacao_etaria = len(df_classificacao_unique)\n",
    "print('- Existem', (qtd_categorias_classificacao_etaria-(1 if pd.isnull(df_classificacao_unique).any() else 0)), \n",
    "      'categorias de classificação etária diferentes nesta base de dados.\\n')\n",
    "print('- Existem filmes em que a categoria de classificação etária está ausente, como visto acima.')"
   ]
  },
  {
   "cell_type": "code",
   "execution_count": 190,
   "metadata": {},
   "outputs": [
    {
     "data": {
      "text/plain": [
       "{'13+': 1255,\n",
       " '18+': 3474,\n",
       " '7+': 1462,\n",
       " 'Não informado': 9390,\n",
       " 'all': 843,\n",
       " '16+': 320}"
      ]
     },
     "execution_count": 190,
     "metadata": {},
     "output_type": "execute_result"
    }
   ],
   "source": [
    "dict_somas = dict((el if el is not np.nan else 'Não informado',0) for el in df_classificacao_unique)\n",
    "for index, row in df.iterrows():\n",
    "    dict_somas[row['Classificacao_etaria'] if row['Classificacao_etaria'] is not np.nan else 'Não informado'] += 1\n",
    "dict_somas"
   ]
  },
  {
   "cell_type": "code",
   "execution_count": 191,
   "metadata": {},
   "outputs": [
    {
     "data": {
      "image/png": "[encoded data removed]",
      "text/plain": [
       "<Figure size 432x288 with 1 Axes>"
      ]
     },
     "metadata": {
      "needs_background": "light"
     },
     "output_type": "display_data"
    }
   ],
   "source": [
    "fig = plt.figure()\n",
    "ax = fig.add_axes([0, 0, 1, 1])\n",
    "classificacoes_etarias = list(dict_somas)\n",
    "qtd_filmes = list(dict_somas.values())\n",
    "ax.barh(classificacoes_etarias, qtd_filmes)\n",
    "for p in ax.patches:\n",
    "    ax.annotate(p.get_width(), (p.get_width()+5,p.get_y()))\n",
    "ax.set_ylabel('Classificação etária')\n",
    "ax.set_xlabel('Número de filmes')\n",
    "plt.show()"
   ]
  },
  {
   "cell_type": "markdown",
   "metadata": {},
   "source": [
    "<p>Note que existe um número muito grande de filmes em que a classificação indicativa não está disponível. Isso pode ser um empecilho na hora de escolher determinados filmes para assistir com toda a família, por exemplo. Das cinco categorias, existem mais filmes adultos (18+) do que os demais.</p>"
   ]
  },
  {
   "cell_type": "markdown",
   "metadata": {},
   "source": []
  },
  {
   "cell_type": "code",
   "execution_count": null,
   "metadata": {},
   "outputs": [],
   "source": []
  }
 ],
 "metadata": {
  "kernelspec": {
   "display_name": "Python 3",
   "language": "python",
   "name": "python3"
  },
  "language_info": {
   "codemirror_mode": {
    "name": "ipython",
    "version": 3
   },
   "file_extension": ".py",
   "mimetype": "text/x-python",
   "name": "python",
   "nbconvert_exporter": "python",
   "pygments_lexer": "ipython3",
   "version": "3.8.5"
  }
 },
 "nbformat": 4,
 "nbformat_minor": 4
}
