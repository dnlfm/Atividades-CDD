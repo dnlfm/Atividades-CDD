{
 "cells": [
  {
   "cell_type": "markdown",
   "metadata": {},
   "source": [
    "<h1>Prova 1 - Introdução à Ciência dos Dados</h1>\n",
    "<h3>Daniel Freitas Martins - 2304</h3>"
   ]
  },
  {
   "cell_type": "code",
   "execution_count": 1,
   "metadata": {},
   "outputs": [],
   "source": [
    "import pandas as pd\n",
    "import numpy as np\n",
    "from scipy import stats\n",
    "from scipy.stats import percentileofscore\n",
    "from scipy.stats import shapiro\n",
    "import matplotlib.pyplot as plt\n",
    "import seaborn as sns"
   ]
  },
  {
   "cell_type": "code",
   "execution_count": 2,
   "metadata": {},
   "outputs": [],
   "source": [
    "def analisarAmostraPopulacao(populacao, amostra, limiar=0.05):\n",
    "    print(\"\\t\\t\\t Amostra \"+str(i))\n",
    "    \n",
    "    media_populacao=populacao.mean()\n",
    "    media_amostra=np.mean(amostra)\n",
    "    erro_padrao=populacao.std() / np.sqrt(len(amostra))\n",
    "    z_score = abs(media_amostra - media_populacao) / erro_padrao\n",
    "    valor_p = 2*st.norm.sf(abs(z_score))\n",
    "    \n",
    "    print(\"Média População: %.3f\" % (media_populacao))\n",
    "    print(\"Média Amostra: \",(media_amostra))\n",
    "    print(\"Erro Padrão:\"+str(erro_padrao))\n",
    "    print(\"A diferença entre a média da amostra e da população é de %.3f erros padrões.\" % (z_score))\n",
    "    print(\"Valor-p: %.10f\" % (valor_p))\n",
    "    \n",
    "    if(valor_p < limiar):\n",
    "        print(\"Provavelmente a Amostra NÃO veio da População.\")\n",
    "    else:\n",
    "        print(\"Provavelmente a Amostra VEIO da População.\")\n",
    "        \n",
    "    print(\"\\n\\n\")\n"
   ]
  },
  {
   "cell_type": "code",
   "execution_count": 9,
   "metadata": {},
   "outputs": [],
   "source": [
    "def lerCSV(caminho_arquivo):\n",
    "    return pd.read_csv(caminho_arquivo, index_col=False, header=None, squeeze=True)"
   ]
  },
  {
   "cell_type": "code",
   "execution_count": 3,
   "metadata": {},
   "outputs": [],
   "source": [
    "def analisarDuasAmostras(amostra_1, amostra_2):\n",
    "    amostras = []\n",
    "    amostras.append(amostra_1)\n",
    "    amostras.append(amostra_2)\n",
    "    print('Média amostra 1:         %.2f' % (np.mean(amostra_1)))\n",
    "    print('Desvio padrão amostra 1: %.2f\\n' % (np.std(amostra_1)))\n",
    "    print('Média amostra 2:         %.2f' % (np.mean(amostra_2)))\n",
    "    print('Desvio padrão amostra 2: %.2f\\n' % (np.std(amostra_2)))\n",
    "    print('Média de ambas as amostras:         %.2f' % (np.mean(amostras)))\n",
    "    print('Desvio padrão de ambas as amostras: %.2f' % (np.std(amostras)))\n",
    "    plt.hist(amostras, 100, density=True, align='mid')\n",
    "    plt.show()"
   ]
  },
  {
   "cell_type": "code",
   "execution_count": 4,
   "metadata": {},
   "outputs": [],
   "source": [
    "def getIntervaloConfianca95(data):\n",
    "    # 95% intervalo confiança\n",
    "    mean=data.mean()\n",
    "    sd=data.std()\n",
    "    n=len(data)\n",
    "    std_error=sd/np.sqrt(n)\n",
    "    print(\"Erro padrao %.3f \" % std_error)\n",
    "    print(\"Intervalo de confiança: %.3f - %.3f \" % ((mean-(1.96*std_error)),(mean+(1.96*std_error))))    \n",
    "    return mean,1.96*std_error"
   ]
  },
  {
   "cell_type": "code",
   "execution_count": 6,
   "metadata": {},
   "outputs": [],
   "source": [
    "def getNumeroErrosPadroesDiferencaMedias(data1, data2): #str_error_diff_mean\n",
    "    mean1=data1.mean()\n",
    "    mean2=data2.mean()\n",
    "    std1=data1.std()\n",
    "    std2=data2.std()\n",
    "    n1=len(data1)\n",
    "    n2=len(data2)\n",
    "    std_error_diff=np.sqrt((np.power(std1,2)/n1) + (np.power(std2,2)/n2))\n",
    "    diff_mean=mean1-mean2\n",
    "    print(\"Diferencas das medias: %.3f \" % diff_mean)\n",
    "    print(\"Erro padrão: %.3f \" % std_error_diff)\n",
    "    return (diff_mean/std_error_diff)"
   ]
  },
  {
   "cell_type": "code",
   "execution_count": 7,
   "metadata": {},
   "outputs": [],
   "source": [
    "def gerarErrorBar(data_1, data_2, titulo_data_1 = 'data1', titulo_data_2 = 'data2'):\n",
    "    mean_data_1,std_error_data_1=confidence_interval(data1)\n",
    "    mean_data_2,std_error_data_2=confidence_interval(data2)\n",
    "    x = [mean_data_1, mean_data_2]\n",
    "    y = [1, 3]\n",
    "    errors = [std_error_data_1, std_error_data_2]\n",
    "    plt.figure()\n",
    "    plt.errorbar(x, y, xerr=errors, fmt = 'o', color = 'k')\n",
    "    plt.yticks((0, 1, 3, 4), ('', titulo_data_1, titulo_data_2,'')) \n",
    "    plt.show()"
   ]
  },
  {
   "cell_type": "code",
   "execution_count": 8,
   "metadata": {},
   "outputs": [],
   "source": [
    "def gerarHistogramaDuasAmostras(amostra_1, amostra_2):\n",
    "    amostras = []\n",
    "    amostras.append(amostra_1)\n",
    "    amostras.append(amostra_2)\n",
    "    plt.hist(amostras, 100, density=True, align='mid', color=['b', 'r'])\n",
    "    plt.show()"
   ]
  },
  {
   "cell_type": "code",
   "execution_count": null,
   "metadata": {},
   "outputs": [],
   "source": []
  }
 ],
 "metadata": {
  "kernelspec": {
   "display_name": "Python 3",
   "language": "python",
   "name": "python3"
  },
  "language_info": {
   "codemirror_mode": {
    "name": "ipython",
    "version": 3
   },
   "file_extension": ".py",
   "mimetype": "text/x-python",
   "name": "python",
   "nbconvert_exporter": "python",
   "pygments_lexer": "ipython3",
   "version": "3.8.5"
  }
 },
 "nbformat": 4,
 "nbformat_minor": 4
}
