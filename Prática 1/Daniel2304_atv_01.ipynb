{
 "cells": [
  {
   "cell_type": "code",
   "execution_count": 28,
   "metadata": {},
   "outputs": [],
   "source": [
    "# Daniel Freitas Martins - 2304\n",
    "import pandas as pd\n",
    "import numpy as np\n",
    "import random as rd"
   ]
  },
  {
   "cell_type": "code",
   "execution_count": 29,
   "metadata": {},
   "outputs": [
    {
     "name": "stdout",
     "output_type": "stream",
     "text": [
      "Maior valor gerado: 992\n",
      "Menor valor gerado: -998\n"
     ]
    }
   ],
   "source": [
    "#Atividade (Entregar via PVANet o código fonte Python): \n",
    "#1.  Gerar  uma Serie  com  500  valores  aleatórios  entre  -1000  e  1000,  e  imprimir  o seguinte:\n",
    "numeros_aleatorios = rd.sample(range(-1000, 1000), 500)\n",
    "numeros_aleatorios = pd.Series(numeros_aleatorios)\n",
    "#a) O maior e o menor valor\n",
    "maior = max(numeros_aleatorios)\n",
    "menor = min(numeros_aleatorios)\n",
    "print(\"Maior valor gerado: \" + str(maior))\n",
    "print(\"Menor valor gerado: \" + str(menor))"
   ]
  },
  {
   "cell_type": "code",
   "execution_count": 30,
   "metadata": {},
   "outputs": [
    {
     "name": "stdout",
     "output_type": "stream",
     "text": [
      "1      345\n",
      "2      504\n",
      "3      758\n",
      "4       95\n",
      "6        6\n",
      "      ... \n",
      "489    341\n",
      "490    365\n",
      "491    611\n",
      "494    686\n",
      "497    526\n",
      "Length: 259, dtype: int64\n"
     ]
    }
   ],
   "source": [
    "#b) Somente os valores positivos\n",
    "positivos = numeros_aleatorios[numeros_aleatorios >= 0]\n",
    "print(positivos)"
   ]
  },
  {
   "cell_type": "code",
   "execution_count": 31,
   "metadata": {},
   "outputs": [
    {
     "name": "stdout",
     "output_type": "stream",
     "text": [
      "0     -481\n",
      "1      345\n",
      "4       95\n",
      "9      509\n",
      "12     517\n",
      "      ... \n",
      "489    341\n",
      "490    365\n",
      "491    611\n",
      "492    -37\n",
      "499   -357\n",
      "Length: 230, dtype: int64\n"
     ]
    }
   ],
   "source": [
    "#c) Somente os valores ímpares\n",
    "impares = numeros_aleatorios[numeros_aleatorios % 2 != 0]\n",
    "print(impares)"
   ]
  },
  {
   "cell_type": "code",
   "execution_count": 32,
   "metadata": {},
   "outputs": [
    {
     "name": "stdout",
     "output_type": "stream",
     "text": [
      "50    -408\n",
      "51    -741\n",
      "52    -520\n",
      "53     -73\n",
      "54     173\n",
      "55     720\n",
      "56     364\n",
      "57    -710\n",
      "58    -293\n",
      "59    -381\n",
      "60    -306\n",
      "61    -817\n",
      "62     934\n",
      "63      14\n",
      "64    -552\n",
      "65    -628\n",
      "66    -862\n",
      "67     -47\n",
      "68    -396\n",
      "69     -52\n",
      "70     262\n",
      "71     459\n",
      "72    -165\n",
      "73    -124\n",
      "74      -6\n",
      "75    -151\n",
      "76     265\n",
      "77     596\n",
      "78    -185\n",
      "79    -337\n",
      "80     668\n",
      "81    -215\n",
      "82     841\n",
      "83    -289\n",
      "84     572\n",
      "85     -94\n",
      "86      82\n",
      "87    -756\n",
      "88    -390\n",
      "89     616\n",
      "90    -876\n",
      "91     233\n",
      "92    -945\n",
      "93     877\n",
      "94     189\n",
      "95    -752\n",
      "96    -121\n",
      "97      70\n",
      "98    -566\n",
      "99    -577\n",
      "100    181\n",
      "dtype: int64\n"
     ]
    }
   ],
   "source": [
    "#d) Os valores das posições/índices de 50 a 100, inclusive\n",
    "d = numeros_aleatorios[50:101]\n",
    "print(d)"
   ]
  },
  {
   "cell_type": "code",
   "execution_count": 33,
   "metadata": {},
   "outputs": [
    {
     "name": "stdout",
     "output_type": "stream",
     "text": [
      "270\n"
     ]
    }
   ],
   "source": [
    "#e) A quantidade de valores pares\n",
    "qtd_pares = numeros_aleatorios[numeros_aleatorios % 2 == 0].size\n",
    "print(qtd_pares)"
   ]
  },
  {
   "cell_type": "code",
   "execution_count": 34,
   "metadata": {},
   "outputs": [
    {
     "name": "stdout",
     "output_type": "stream",
     "text": [
      "125\n"
     ]
    }
   ],
   "source": [
    "#f) A quantidade de valores maiores que 500\n",
    "maiores_500 = numeros_aleatorios[numeros_aleatorios > 500].size\n",
    "print(maiores_500)"
   ]
  },
  {
   "cell_type": "code",
   "execution_count": 35,
   "metadata": {},
   "outputs": [
    {
     "name": "stdout",
     "output_type": "stream",
     "text": [
      "2      504\n",
      "8      652\n",
      "9      509\n",
      "12     517\n",
      "22     549\n",
      "38     697\n",
      "46     608\n",
      "77     596\n",
      "80     668\n",
      "84     572\n",
      "89     616\n",
      "125    645\n",
      "127    532\n",
      "137    624\n",
      "139    506\n",
      "145    634\n",
      "148    588\n",
      "164    558\n",
      "174    587\n",
      "176    522\n",
      "195    586\n",
      "198    540\n",
      "208    604\n",
      "213    593\n",
      "222    632\n",
      "255    675\n",
      "256    671\n",
      "266    642\n",
      "281    654\n",
      "288    698\n",
      "295    541\n",
      "298    650\n",
      "303    679\n",
      "304    695\n",
      "308    636\n",
      "320    534\n",
      "333    684\n",
      "346    658\n",
      "355    512\n",
      "357    570\n",
      "369    568\n",
      "381    502\n",
      "383    580\n",
      "393    555\n",
      "400    646\n",
      "415    685\n",
      "426    592\n",
      "433    590\n",
      "434    607\n",
      "443    538\n",
      "448    638\n",
      "459    602\n",
      "462    640\n",
      "472    643\n",
      "480    680\n",
      "491    611\n",
      "494    686\n",
      "497    526\n",
      "dtype: int64\n"
     ]
    }
   ],
   "source": [
    "#g) Os valores maiores que 500 e menores que 700\n",
    "entre_500_700 = numeros_aleatorios[(numeros_aleatorios > 500) & (numeros_aleatorios < 700)]\n",
    "print(entre_500_700)"
   ]
  },
  {
   "cell_type": "code",
   "execution_count": 36,
   "metadata": {},
   "outputs": [
    {
     "name": "stdout",
     "output_type": "stream",
     "text": [
      "1      18.574176\n",
      "2      22.449944\n",
      "3      27.531800\n",
      "4       9.746794\n",
      "6       2.449490\n",
      "         ...    \n",
      "489    18.466185\n",
      "490    19.104973\n",
      "491    24.718414\n",
      "494    26.191602\n",
      "497    22.934690\n",
      "Length: 259, dtype: float64\n"
     ]
    }
   ],
   "source": [
    "#h) A raiz quadrada de todos os valores\n",
    "raizes_quadradas = pow(numeros_aleatorios, 0.5)\n",
    "print(raizes_quadradas.dropna()) #removendo os valores NaN "
   ]
  }
 ],
 "metadata": {
  "kernelspec": {
   "display_name": "Python 3",
   "language": "python",
   "name": "python3"
  },
  "language_info": {
   "codemirror_mode": {
    "name": "ipython",
    "version": 3
   },
   "file_extension": ".py",
   "mimetype": "text/x-python",
   "name": "python",
   "nbconvert_exporter": "python",
   "pygments_lexer": "ipython3",
   "version": "3.8.5"
  }
 },
 "nbformat": 4,
 "nbformat_minor": 4
}
