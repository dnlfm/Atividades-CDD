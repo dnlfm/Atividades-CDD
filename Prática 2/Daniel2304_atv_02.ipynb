{
 "cells": [
  {
   "cell_type": "code",
   "execution_count": 282,
   "metadata": {},
   "outputs": [],
   "source": [
    "# Daniel Freitas Martins - 2304\n",
    "'''\n",
    "Faça um código para ler os arquivos altura_homens.csv e altura_mulheres.csv. Esses arquivos contém as alturas \n",
    "(em cm) de 1000 homens e 1000 mulheres, respectivamente. Em seguida, responda às seguintes perguntas:\n",
    "'''\n",
    "import pandas as pd\n",
    "import numpy as np\n",
    "from scipy import stats\n",
    "from scipy.stats import shapiro\n",
    "import matplotlib.pyplot as plt"
   ]
  },
  {
   "cell_type": "code",
   "execution_count": 283,
   "metadata": {},
   "outputs": [
    {
     "name": "stdout",
     "output_type": "stream",
     "text": [
      "Alturas homens: \n",
      "0      185.24\n",
      "1      172.64\n",
      "2      161.96\n",
      "3      163.68\n",
      "4      156.02\n",
      "        ...  \n",
      "995    171.91\n",
      "996    181.22\n",
      "997    162.80\n",
      "998    174.02\n",
      "999    163.19\n",
      "Name: 0, Length: 1000, dtype: float64\n",
      "Alturas mulheres: \n",
      "0      162.14\n",
      "1      146.68\n",
      "2      159.95\n",
      "3      171.98\n",
      "4      139.35\n",
      "        ...  \n",
      "995    161.83\n",
      "996    161.63\n",
      "997    162.94\n",
      "998    167.84\n",
      "999    149.25\n",
      "Name: 0, Length: 1000, dtype: float64\n"
     ]
    }
   ],
   "source": [
    "DEBUG_1 = True # Serve para mostrar o conteúdo dos arquivos lidos\n",
    "# Lendo arquivos .csv\n",
    "alturas_homens = pd.read_csv(\"dadosatividade2/altura_homens.csv\", index_col=False, header=None, squeeze=True)\n",
    "alturas_mulheres = pd.read_csv(\"dadosatividade2/altura_mulheres.csv\", index_col=False, header=None, squeeze=True)\n",
    "if(DEBUG_1):\n",
    "    print(\"Alturas homens: \")\n",
    "    print(alturas_homens)\n",
    "    print(\"Alturas mulheres: \")\n",
    "    print(alturas_mulheres)"
   ]
  },
  {
   "cell_type": "code",
   "execution_count": 284,
   "metadata": {},
   "outputs": [
    {
     "name": "stdout",
     "output_type": "stream",
     "text": [
      "(Homens)   Altura mínima: 120.05 cm\n",
      "(Mulheres) Altura mínima: 132.82 cm\n",
      "\n",
      "(Homens)   Altura máxima: 221.00 cm\n",
      "(Mulheres) Altura máxima: 190.30 cm\n"
     ]
    }
   ],
   "source": [
    "# a) Qual a altura mínima e máxima dos homens e das mulheres dessas amostras?\n",
    "print(\"(Homens)   Altura mínima: {:.2f} cm\".format(alturas_homens.min()))\n",
    "print(\"(Mulheres) Altura mínima: {:.2f} cm\\n\".format(alturas_mulheres.min()))\n",
    "\n",
    "print(\"(Homens)   Altura máxima: {:.2f} cm\".format(alturas_homens.max()))\n",
    "print(\"(Mulheres) Altura máxima: {:.2f} cm\".format(alturas_mulheres.max()))"
   ]
  },
  {
   "cell_type": "code",
   "execution_count": 285,
   "metadata": {},
   "outputs": [
    {
     "name": "stdout",
     "output_type": "stream",
     "text": [
      "(Homens)   Média: 175.06 cm\n",
      "(Mulheres) Média: 160.12 cm\n",
      "\n",
      "(Homens)   Mediana: 174.57 cm\n",
      "(Mulheres) Mediana: 160.06 cm\n"
     ]
    }
   ],
   "source": [
    "# b) Qual a média de altura dos homens e das mulheres? E qual a mediana dessas alturas?\n",
    "print(\"(Homens)   Média: {:.2f} cm\".format(alturas_homens.mean()))\n",
    "print(\"(Mulheres) Média: {:.2f} cm\\n\".format(alturas_mulheres.mean()))\n",
    "\n",
    "print(\"(Homens)   Mediana: {:.2f} cm\".format(alturas_homens.median()))\n",
    "print(\"(Mulheres) Mediana: {:.2f} cm\".format(alturas_mulheres.median()))"
   ]
  },
  {
   "cell_type": "code",
   "execution_count": 286,
   "metadata": {},
   "outputs": [
    {
     "name": "stdout",
     "output_type": "stream",
     "text": [
      "(Homens)   Desvio padrão: 15.33\n",
      "(Mulheres) Desvio padrão: 9.70\n",
      "\n"
     ]
    }
   ],
   "source": [
    "# c) Qual o desvio padrão da altura dos homens e das mulheres?\n",
    "print(\"(Homens)   Desvio padrão: {:.2f}\".format(alturas_homens.std()))\n",
    "print(\"(Mulheres) Desvio padrão: {:.2f}\\n\".format(alturas_mulheres.std()))"
   ]
  },
  {
   "cell_type": "code",
   "execution_count": 287,
   "metadata": {},
   "outputs": [
    {
     "name": "stdout",
     "output_type": "stream",
     "text": [
      "15.60%\n"
     ]
    }
   ],
   "source": [
    "# d) Qual o percentual de homens com altura menor que 160cm?\n",
    "print(\"{:.2f}%\".format(100 * alturas_homens[alturas_homens < 160].count() / alturas_homens.count()))"
   ]
  },
  {
   "cell_type": "code",
   "execution_count": 288,
   "metadata": {},
   "outputs": [
    {
     "name": "stdout",
     "output_type": "stream",
     "text": [
      "2.40%\n"
     ]
    }
   ],
   "source": [
    "# e) Qual o percentual de mulheres com altura maior que 180cm?\n",
    "print(\"{:.2f}%\".format(100 * alturas_mulheres[alturas_mulheres > 180].count() / alturas_mulheres.count()))"
   ]
  },
  {
   "cell_type": "code",
   "execution_count": 289,
   "metadata": {},
   "outputs": [
    {
     "name": "stdout",
     "output_type": "stream",
     "text": [
      "percentileofscore: 73.90\n"
     ]
    }
   ],
   "source": [
    "# f) Um homem com altura 185cm está em qual percentil? (pesquise sobre a função percentileofscore do pacote scipy)\n",
    "print(\"percentileofscore: {:.2f}\".format(stats.percentileofscore(alturas_homens, 185)))"
   ]
  },
  {
   "cell_type": "code",
   "execution_count": 290,
   "metadata": {},
   "outputs": [
    {
     "name": "stdout",
     "output_type": "stream",
     "text": [
      "184.90\n"
     ]
    }
   ],
   "source": [
    "# Pela saída acima (questão 1, letra f), este homem está no percentil 73.\n",
    "print(\"{:.2f}\".format(alturas_homens.quantile(.739)))"
   ]
  },
  {
   "cell_type": "code",
   "execution_count": 291,
   "metadata": {},
   "outputs": [
    {
     "name": "stdout",
     "output_type": "stream",
     "text": [
      "percentileofscore: 14.60\n"
     ]
    }
   ],
   "source": [
    "# g) Uma mulher com altura 150cm está em qual percentil?\n",
    "print(\"percentileofscore: {:.2f}\".format(stats.percentileofscore(alturas_mulheres, 150)))"
   ]
  },
  {
   "cell_type": "code",
   "execution_count": 292,
   "metadata": {},
   "outputs": [
    {
     "name": "stdout",
     "output_type": "stream",
     "text": [
      "150.01\n"
     ]
    }
   ],
   "source": [
    "# Pela saída acima (questão 1, letra g), este homem está no percentil 14.\n",
    "print(\"{:.2f}\".format(alturas_mulheres.quantile(.146)))"
   ]
  },
  {
   "cell_type": "code",
   "execution_count": 293,
   "metadata": {},
   "outputs": [
    {
     "name": "stdout",
     "output_type": "stream",
     "text": [
      "Altura\tNº de homens\n",
      "183.22    3\n",
      "185.74    3\n",
      "169.97    3\n",
      "Name: 0, dtype: int64\n",
      "\n"
     ]
    }
   ],
   "source": [
    "# h) Quais as três alturas de homens que são as mais frequentes? Quantos homens possuem essas alturas?\n",
    "print(\"Altura\\tNº de homens\\n{}\\n\".format(alturas_homens.value_counts().head(3)))"
   ]
  },
  {
   "cell_type": "code",
   "execution_count": 294,
   "metadata": {},
   "outputs": [
    {
     "name": "stdout",
     "output_type": "stream",
     "text": [
      "Altura\tNº de mulheres\n",
      "165.12    3\n",
      "157.62    3\n",
      "156.37    3\n",
      "Name: 0, dtype: int64\n",
      "\n"
     ]
    }
   ],
   "source": [
    "# i) Quais as três alturas de mulheres que são as mais frequentes? Quantas mulheres possuem essas alturas?\n",
    "print(\"Altura\\tNº de mulheres\\n{}\\n\".format(alturas_mulheres.value_counts().head(3)))"
   ]
  },
  {
   "cell_type": "code",
   "execution_count": 295,
   "metadata": {},
   "outputs": [
    {
     "name": "stdout",
     "output_type": "stream",
     "text": [
      "0.6486743596921394\n"
     ]
    }
   ],
   "source": [
    "# j) Um homem com altura 185cm está distante quantos desvios padrões da média dos homens?\n",
    "print(\"{}\".format((185 - alturas_homens.mean()) / (alturas_homens.std())))"
   ]
  },
  {
   "cell_type": "code",
   "execution_count": 296,
   "metadata": {},
   "outputs": [
    {
     "name": "stdout",
     "output_type": "stream",
     "text": [
      "1.9613963958264284\n"
     ]
    }
   ],
   "source": [
    "# k) Um homem com altura 145cm está distante quantos desvios padrões da média dos homens?\n",
    "print(\"{}\".format(abs(145 - alturas_homens.mean()) / (alturas_homens.std())))"
   ]
  },
  {
   "cell_type": "code",
   "execution_count": 297,
   "metadata": {},
   "outputs": [
    {
     "name": "stdout",
     "output_type": "stream",
     "text": [
      "2.56469508678217\n"
     ]
    }
   ],
   "source": [
    "# l) Uma mulher com altura 185cm está distante quantos desvios padrões da média das mulheres?\n",
    "print(\"{}\".format((185 - alturas_mulheres.mean()) / (alturas_mulheres.std())))"
   ]
  },
  {
   "cell_type": "code",
   "execution_count": 298,
   "metadata": {},
   "outputs": [
    {
     "name": "stdout",
     "output_type": "stream",
     "text": [
      "1.5580637393733234\n"
     ]
    }
   ],
   "source": [
    "# m) Uma mulhere com altura 145cm está distante quantos desvios padrões da média das mulheres?\n",
    "print(\"{}\".format(abs(145 - alturas_mulheres.mean()) / (alturas_mulheres.std())))"
   ]
  },
  {
   "cell_type": "code",
   "execution_count": 299,
   "metadata": {},
   "outputs": [],
   "source": [
    "def exercicios_nop(N):\n",
    "    alturas_homens.plot.density()\n",
    "    media_h = alturas_homens.mean()\n",
    "    desvio_h = alturas_homens.std()\n",
    "    print(\"(Homens)   Média: {}\".format(media_h))\n",
    "    print(\"(Homens)   Desvio padrão: {}\".format(desvio_h))\n",
    "    diff_h = abs(N - media_h)\n",
    "    print(\"(Homens)   Distância em Desvios Padrões: {}\".format(diff_h / (desvio_h)))\n",
    "    print(\"(Homens)   Porcentagem de homens com altura menor que {}: {:.2f}%\".format(N, 100 * alturas_homens[alturas_homens < N].count() / alturas_homens.count()))\n",
    "    print(\"(Homens)   Porcentagem de homens com altura maior que {}: {:.2f}%\\n\".format(N, 100 * alturas_homens[alturas_homens > N].count() / alturas_homens.count()))\n",
    "    alturas_mulheres.plot.density()\n",
    "    media_m = alturas_mulheres.mean()\n",
    "    desvio_m = alturas_mulheres.std()\n",
    "    print(\"(Mulheres) Média: {}\".format(media_m))\n",
    "    print(\"(Mulheres) Desvio padrão: {}\".format(desvio_m))\n",
    "    diff_m = abs(N - media_m)\n",
    "    print(\"(Mulheres) Distância em Desvios Padrões: {}\".format(diff_m / (desvio_m)))\n",
    "    print(\"(Mulheres) Porcentagem de mulheres com altura menor que {}: {:.2f}%\".format(N, 100 * alturas_mulheres[alturas_mulheres < N].count() / alturas_mulheres.count()))\n",
    "    print(\"(Mulheres) Porcentagem de mulheres com altura maior que {}: {:.2f}%\\n\".format(N, 100 * alturas_mulheres[alturas_mulheres > N].count() / alturas_mulheres.count()))"
   ]
  },
  {
   "cell_type": "code",
   "execution_count": 300,
   "metadata": {},
   "outputs": [
    {
     "name": "stdout",
     "output_type": "stream",
     "text": [
      "(Homens)   Média: 175.05890000000002\n",
      "(Homens)   Desvio padrão: 15.325255039705931\n",
      "(Homens)   Distância em Desvios Padrões: 1.6351375513866075\n",
      "(Homens)   Porcentagem de homens com altura menor que 150: 5.00%\n",
      "(Homens)   Porcentagem de homens com altura maior que 150: 95.00%\n",
      "\n",
      "(Mulheres) Média: 160.11670999999998\n",
      "(Mulheres) Desvio padrão: 9.702241068828256\n",
      "(Mulheres) Distância em Desvios Padrões: 1.0427188861038867\n",
      "(Mulheres) Porcentagem de mulheres com altura menor que 150: 14.60%\n",
      "(Mulheres) Porcentagem de mulheres com altura maior que 150: 85.40%\n",
      "\n",
      "De acordo com os resultados mostrados, é mais provável que essa pessoa seja uma mulher.\n"
     ]
    },
    {
     "data": {
      "image/png": "[encoded data removed]",
      "text/plain": [
       "<Figure size 432x288 with 1 Axes>"
      ]
     },
     "metadata": {
      "needs_background": "light"
     },
     "output_type": "display_data"
    }
   ],
   "source": [
    "# n) É possível afirmar com determinado grau de confiança que uma pessoa com altura 150cm é um homem ou uma mulher?\n",
    "N = 150\n",
    "exercicios_nop(N)\n",
    "plt.axvline(x=N, color='blue', linestyle='--')\n",
    "'''\n",
    "Sim, analisando o gráfico, a Distância em desvios padrões e a Porcentagem de homens ou mulheres com altura menor \n",
    "que 150 (pois é inferior à ambas as médias), conclui-se que como a Distância é menor no caso das\n",
    "mulheres e a porcentagem em questão é maior, a probabilidade dessa pessoa ser uma mulher é maior.\n",
    "'''\n",
    "print(\"De acordo com os resultados mostrados, é mais provável que essa pessoa seja uma mulher.\")"
   ]
  },
  {
   "cell_type": "code",
   "execution_count": 301,
   "metadata": {},
   "outputs": [
    {
     "name": "stdout",
     "output_type": "stream",
     "text": [
      "(Homens)   Média: 175.05890000000002\n",
      "(Homens)   Desvio padrão: 15.325255039705931\n",
      "(Homens)   Distância em Desvios Padrões: 0.9749332041319604\n",
      "(Homens)   Porcentagem de homens com altura menor que 190: 84.30%\n",
      "(Homens)   Porcentagem de homens com altura maior que 190: 15.70%\n",
      "\n",
      "(Mulheres) Média: 160.11670999999998\n",
      "(Mulheres) Desvio padrão: 9.702241068828256\n",
      "(Mulheres) Distância em Desvios Padrões: 3.0800399400516065\n",
      "(Mulheres) Porcentagem de mulheres com altura menor que 190: 99.90%\n",
      "(Mulheres) Porcentagem de mulheres com altura maior que 190: 0.10%\n",
      "\n",
      "De acordo com os resultados mostrados, é mais provável que essa pessoa seja um homem.\n"
     ]
    },
    {
     "data": {
      "image/png": "[encoded data removed]",
      "text/plain": [
       "<Figure size 432x288 with 1 Axes>"
      ]
     },
     "metadata": {
      "needs_background": "light"
     },
     "output_type": "display_data"
    }
   ],
   "source": [
    "# o) E uma pessoa com altura 190cm?\n",
    "N = 190\n",
    "exercicios_nop(N)\n",
    "plt.axvline(x=N, color='blue', linestyle='--')\n",
    "'''\n",
    "Sim, analisando o gráfico, a Distância em desvios padrões e a Porcentagem de homens ou mulheres com altura maior \n",
    "que 190 (pois é superior à ambas as médias), conclui-se que como a Distância é menor no caso dos\n",
    "homens e a porcentagem em questão é maior, a probabilidade dessa pessoa ser um homem é maior.\n",
    "'''\n",
    "print(\"De acordo com os resultados mostrados, é mais provável que essa pessoa seja um homem.\")"
   ]
  },
  {
   "cell_type": "code",
   "execution_count": 302,
   "metadata": {},
   "outputs": [
    {
     "name": "stdout",
     "output_type": "stream",
     "text": [
      "(Homens)   Média: 175.05890000000002\n",
      "(Homens)   Desvio padrão: 15.325255039705931\n",
      "(Homens)   Distância em Desvios Padrões: 0.6563610180671445\n",
      "(Homens)   Porcentagem de homens com altura menor que 165: 25.60%\n",
      "(Homens)   Porcentagem de homens com altura maior que 165: 74.40%\n",
      "\n",
      "(Mulheres) Média: 160.11670999999998\n",
      "(Mulheres) Desvio padrão: 9.702241068828256\n",
      "(Mulheres) Distância em Desvios Padrões: 0.5033156737044232\n",
      "(Mulheres) Porcentagem de mulheres com altura menor que 165: 69.20%\n",
      "(Mulheres) Porcentagem de mulheres com altura maior que 165: 30.60%\n",
      "\n",
      "De acordo com os resultados mostrados, é mais provável que essa pessoa seja uma mulher, mas não podemos descartar a possibilidade dessa pessoa ser um homem.\n"
     ]
    },
    {
     "data": {
      "image/png": "[encoded data removed]",
      "text/plain": [
       "<Figure size 432x288 with 1 Axes>"
      ]
     },
     "metadata": {
      "needs_background": "light"
     },
     "output_type": "display_data"
    }
   ],
   "source": [
    "# p) E uma pessoa com altura 165cm?\n",
    "N = 165\n",
    "exercicios_nop(N)\n",
    "plt.axvline(x=N, color='blue', linestyle='--')\n",
    "'''\n",
    "Sim, porém, como os valores de Distância em desvios padrões são pequenos e semelhantes, essa análise\n",
    "por este meio numérico fica difícil. Pelo gráfico, nota-se que é bem mais provável que essa pessoa\n",
    "seja uma mulher, não descartando, porém, a probabilidade dessa pessoa ser um homem.\n",
    "'''\n",
    "print(\"De acordo com os resultados mostrados, é mais provável que essa pessoa seja uma mulher, \" + \n",
    "      \"mas não podemos descartar a possibilidade dessa pessoa ser um homem.\")"
   ]
  },
  {
   "cell_type": "code",
   "execution_count": 303,
   "metadata": {},
   "outputs": [
    {
     "name": "stdout",
     "output_type": "stream",
     "text": [
      "(Homens) Shapiro Test: (statistic, p-value) = (0.9987953305244446, 0.7518538236618042)\n",
      "(Mulheres) Shapiro Test: (statistic, p-value) = (0.9987332224845886, 0.710832417011261)\n",
      "AxesSubplot(0.125,0.125;0.775x0.755)\n"
     ]
    },
    {
     "data": {
      "image/png": "[encoded data removed]",
      "text/plain": [
       "<Figure size 432x288 with 1 Axes>"
      ]
     },
     "metadata": {
      "needs_background": "light"
     },
     "output_type": "display_data"
    }
   ],
   "source": [
    "# q) As alturas dos homens e mulheres seguem uma distribuição Normal?\n",
    "'''\n",
    "Sim, ambas seguem uma distribuição Normal.\n",
    "É possível observar isso pelos testes de Shapiro e pelos histogramas gerados.\n",
    "\n",
    "Refs: \n",
    "    https://towardsdatascience.com/6-ways-to-test-for-a-normal-distribution-which-one-to-use-9dcf47d8fa93\n",
    "    https://docs.scipy.org/doc/scipy/reference/generated/scipy.stats.shapiro.html\n",
    "'''\n",
    "print(\"(Homens) Shapiro Test: (statistic, p-value) = {}\".format(shapiro(alturas_homens)))\n",
    "print(\"(Mulheres) Shapiro Test: (statistic, p-value) = {}\".format(shapiro(alturas_mulheres)))\n",
    "print(alturas_homens.hist())"
   ]
  },
  {
   "cell_type": "code",
   "execution_count": 304,
   "metadata": {},
   "outputs": [
    {
     "name": "stdout",
     "output_type": "stream",
     "text": [
      "AxesSubplot(0.125,0.125;0.775x0.755)\n"
     ]
    },
    {
     "data": {
      "image/png": "[encoded data removed]",
      "text/plain": [
       "<Figure size 432x288 with 1 Axes>"
      ]
     },
     "metadata": {
      "needs_background": "light"
     },
     "output_type": "display_data"
    }
   ],
   "source": [
    "print(alturas_mulheres.hist())"
   ]
  },
  {
   "cell_type": "code",
   "execution_count": 305,
   "metadata": {},
   "outputs": [
    {
     "name": "stdout",
     "output_type": "stream",
     "text": [
      "--- alturas_homens.describe() ---\n",
      "count    1000.000000\n",
      "mean      175.058900\n",
      "std        15.325255\n",
      "min       120.050000\n",
      "25%       164.800000\n",
      "50%       174.575000\n",
      "75%       185.590000\n",
      "max       221.000000\n",
      "Name: 0, dtype: float64\n",
      "\n",
      "--- alturas_mulheres.describe() ---\n",
      "count    1000.000000\n",
      "mean      160.116710\n",
      "std         9.702241\n",
      "min       132.820000\n",
      "25%       153.597500\n",
      "50%       160.055000\n",
      "75%       166.852500\n",
      "max       190.300000\n",
      "Name: 0, dtype: float64\n"
     ]
    }
   ],
   "source": [
    "# 2) Para que serve a função \"describe()\" de uma Series?\n",
    "'''\n",
    "Resposta: Serve para gerar estatísticas descritivas que incluem aquelas\n",
    "que resumem a tendência central, a dispersão e a forma da distribuição\n",
    "de um conjunto de dados. A saída deste método varia de acordo com o que é\n",
    "fornecido para ela. É possível incluir na saída percentis e colunas não  \n",
    "numéricas, por exemplo.\n",
    "\n",
    "Em resumo, a partir de uma determinada Series, este método retorna um Series ou\n",
    "um DataFrame e possui um resumo das estatísticas.\n",
    "\n",
    "Veja abaixo a aplicação deste métodos nas Series alturas_homens e alturas_mulheres\n",
    "'''\n",
    "f = alturas_homens.describe()\n",
    "print(\"--- alturas_homens.describe() ---\\n{}\\n\".format(f))\n",
    "g = alturas_mulheres.describe()\n",
    "print(\"--- alturas_mulheres.describe() ---\\n{}\".format(g))"
   ]
  },
  {
   "cell_type": "code",
   "execution_count": 306,
   "metadata": {},
   "outputs": [
    {
     "name": "stdout",
     "output_type": "stream",
     "text": [
      "--- alturas_homens.unique() ---\n",
      "[185.24 172.64 161.96 163.68 156.02 191.98 189.86 199.45 187.44 167.37\n",
      " 176.55 167.59 179.1  185.89 169.33 168.87 164.33 170.82 159.55 172.67\n",
      " 180.7  198.36 177.06 183.35 170.87 159.79 175.42 181.83 159.43 183.77\n",
      " 161.69 178.27 202.19 184.51 185.49 175.84 145.36 164.84 199.64 170.22\n",
      " 161.64 164.21 152.95 163.62 195.44 177.25 185.19 168.11 175.19 177.4\n",
      " 151.27 182.41 173.64 170.78 170.23 218.04 207.77 160.48 187.69 138.37\n",
      " 173.34 146.57 204.05 164.88 150.17 162.98 193.3  176.73 187.12 174.25\n",
      " 174.32 188.89 181.91 175.11 164.74 165.2  172.48 177.58 186.12 144.12\n",
      " 185.79 195.56 158.8  204.1  158.68 165.43 189.61 199.22 164.13 179.05\n",
      " 203.05 194.39 166.78 170.66 185.44 178.62 164.96 170.41 166.94 196.69\n",
      " 184.85 201.62 165.87 162.82 174.08 159.2  167.55 170.11 199.6  156.9\n",
      " 196.27 175.08 191.08 188.66 170.9  174.85 174.54 155.07 188.69 199.35\n",
      " 162.23 188.92 146.12 175.44 171.48 165.56 188.31 179.67 162.36 180.23\n",
      " 171.62 163.28 151.24 167.75 169.17 177.82 169.97 180.49 150.72 177.61\n",
      " 164.   173.38 190.1  212.21 181.37 168.81 190.82 187.27 166.1  196.48\n",
      " 182.33 190.76 167.23 167.22 174.58 189.96 193.45 163.26 180.45 198.76\n",
      " 141.35 166.9  181.54 188.1  182.03 182.91 152.54 189.64 147.06 183.53\n",
      " 196.54 167.79 184.57 172.05 189.52 199.   194.19 164.05 177.44 146.22\n",
      " 175.22 190.41 176.77 195.13 171.67 158.11 153.62 210.52 192.62 165.54\n",
      " 151.57 167.96 184.34 163.35 160.34 169.93 204.35 161.43 140.85 203.31\n",
      " 189.38 192.57 211.07 197.51 192.26 170.85 166.71 158.27 172.99 181.71\n",
      " 185.13 162.34 186.2  179.58 188.53 156.51 171.56 173.96 163.46 189.31\n",
      " 188.79 158.66 183.4  217.06 164.54 175.47 172.96 172.7  174.59 170.59\n",
      " 164.8  213.96 174.07 163.67 165.25 192.55 171.61 161.47 155.08 139.26\n",
      " 169.85 165.09 207.43 186.34 155.84 156.05 184.23 185.16 155.8  150.98\n",
      " 193.28 169.43 176.14 174.02 211.35 171.06 139.21 163.42 166.22 187.61\n",
      " 180.57 189.51 182.43 152.17 184.61 179.87 138.61 196.49 189.97 169.16\n",
      " 188.08 167.95 150.32 161.32 202.12 159.01 206.33 176.37 172.72 188.57\n",
      " 153.26 188.26 217.74 178.15 169.12 177.01 200.23 181.11 183.22 172.3\n",
      " 171.9  162.5  177.07 189.75 165.02 183.78 179.28 157.39 133.85 174.68\n",
      " 165.04 143.67 176.79 175.6  174.06 144.5  177.56 170.04 164.47 176.57\n",
      " 198.56 180.75 160.96 181.31 173.76 183.99 196.13 199.63 186.   216.63\n",
      " 160.56 144.27 170.84 146.61 195.3  184.64 163.2  176.86 181.84 185.59\n",
      " 154.75 161.38 178.69 172.62 168.04 183.62 181.07 166.09 165.77 173.8\n",
      " 174.38 181.12 161.6  171.07 174.78 166.53 183.98 174.97 167.36 173.91\n",
      " 184.46 194.24 194.89 173.98 194.72 167.45 201.35 189.78 176.33 208.68\n",
      " 156.34 182.55 167.48 183.73 161.76 190.78 187.71 153.3  161.11 184.19\n",
      " 188.22 179.92 142.94 173.72 155.04 190.16 182.83 183.9  204.79 171.29\n",
      " 162.99 178.   198.32 189.11 179.47 168.98 193.7  178.6  202.5  172.08\n",
      " 188.84 148.95 173.83 193.1  203.54 155.27 162.06 181.88 165.51 159.29\n",
      " 162.01 188.62 156.84 183.48 199.86 153.21 167.94 172.94 176.75 186.29\n",
      " 179.53 152.97 183.76 173.69 160.84 177.75 201.27 186.36 174.44 173.21\n",
      " 182.26 174.57 187.72 177.13 162.79 164.09 188.63 171.31 153.51 180.83\n",
      " 196.21 161.56 189.88 166.72 165.55 163.49 170.58 171.57 180.26 205.67\n",
      " 183.01 182.14 190.13 183.86 170.92 198.04 174.98 165.37 166.86 167.43\n",
      " 184.86 170.98 178.54 182.53 187.82 174.72 195.6  200.07 183.71 162.85\n",
      " 171.3  201.03 173.27 154.16 174.41 195.62 207.6  171.41 184.8  154.94\n",
      " 120.05 175.48 175.93 179.22 172.18 156.86 185.57 149.55 154.52 196.57\n",
      " 181.97 154.26 179.57 174.77 168.92 158.35 170.93 189.15 193.93 178.25\n",
      " 185.72 166.15 172.8  174.14 174.17 193.66 198.62 164.34 177.74 161.23\n",
      " 169.21 149.09 171.27 183.46 192.51 163.04 188.35 164.79 183.15 157.62\n",
      " 175.54 152.4  149.96 190.45 180.47 189.39 164.4  179.91 191.   205.43\n",
      " 169.09 186.99 172.16 177.63 181.68 210.64 169.44 205.54 174.86 200.66\n",
      " 175.37 142.62 172.86 173.4  147.31 162.64 161.82 174.43 193.36 174.6\n",
      " 200.25 194.3  176.85 181.29 173.89 159.56 168.97 191.22 188.64 186.76\n",
      " 163.34 172.76 201.38 191.56 192.33 170.28 183.27 185.86 170.24 180.86\n",
      " 180.32 176.13 143.9  176.44 140.12 140.33 198.12 168.08 170.75 191.12\n",
      " 187.39 168.63 202.05 155.44 163.52 144.66 184.03 180.34 201.65 179.72\n",
      " 151.75 177.15 151.49 152.07 167.15 171.28 154.82 177.21 182.52 167.88\n",
      " 199.88 163.41 166.2  157.36 187.13 168.89 178.96 171.86 154.64 151.45\n",
      " 189.2  160.74 187.67 200.55 174.45 160.37 175.26 176.11 177.54 175.36\n",
      " 172.23 178.8  188.97 155.05 159.75 179.34 193.38 173.53 185.74 144.78\n",
      " 196.41 157.98 163.43 172.9  177.91 177.11 152.5  150.6  167.04 170.94\n",
      " 165.1  183.63 180.4  164.95 147.99 198.45 186.07 204.28 175.73 189.44\n",
      " 187.45 176.69 164.58 164.06 138.62 184.67 178.43 170.29 195.11 202.26\n",
      " 146.84 196.73 151.92 198.11 159.15 159.95 170.71 177.1  209.19 176.41\n",
      " 189.71 153.34 139.88 180.14 183.89 161.29 159.18 192.59 158.98 156.64\n",
      " 184.82 160.66 169.99 163.17 161.45 147.5  173.55 168.18 156.71 194.17\n",
      " 175.31 183.56 185.03 182.48 180.01 135.76 187.4  173.95 158.9  206.3\n",
      " 179.89 167.49 174.92 171.78 174.13 185.64 178.09 160.42 169.32 166.21\n",
      " 166.69 191.67 181.28 171.72 211.05 185.97 169.68 174.95 186.93 168.12\n",
      " 162.37 188.88 191.01 175.68 167.66 159.82 181.3  158.39 160.44 183.17\n",
      " 174.88 165.69 187.22 179.96 184.72 192.27 172.12 175.14 183.37 173.16\n",
      " 172.47 148.86 135.45 161.74 188.61 155.63 184.52 131.99 139.01 183.02\n",
      " 165.53 221.   173.56 174.29 154.22 187.94 162.54 180.46 146.69 156.11\n",
      " 177.39 172.79 191.7  178.86 192.61 175.58 189.22 153.66 147.51 163.19\n",
      " 171.53 193.08 190.39 181.73 158.06 172.28 185.82 197.45 173.99 176.26\n",
      " 155.92 170.08 170.8  152.73 174.34 171.01 178.12 182.22 180.87 196.37\n",
      " 156.45 169.06 169.83 188.5  166.25 194.94 142.58 173.74 166.16 153.16\n",
      " 180.19 170.76 155.68 178.24 171.99 174.73 189.32 179.32 175.78 159.93\n",
      " 169.73 211.16 209.13 171.2  171.35 180.73 180.56 196.98 203.48 143.6\n",
      " 192.83 172.09 177.71 190.93 153.37 151.13 161.02 193.59 169.07 191.64\n",
      " 170.95 175.71 163.14 145.13 145.94 153.93 188.06 203.78 161.99 159.63\n",
      " 175.65 186.82 180.98 167.7  187.74 195.63 191.75 178.38 195.77 198.75\n",
      " 152.15 179.66 149.86 140.36 173.58 180.43 181.16 121.84 168.64 173.22\n",
      " 156.6  188.56 183.45 194.51 159.77 154.25 157.09 169.55 156.44 175.06\n",
      " 197.91 152.25 192.14 184.55 162.07 187.31 177.52 161.75 165.17 184.49\n",
      " 177.62 167.03 182.64 156.79 170.97 176.74 170.35 182.88 155.94 190.74\n",
      " 190.31 176.98 181.95 188.59 188.72 159.36 185.27 181.49 147.23 173.1\n",
      " 164.75 173.36 154.06 164.48 190.22 190.19 203.4  170.51 171.65 164.83\n",
      " 181.92 163.39 155.32 162.47 177.79 186.31 178.75 171.91 181.22 162.8 ]\n",
      "\n",
      "--- alturas_mulheres.unique() ---\n",
      "[162.14 146.68 159.95 171.98 139.35 172.51 149.99 162.18 152.11 155.23\n",
      " 142.68 165.14 151.88 152.9  172.92 170.06 159.08 159.98 161.55 175.87\n",
      " 153.06 154.21 183.84 154.55 175.36 138.49 159.99 161.23 160.75 163.27\n",
      " 173.38 176.79 176.96 154.18 174.69 158.36 168.93 167.8  163.24 161.97\n",
      " 168.31 158.55 162.1  145.09 176.31 149.39 179.12 154.49 165.85 172.54\n",
      " 166.15 156.99 172.16 145.52 149.96 151.67 174.51 177.22 172.58 159.12\n",
      " 173.84 161.57 151.21 169.58 180.12 170.69 190.3  167.12 147.88 160.81\n",
      " 169.14 166.   171.57 158.95 166.2  167.21 153.66 153.69 156.86 167.44\n",
      " 185.2  166.87 156.77 164.68 157.61 155.7  142.18 149.26 157.58 155.08\n",
      " 169.85 150.13 167.83 154.24 161.2  132.82 151.02 173.73 174.88 166.3\n",
      " 139.96 143.51 149.88 161.78 166.06 136.09 144.78 169.26 170.22 160.02\n",
      " 154.01 145.84 162.65 176.8  171.82 146.67 161.37 152.57 159.29 143.85\n",
      " 154.12 159.53 149.58 153.22 175.63 150.94 154.72 150.42 176.81 155.87\n",
      " 163.36 166.82 154.34 161.09 142.15 166.26 158.94 153.59 147.84 161.38\n",
      " 152.73 160.12 161.17 160.26 170.94 155.9  168.26 153.32 153.9  162.68\n",
      " 146.45 159.66 156.44 173.64 138.95 169.79 155.64 165.07 155.05 168.78\n",
      " 149.83 155.73 154.9  157.13 149.04 157.12 170.46 161.48 160.83 159.28\n",
      " 160.01 158.34 140.49 142.7  144.37 166.66 148.57 151.82 152.38 171.67\n",
      " 160.91 165.79 170.2  161.82 151.48 161.33 167.89 160.44 161.08 165.97\n",
      " 157.24 146.69 155.09 156.33 167.77 167.49 158.28 162.92 150.08 165.94\n",
      " 164.17 167.13 165.65 155.45 143.83 158.06 161.02 164.01 159.55 161.56\n",
      " 169.95 165.06 168.04 173.66 159.23 145.63 172.75 151.68 174.31 154.71\n",
      " 163.79 161.71 165.7  156.05 167.97 171.42 144.41 157.05 141.2  150.77\n",
      " 164.02 166.85 158.56 166.28 161.22 168.29 152.64 161.39 142.23 176.21\n",
      " 162.98 160.53 161.18 147.1  164.23 141.32 151.51 149.5  172.33 167.79\n",
      " 160.14 146.8  163.8  175.95 166.9  169.83 153.   171.86 163.35 151.86\n",
      " 179.61 157.54 150.87 161.28 185.93 152.03 141.34 164.83 153.88 163.05\n",
      " 177.34 171.81 175.   159.81 170.51 166.61 178.41 165.12 165.33 155.88\n",
      " 170.37 161.52 165.93 151.85 168.63 169.91 154.8  168.85 163.56 160.59\n",
      " 151.71 170.57 139.3  158.48 169.05 158.73 151.58 159.48 155.34 143.07\n",
      " 155.86 185.52 171.4  162.29 154.92 166.13 175.39 149.77 154.28 149.84\n",
      " 172.29 154.85 151.12 166.86 170.36 170.55 151.27 151.19 182.85 162.6\n",
      " 157.8  163.65 174.38 146.58 145.32 162.32 180.71 156.9  174.73 151.24\n",
      " 156.65 156.71 169.76 165.   174.02 155.78 158.07 149.9  155.66 167.\n",
      " 147.27 163.83 162.46 176.17 172.17 164.74 169.09 150.79 158.2  160.06\n",
      " 174.22 170.04 152.17 178.35 166.01 160.43 163.77 152.96 167.81 149.95\n",
      " 144.72 164.85 154.42 155.03 151.49 142.59 162.5  164.57 169.5  182.67\n",
      " 164.92 163.82 158.44 179.48 168.06 160.29 150.58 154.33 153.48 159.3\n",
      " 170.47 153.43 171.59 154.03 151.69 150.02 146.16 140.16 144.25 159.38\n",
      " 164.89 134.3  159.96 145.67 147.38 144.51 151.56 148.38 172.25 157.33\n",
      " 140.4  175.53 139.6  146.15 168.43 166.65 150.54 156.56 163.61 156.38\n",
      " 151.32 154.11 166.33 153.73 158.12 152.79 174.3  143.79 154.48 161.61\n",
      " 153.55 146.81 153.01 157.02 151.55 148.87 169.56 170.89 156.2  154.79\n",
      " 156.81 171.93 175.47 157.81 160.78 174.76 157.74 154.6  158.92 135.2\n",
      " 157.04 152.39 173.7  166.54 169.4  164.42 169.38 158.93 160.5  156.95\n",
      " 150.59 159.06 166.69 156.37 167.56 150.98 164.12 170.17 167.76 168.05\n",
      " 164.03 172.86 161.98 158.18 154.89 173.52 156.13 164.67 163.39 158.51\n",
      " 148.88 144.02 148.64 152.   164.37 166.39 153.6  157.62 156.69 170.52\n",
      " 162.4  151.13 153.96 155.79 182.3  155.48 159.31 153.65 158.1  160.45\n",
      " 156.06 154.4  162.83 145.93 163.97 156.55 162.2  163.58 163.45 150.67\n",
      " 178.55 162.02 176.35 157.95 161.49 169.99 156.94 155.61 150.52 164.13\n",
      " 150.74 159.67 181.8  167.74 146.39 149.48 155.12 170.31 152.51 167.45\n",
      " 163.95 159.88 147.21 153.71 155.57 140.95 153.72 167.09 153.24 152.5\n",
      " 156.45 179.67 147.02 164.51 167.26 144.44 154.81 164.15 147.61 160.15\n",
      " 154.86 156.25 165.45 168.33 151.42 170.07 163.49 141.29 175.31 158.41\n",
      " 154.91 158.71 158.33 162.13 174.91 177.29 178.42 157.94 167.94 163.21\n",
      " 152.27 165.4  159.42 162.37 173.48 172.71 146.08 142.4  147.28 135.3\n",
      " 167.18 168.58 170.92 159.16 180.14 156.19 166.27 159.18 171.6  160.05\n",
      " 165.03 155.99 170.48 157.23 169.82 155.07 172.66 155.   161.12 152.91\n",
      " 162.9  146.33 157.16 155.29 146.41 159.32 161.54 138.52 157.09 181.65\n",
      " 167.3  165.83 156.93 166.94 174.23 173.44 162.66 171.18 160.94 149.46\n",
      " 152.78 156.68 170.27 154.05 158.09 170.85 150.24 178.57 177.49 152.15\n",
      " 145.21 165.15 161.86 159.27 160.67 164.47 171.83 159.41 162.19 148.23\n",
      " 162.73 132.96 157.96 159.86 172.14 164.61 145.62 166.43 158.74 150.37\n",
      " 149.93 168.89 155.41 150.23 156.78 147.57 173.58 177.92 156.92 142.58\n",
      " 179.8  137.59 152.8  167.19 161.11 162.44 153.78 167.01 189.46 167.62\n",
      " 153.74 149.73 163.1  157.03 183.85 174.1  167.67 164.6  162.75 160.33\n",
      " 154.7  149.55 149.2  169.21 146.63 154.09 164.29 166.08 158.85 160.22\n",
      " 173.41 162.96 150.45 167.5  150.19 151.93 172.52 153.03 157.51 149.47\n",
      " 144.61 156.83 146.14 150.69 142.75 169.   156.08 163.15 140.23 163.17\n",
      " 163.08 161.76 181.3  162.48 167.16 152.04 155.85 148.56 159.35 155.1\n",
      " 146.87 162.94 145.65 174.45 181.73 165.43 180.69 155.24 168.01 169.72\n",
      " 164.7  146.53 152.37 149.7  166.22 167.87 183.33 147.39 157.77 141.06\n",
      " 172.05 161.77 150.57 169.77 154.23 167.48 143.72 168.64 146.49 162.82\n",
      " 181.56 158.91 179.43 149.97 160.52 144.03 141.85 145.38 156.   171.51\n",
      " 156.75 153.62 183.   148.   168.96 164.65 160.84 159.11 154.52 153.09\n",
      " 168.97 155.27 165.48 150.01 154.73 151.4  179.93 144.08 163.41 160.7\n",
      " 144.18 160.35 143.96 173.14 162.51 155.21 155.38 168.81 159.74 150.14\n",
      " 168.92 167.7  147.78 147.89 167.05 163.04 163.85 137.33 160.68 148.75\n",
      " 166.05 160.79 164.76 169.29 157.49 146.01 165.28 156.29 169.12 167.53\n",
      " 150.36 163.31 152.48 145.73 166.72 152.41 173.45 147.3  160.95 152.92\n",
      " 164.73 153.3  162.97 160.51 165.24 183.7  165.8  155.92 153.97 170.91\n",
      " 143.37 145.02 147.93 159.5  159.22 152.53 161.58 165.16 162.15 174.14\n",
      " 172.55 161.9  158.46 166.35 163.28 180.43 165.32 160.21 155.49 154.93\n",
      " 159.56 141.6  157.79 154.15 154.58 167.1  152.98 164.46 164.71 164.99\n",
      " 164.8  172.77 163.51 170.99 182.25 174.99 156.09 143.81 158.79 157.44\n",
      " 164.82 159.97 164.26 159.69 174.66 161.83 161.63 167.84 149.25]\n"
     ]
    }
   ],
   "source": [
    "# 3) Para que serve a função \"unique()\" de uma Series?\n",
    "'''\n",
    "Resposta: Serve para gerar um Series com valores únicos, sem repetição.\n",
    "A Series resultante é ordenada de acordo com a ordem de aparição dos elementos no Series\n",
    "original. O método é baseado em uma tabela Hash de elementos únicos, e portanto não realiza\n",
    "ordenação.\n",
    "\n",
    "Em resumo, a partir de uma determinada Series, é retornado um ndarray ou\n",
    "um ExtensionArray. Os valores únicos são retornados com um array NumPy\n",
    "\n",
    "Veja abaixo a aplicação deste métodos nas Series alturas_homens e alturas_mulheres\n",
    "'''\n",
    "f = alturas_homens.unique()\n",
    "print(\"--- alturas_homens.unique() ---\\n{}\\n\".format(f))\n",
    "g = alturas_mulheres.unique()\n",
    "print(\"--- alturas_mulheres.unique() ---\\n{}\".format(g))"
   ]
  }
 ],
 "metadata": {
  "kernelspec": {
   "display_name": "Python 3",
   "language": "python",
   "name": "python3"
  },
  "language_info": {
   "codemirror_mode": {
    "name": "ipython",
    "version": 3
   },
   "file_extension": ".py",
   "mimetype": "text/x-python",
   "name": "python",
   "nbconvert_exporter": "python",
   "pygments_lexer": "ipython3",
   "version": "3.8.5"
  }
 },
 "nbformat": 4,
 "nbformat_minor": 4
}
